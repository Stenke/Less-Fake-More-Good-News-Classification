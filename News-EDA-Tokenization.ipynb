{
 "cells": [
  {
   "cell_type": "markdown",
   "metadata": {},
   "source": [
    "\"Disinformation is often worse than no information at all...\" - Ibiki Morino, Naruto"
   ]
  },
  {
   "cell_type": "code",
   "execution_count": 157,
   "metadata": {
    "scrolled": false
   },
   "outputs": [],
   "source": [
    "import pandas as pd\n",
    "import numpy as np\n",
    "import nltk \n",
    "import re\n",
    "from pandas_profiling import ProfileReport\n",
    "import matplotlib.pyplot as plt\n",
    "%matplotlib inline\n",
    "import seaborn as sns \n",
    "import sklearn.metrics\n",
    "import time\n",
    "from sklearn.feature_extraction.text import CountVectorizer, TfidfVectorizer\n",
    "from sklearn.model_selection import train_test_split\n",
    "from sklearn.preprocessing import LabelEncoder\n",
    "from sklearn.naive_bayes import GaussianNB\n",
    "from sklearn.linear_model import LogisticRegression\n",
    "from sklearn.svm import SVC\n",
    "from xgboost import XGBClassifier\n",
    "from sklearn.ensemble import RandomForestClassifier\n",
    "from sklearn.metrics import classification_report,confusion_matrix,mean_squared_error\n",
    "from sklearn.metrics import precision_score, recall_score, accuracy_score, f1_score, average_precision_score\n",
    "sns.set_style(\"darkgrid\")\n",
    "sns.set_palette(\"Set2\", 8, 0.5)\n",
    "\n",
    "%run -i \"Functions/print_metrics.py\""
   ]
  },
  {
   "cell_type": "code",
   "execution_count": 3,
   "metadata": {},
   "outputs": [
    {
     "data": {
      "text/html": [
       "<div>\n",
       "<style scoped>\n",
       "    .dataframe tbody tr th:only-of-type {\n",
       "        vertical-align: middle;\n",
       "    }\n",
       "\n",
       "    .dataframe tbody tr th {\n",
       "        vertical-align: top;\n",
       "    }\n",
       "\n",
       "    .dataframe thead th {\n",
       "        text-align: right;\n",
       "    }\n",
       "</style>\n",
       "<table border=\"1\" class=\"dataframe\">\n",
       "  <thead>\n",
       "    <tr style=\"text-align: right;\">\n",
       "      <th></th>\n",
       "      <th>author</th>\n",
       "      <th>published</th>\n",
       "      <th>title</th>\n",
       "      <th>text</th>\n",
       "      <th>language</th>\n",
       "      <th>site_url</th>\n",
       "      <th>main_img_url</th>\n",
       "      <th>type</th>\n",
       "      <th>label</th>\n",
       "      <th>title_without_stopwords</th>\n",
       "      <th>text_without_stopwords</th>\n",
       "      <th>hasImage</th>\n",
       "    </tr>\n",
       "  </thead>\n",
       "  <tbody>\n",
       "    <tr>\n",
       "      <th>0</th>\n",
       "      <td>Barracuda Brigade</td>\n",
       "      <td>2016-10-26T21:41:00.000+03:00</td>\n",
       "      <td>muslims busted they stole millions in govt ben...</td>\n",
       "      <td>print they should pay all the back all the mon...</td>\n",
       "      <td>english</td>\n",
       "      <td>100percentfedup.com</td>\n",
       "      <td>http://bb4sp.com/wp-content/uploads/2016/10/Fu...</td>\n",
       "      <td>bias</td>\n",
       "      <td>Real</td>\n",
       "      <td>muslims busted stole millions govt benefits</td>\n",
       "      <td>print pay back money plus interest entire fami...</td>\n",
       "      <td>1.0</td>\n",
       "    </tr>\n",
       "    <tr>\n",
       "      <th>1</th>\n",
       "      <td>reasoning with facts</td>\n",
       "      <td>2016-10-29T08:47:11.259+03:00</td>\n",
       "      <td>re why did attorney general loretta lynch plea...</td>\n",
       "      <td>why did attorney general loretta lynch plead t...</td>\n",
       "      <td>english</td>\n",
       "      <td>100percentfedup.com</td>\n",
       "      <td>http://bb4sp.com/wp-content/uploads/2016/10/Fu...</td>\n",
       "      <td>bias</td>\n",
       "      <td>Real</td>\n",
       "      <td>attorney general loretta lynch plead fifth</td>\n",
       "      <td>attorney general loretta lynch plead fifth bar...</td>\n",
       "      <td>1.0</td>\n",
       "    </tr>\n",
       "    <tr>\n",
       "      <th>2</th>\n",
       "      <td>Barracuda Brigade</td>\n",
       "      <td>2016-10-31T01:41:49.479+02:00</td>\n",
       "      <td>breaking weiner cooperating with fbi on hillar...</td>\n",
       "      <td>red state  \\nfox news sunday reported this mor...</td>\n",
       "      <td>english</td>\n",
       "      <td>100percentfedup.com</td>\n",
       "      <td>http://bb4sp.com/wp-content/uploads/2016/10/Fu...</td>\n",
       "      <td>bias</td>\n",
       "      <td>Real</td>\n",
       "      <td>breaking weiner cooperating fbi hillary email ...</td>\n",
       "      <td>red state fox news sunday reported morning ant...</td>\n",
       "      <td>1.0</td>\n",
       "    </tr>\n",
       "    <tr>\n",
       "      <th>3</th>\n",
       "      <td>Fed Up</td>\n",
       "      <td>2016-11-01T05:22:00.000+02:00</td>\n",
       "      <td>pin drop speech by father of daughter kidnappe...</td>\n",
       "      <td>email kayla mueller was a prisoner and torture...</td>\n",
       "      <td>english</td>\n",
       "      <td>100percentfedup.com</td>\n",
       "      <td>http://100percentfedup.com/wp-content/uploads/...</td>\n",
       "      <td>bias</td>\n",
       "      <td>Real</td>\n",
       "      <td>pin drop speech father daughter kidnapped kill...</td>\n",
       "      <td>email kayla mueller prisoner tortured isis cha...</td>\n",
       "      <td>1.0</td>\n",
       "    </tr>\n",
       "    <tr>\n",
       "      <th>4</th>\n",
       "      <td>Fed Up</td>\n",
       "      <td>2016-11-01T21:56:00.000+02:00</td>\n",
       "      <td>fantastic trumps  point plan to reform healthc...</td>\n",
       "      <td>email healthcare reform to make america great ...</td>\n",
       "      <td>english</td>\n",
       "      <td>100percentfedup.com</td>\n",
       "      <td>http://100percentfedup.com/wp-content/uploads/...</td>\n",
       "      <td>bias</td>\n",
       "      <td>Real</td>\n",
       "      <td>fantastic trumps point plan reform healthcare ...</td>\n",
       "      <td>email healthcare reform make america great sin...</td>\n",
       "      <td>1.0</td>\n",
       "    </tr>\n",
       "  </tbody>\n",
       "</table>\n",
       "</div>"
      ],
      "text/plain": [
       "                 author                      published  \\\n",
       "0     Barracuda Brigade  2016-10-26T21:41:00.000+03:00   \n",
       "1  reasoning with facts  2016-10-29T08:47:11.259+03:00   \n",
       "2     Barracuda Brigade  2016-10-31T01:41:49.479+02:00   \n",
       "3                Fed Up  2016-11-01T05:22:00.000+02:00   \n",
       "4                Fed Up  2016-11-01T21:56:00.000+02:00   \n",
       "\n",
       "                                               title  \\\n",
       "0  muslims busted they stole millions in govt ben...   \n",
       "1  re why did attorney general loretta lynch plea...   \n",
       "2  breaking weiner cooperating with fbi on hillar...   \n",
       "3  pin drop speech by father of daughter kidnappe...   \n",
       "4  fantastic trumps  point plan to reform healthc...   \n",
       "\n",
       "                                                text language  \\\n",
       "0  print they should pay all the back all the mon...  english   \n",
       "1  why did attorney general loretta lynch plead t...  english   \n",
       "2  red state  \\nfox news sunday reported this mor...  english   \n",
       "3  email kayla mueller was a prisoner and torture...  english   \n",
       "4  email healthcare reform to make america great ...  english   \n",
       "\n",
       "              site_url                                       main_img_url  \\\n",
       "0  100percentfedup.com  http://bb4sp.com/wp-content/uploads/2016/10/Fu...   \n",
       "1  100percentfedup.com  http://bb4sp.com/wp-content/uploads/2016/10/Fu...   \n",
       "2  100percentfedup.com  http://bb4sp.com/wp-content/uploads/2016/10/Fu...   \n",
       "3  100percentfedup.com  http://100percentfedup.com/wp-content/uploads/...   \n",
       "4  100percentfedup.com  http://100percentfedup.com/wp-content/uploads/...   \n",
       "\n",
       "   type label                            title_without_stopwords  \\\n",
       "0  bias  Real        muslims busted stole millions govt benefits   \n",
       "1  bias  Real         attorney general loretta lynch plead fifth   \n",
       "2  bias  Real  breaking weiner cooperating fbi hillary email ...   \n",
       "3  bias  Real  pin drop speech father daughter kidnapped kill...   \n",
       "4  bias  Real  fantastic trumps point plan reform healthcare ...   \n",
       "\n",
       "                              text_without_stopwords  hasImage  \n",
       "0  print pay back money plus interest entire fami...       1.0  \n",
       "1  attorney general loretta lynch plead fifth bar...       1.0  \n",
       "2  red state fox news sunday reported morning ant...       1.0  \n",
       "3  email kayla mueller prisoner tortured isis cha...       1.0  \n",
       "4  email healthcare reform make america great sin...       1.0  "
      ]
     },
     "execution_count": 3,
     "metadata": {},
     "output_type": "execute_result"
    }
   ],
   "source": [
    "# Load dataset\n",
    "df = pd.read_csv('news_articles.csv')\n",
    "\n",
    "df.head()"
   ]
  },
  {
   "cell_type": "code",
   "execution_count": 4,
   "metadata": {},
   "outputs": [
    {
     "data": {
      "text/plain": [
       "presstv.ir               100\n",
       "returnofkings.com        100\n",
       "naturalnews.com          100\n",
       "activistpost.com         100\n",
       "prisonplanet.com         100\n",
       "                        ... \n",
       "therussophile.org          1\n",
       "allnewspipeline.com        1\n",
       "projectveritas.com         1\n",
       "globalresearch.ca          1\n",
       "defenddemocracy.press      1\n",
       "Name: site_url, Length: 68, dtype: int64"
      ]
     },
     "execution_count": 4,
     "metadata": {},
     "output_type": "execute_result"
    }
   ],
   "source": [
    "df.site_url.value_counts()"
   ]
  },
  {
   "cell_type": "code",
   "execution_count": 5,
   "metadata": {
    "scrolled": true
   },
   "outputs": [
    {
     "data": {
      "text/plain": [
       "author                      0\n",
       "published                   0\n",
       "title                       0\n",
       "text                       46\n",
       "language                    1\n",
       "site_url                    1\n",
       "main_img_url                1\n",
       "type                        1\n",
       "label                       1\n",
       "title_without_stopwords     2\n",
       "text_without_stopwords     50\n",
       "hasImage                    1\n",
       "dtype: int64"
      ]
     },
     "execution_count": 5,
     "metadata": {},
     "output_type": "execute_result"
    }
   ],
   "source": [
    "df.isnull().sum()"
   ]
  },
  {
   "cell_type": "code",
   "execution_count": 6,
   "metadata": {},
   "outputs": [
    {
     "data": {
      "text/plain": [
       "'print pay back money plus interest entire family everyone came need deported asap take two years bust go another group stealing government taxpayers group somalis stole four million government benefits months weve reported numerous cases like one muslim refugeesimmigrants commit fraud scamming systemits way control related'"
      ]
     },
     "execution_count": 6,
     "metadata": {},
     "output_type": "execute_result"
    }
   ],
   "source": [
    "df['text_without_stopwords'][0]"
   ]
  },
  {
   "cell_type": "code",
   "execution_count": 7,
   "metadata": {},
   "outputs": [
    {
     "data": {
      "text/plain": [
       "No Author                              505\n",
       "Activist Post                           82\n",
       "EdJenner                                73\n",
       "noreply@blogger.com (Der Postillon)     72\n",
       "-NO AUTHOR-                             58\n",
       "                                      ... \n",
       "Bloodydagger                             1\n",
       "Jon Burbulis                             1\n",
       "Brock Robinson                           1\n",
       "Nancy Moore                              1\n",
       "Peeple                                   1\n",
       "Name: author, Length: 491, dtype: int64"
      ]
     },
     "execution_count": 7,
     "metadata": {},
     "output_type": "execute_result"
    }
   ],
   "source": [
    "# Author does not look like a useful column... also would lead to overfitting\n",
    "df['author'].value_counts()"
   ]
  },
  {
   "cell_type": "code",
   "execution_count": 8,
   "metadata": {},
   "outputs": [],
   "source": [
    "# Dropping the 50 or so rows with NaN for tezt\n",
    "df = df[df['text'].notna()]"
   ]
  },
  {
   "cell_type": "code",
   "execution_count": 9,
   "metadata": {},
   "outputs": [
    {
     "data": {
      "text/plain": [
       "0"
      ]
     },
     "execution_count": 9,
     "metadata": {},
     "output_type": "execute_result"
    }
   ],
   "source": [
    "df.text.isnull().sum()"
   ]
  },
  {
   "cell_type": "code",
   "execution_count": 10,
   "metadata": {},
   "outputs": [
    {
     "name": "stdout",
     "output_type": "stream",
     "text": [
      "<class 'pandas.core.frame.DataFrame'>\n",
      "Int64Index: 2050 entries, 0 to 2049\n",
      "Data columns (total 12 columns):\n",
      " #   Column                   Non-Null Count  Dtype  \n",
      "---  ------                   --------------  -----  \n",
      " 0   author                   2050 non-null   object \n",
      " 1   published                2050 non-null   object \n",
      " 2   title                    2050 non-null   object \n",
      " 3   text                     2050 non-null   object \n",
      " 4   language                 2050 non-null   object \n",
      " 5   site_url                 2050 non-null   object \n",
      " 6   main_img_url             2050 non-null   object \n",
      " 7   type                     2050 non-null   object \n",
      " 8   label                    2050 non-null   object \n",
      " 9   title_without_stopwords  2049 non-null   object \n",
      " 10  text_without_stopwords   2046 non-null   object \n",
      " 11  hasImage                 2050 non-null   float64\n",
      "dtypes: float64(1), object(11)\n",
      "memory usage: 208.2+ KB\n"
     ]
    }
   ],
   "source": [
    "df.info()"
   ]
  },
  {
   "cell_type": "code",
   "execution_count": 11,
   "metadata": {},
   "outputs": [],
   "source": [
    "# Our primary analysis will be on predicting labels \"Real\" & \"Fake\" using the text provided\n",
    "# A secondary analysis could be to attempt to run multiclassification on the predicting the types with text\n",
    "# It will be interesting. to analyze the given \"type\" analysis with our own sentiment analysis\n",
    "text = df[['label', 'type', 'text', 'title', 'author', 'site_url']]"
   ]
  },
  {
   "cell_type": "code",
   "execution_count": 12,
   "metadata": {},
   "outputs": [],
   "source": [
    "# About 50 rows with null values to drop...\n",
    "text = text.dropna(axis=0)"
   ]
  },
  {
   "cell_type": "code",
   "execution_count": 13,
   "metadata": {},
   "outputs": [
    {
     "data": {
      "text/html": [
       "<div>\n",
       "<style scoped>\n",
       "    .dataframe tbody tr th:only-of-type {\n",
       "        vertical-align: middle;\n",
       "    }\n",
       "\n",
       "    .dataframe tbody tr th {\n",
       "        vertical-align: top;\n",
       "    }\n",
       "\n",
       "    .dataframe thead th {\n",
       "        text-align: right;\n",
       "    }\n",
       "</style>\n",
       "<table border=\"1\" class=\"dataframe\">\n",
       "  <thead>\n",
       "    <tr style=\"text-align: right;\">\n",
       "      <th></th>\n",
       "      <th>label</th>\n",
       "      <th>type</th>\n",
       "      <th>text</th>\n",
       "      <th>title</th>\n",
       "      <th>author</th>\n",
       "      <th>site_url</th>\n",
       "    </tr>\n",
       "  </thead>\n",
       "  <tbody>\n",
       "    <tr>\n",
       "      <th>0</th>\n",
       "      <td>Real</td>\n",
       "      <td>bias</td>\n",
       "      <td>print they should pay all the back all the mon...</td>\n",
       "      <td>muslims busted they stole millions in govt ben...</td>\n",
       "      <td>Barracuda Brigade</td>\n",
       "      <td>100percentfedup.com</td>\n",
       "    </tr>\n",
       "    <tr>\n",
       "      <th>1</th>\n",
       "      <td>Real</td>\n",
       "      <td>bias</td>\n",
       "      <td>why did attorney general loretta lynch plead t...</td>\n",
       "      <td>re why did attorney general loretta lynch plea...</td>\n",
       "      <td>reasoning with facts</td>\n",
       "      <td>100percentfedup.com</td>\n",
       "    </tr>\n",
       "    <tr>\n",
       "      <th>2</th>\n",
       "      <td>Real</td>\n",
       "      <td>bias</td>\n",
       "      <td>red state  \\nfox news sunday reported this mor...</td>\n",
       "      <td>breaking weiner cooperating with fbi on hillar...</td>\n",
       "      <td>Barracuda Brigade</td>\n",
       "      <td>100percentfedup.com</td>\n",
       "    </tr>\n",
       "    <tr>\n",
       "      <th>3</th>\n",
       "      <td>Real</td>\n",
       "      <td>bias</td>\n",
       "      <td>email kayla mueller was a prisoner and torture...</td>\n",
       "      <td>pin drop speech by father of daughter kidnappe...</td>\n",
       "      <td>Fed Up</td>\n",
       "      <td>100percentfedup.com</td>\n",
       "    </tr>\n",
       "    <tr>\n",
       "      <th>4</th>\n",
       "      <td>Real</td>\n",
       "      <td>bias</td>\n",
       "      <td>email healthcare reform to make america great ...</td>\n",
       "      <td>fantastic trumps  point plan to reform healthc...</td>\n",
       "      <td>Fed Up</td>\n",
       "      <td>100percentfedup.com</td>\n",
       "    </tr>\n",
       "  </tbody>\n",
       "</table>\n",
       "</div>"
      ],
      "text/plain": [
       "  label  type                                               text  \\\n",
       "0  Real  bias  print they should pay all the back all the mon...   \n",
       "1  Real  bias  why did attorney general loretta lynch plead t...   \n",
       "2  Real  bias  red state  \\nfox news sunday reported this mor...   \n",
       "3  Real  bias  email kayla mueller was a prisoner and torture...   \n",
       "4  Real  bias  email healthcare reform to make america great ...   \n",
       "\n",
       "                                               title                author  \\\n",
       "0  muslims busted they stole millions in govt ben...     Barracuda Brigade   \n",
       "1  re why did attorney general loretta lynch plea...  reasoning with facts   \n",
       "2  breaking weiner cooperating with fbi on hillar...     Barracuda Brigade   \n",
       "3  pin drop speech by father of daughter kidnappe...                Fed Up   \n",
       "4  fantastic trumps  point plan to reform healthc...                Fed Up   \n",
       "\n",
       "              site_url  \n",
       "0  100percentfedup.com  \n",
       "1  100percentfedup.com  \n",
       "2  100percentfedup.com  \n",
       "3  100percentfedup.com  \n",
       "4  100percentfedup.com  "
      ]
     },
     "execution_count": 13,
     "metadata": {},
     "output_type": "execute_result"
    }
   ],
   "source": [
    "text.head()"
   ]
  },
  {
   "cell_type": "code",
   "execution_count": 14,
   "metadata": {},
   "outputs": [
    {
     "data": {
      "text/plain": [
       "bs            599\n",
       "conspiracy    430\n",
       "bias          393\n",
       "hate          244\n",
       "satire        146\n",
       "state         121\n",
       "junksci       102\n",
       "fake           15\n",
       "Name: type, dtype: int64"
      ]
     },
     "execution_count": 14,
     "metadata": {},
     "output_type": "execute_result"
    }
   ],
   "source": [
    "text.type.value_counts()"
   ]
  },
  {
   "cell_type": "code",
   "execution_count": 15,
   "metadata": {},
   "outputs": [
    {
     "data": {
      "text/plain": [
       "Fake    0.630244\n",
       "Real    0.369756\n",
       "Name: label, dtype: float64"
      ]
     },
     "execution_count": 15,
     "metadata": {},
     "output_type": "execute_result"
    }
   ],
   "source": [
    "# Not too heavy of an imabalance - should work ok with most algorithms!\n",
    "text.label.value_counts(normalize=True)"
   ]
  },
  {
   "cell_type": "code",
   "execution_count": 16,
   "metadata": {
    "scrolled": false
   },
   "outputs": [
    {
     "data": {
      "image/png": "[encoded data removed]",
      "text/plain": [
       "<Figure size 576x432 with 1 Axes>"
      ]
     },
     "metadata": {},
     "output_type": "display_data"
    }
   ],
   "source": [
    "text.label.value_counts(normalize=True).plot(kind='bar', figsize=(8, 6),\n",
    "                                             color='Lightblue', alpha=0.8, title='Normalized Real vs Fake Articles');"
   ]
  },
  {
   "cell_type": "code",
   "execution_count": 17,
   "metadata": {},
   "outputs": [],
   "source": [
    "# Note... the length is a character count and not word count\n",
    "text['len_title'] = text.title.apply(len)\n",
    "text['len_text'] = text.text.apply(len)"
   ]
  },
  {
   "cell_type": "code",
   "execution_count": 18,
   "metadata": {},
   "outputs": [
    {
     "data": {
      "text/plain": [
       "492"
      ]
     },
     "execution_count": 18,
     "metadata": {},
     "output_type": "execute_result"
    }
   ],
   "source": [
    "text.len_text[0]"
   ]
  },
  {
   "cell_type": "code",
   "execution_count": 19,
   "metadata": {},
   "outputs": [
    {
     "data": {
      "text/plain": [
       "'print they should pay all the back all the money plus interest the entire family and everyone who came in with them need to be deported asap why did it take two years to bust them \\nhere we go again another group stealing from the government and taxpayers a group of somalis stole over four million in government benefits over just  months \\nweve reported on numerous cases like this one where the muslim refugeesimmigrants commit fraud by scamming our systemits way out of control more related'"
      ]
     },
     "execution_count": 19,
     "metadata": {},
     "output_type": "execute_result"
    }
   ],
   "source": [
    "text.text[0]"
   ]
  },
  {
   "cell_type": "code",
   "execution_count": 20,
   "metadata": {},
   "outputs": [
    {
     "data": {
      "text/plain": [
       "bias     393\n",
       "hate     244\n",
       "state    121\n",
       "Name: type, dtype: int64"
      ]
     },
     "execution_count": 20,
     "metadata": {},
     "output_type": "execute_result"
    }
   ],
   "source": [
    "real = text.loc[text['label'] == 'Real']\n",
    "real.type.value_counts()"
   ]
  },
  {
   "cell_type": "code",
   "execution_count": 21,
   "metadata": {},
   "outputs": [
    {
     "data": {
      "text/plain": [
       "bs            599\n",
       "conspiracy    430\n",
       "satire        146\n",
       "junksci       102\n",
       "fake           15\n",
       "Name: type, dtype: int64"
      ]
     },
     "execution_count": 21,
     "metadata": {},
     "output_type": "execute_result"
    }
   ],
   "source": [
    "fake = text.loc[text['label'] == 'Fake']\n",
    "fake.type.value_counts()"
   ]
  },
  {
   "cell_type": "code",
   "execution_count": 22,
   "metadata": {},
   "outputs": [
    {
     "data": {
      "text/plain": [
       "politicususa.com                  100\n",
       "frontpagemag.com                   99\n",
       "returnofkings.com                  99\n",
       "presstv.ir                         99\n",
       "westernjournalism.com              98\n",
       "dailywire.com                      81\n",
       "wnd.com                            55\n",
       "davidduke.com                      44\n",
       "100percentfedup.com                33\n",
       "presstv.com                        21\n",
       "addictinginfo.org                  20\n",
       "whydontyoutrythis.com               2\n",
       "washingtonsblog.com                 2\n",
       "redstatewatcher.com                 1\n",
       "newstarget.com                      1\n",
       "proudemocrat.com                    1\n",
       "fromthetrenchesworldreport.com      1\n",
       "prisonplanet.com                    1\n",
       "Name: site_url, dtype: int64"
      ]
     },
     "execution_count": 22,
     "metadata": {},
     "output_type": "execute_result"
    }
   ],
   "source": [
    "real.site_url.value_counts()"
   ]
  },
  {
   "cell_type": "code",
   "execution_count": 23,
   "metadata": {
    "scrolled": true
   },
   "outputs": [
    {
     "data": {
      "text/plain": [
       "activistpost.com                  100\n",
       "naturalnews.com                   100\n",
       "awdnews.com                       100\n",
       "clickhole.com                     100\n",
       "infowars.com                      100\n",
       "prisonplanet.com                   99\n",
       "abeldanger.net                     82\n",
       "der-postillon.com                  72\n",
       "ahtribune.com                      68\n",
       "abovetopsecret.com                 53\n",
       "legorafi.fr                        46\n",
       "amtvmedia.com                      44\n",
       "amren.com                          40\n",
       "dcclothesline.com                  37\n",
       "fromthetrenchesworldreport.com     28\n",
       "corbettreport.com                  28\n",
       "21stcenturywire.com                24\n",
       "thefreethoughtproject.com          17\n",
       "dennismichaellynch.com             16\n",
       "departed.co                        14\n",
       "adobochronicles.com                13\n",
       "shiftfrequency.com                 11\n",
       "whatreallyhappened.com             10\n",
       "darkmoon.me                         9\n",
       "theeconomiccollapseblog.com         8\n",
       "thedailysheeple.com                 7\n",
       "davidstockmanscontracorner.com      7\n",
       "galacticconnection.com              5\n",
       "newstarget.com                      4\n",
       "coasttocoastam.com                  4\n",
       "countercurrents.org                 3\n",
       "veteranstoday.com                   3\n",
       "counterpunch.org                    3\n",
       "americasfreedomfighters.com         3\n",
       "thesaker.is                         3\n",
       "westernjournalism.com               2\n",
       "topinfopost.com                     2\n",
       "theonion.com                        2\n",
       "americannews.com                    2\n",
       "davidwolfe.com                      2\n",
       "abcnews.com.co                      2\n",
       "voltairenet.org                     2\n",
       "returnofkings.com                   1\n",
       "globalresearch.ca                   1\n",
       "washingtonsblog.com                 1\n",
       "themindunleashed.com                1\n",
       "frontpagemag.com                    1\n",
       "defenddemocracy.press               1\n",
       "thetruthseeker.co.uk                1\n",
       "intrepidreport.com                  1\n",
       "thepeoplescube.com                  1\n",
       "davidduke.com                       1\n",
       "theunrealtimes.com                  1\n",
       "madworldnews.com                    1\n",
       "barenakedislam.com                  1\n",
       "presstv.ir                          1\n",
       "projectveritas.com                  1\n",
       "therussophile.org                   1\n",
       "allnewspipeline.com                 1\n",
       "Name: site_url, dtype: int64"
      ]
     },
     "execution_count": 23,
     "metadata": {},
     "output_type": "execute_result"
    }
   ],
   "source": [
    "fake.site_url.value_counts()"
   ]
  },
  {
   "cell_type": "code",
   "execution_count": 24,
   "metadata": {},
   "outputs": [
    {
     "data": {
      "image/png": "[encoded data removed]",
      "text/plain": [
       "<Figure size 1296x432 with 2 Axes>"
      ]
     },
     "metadata": {},
     "output_type": "display_data"
    }
   ],
   "source": [
    "fig, axes = plt.subplots(nrows=1, ncols=2, figsize=(18,6))\n",
    "\n",
    "real.type.value_counts().plot(kind='bar', ax=axes[0], title='Real News - Content Categories',\n",
    "                              color='Lightblue', alpha=.7, fontsize=14)\n",
    "fake.type.value_counts().plot(kind='bar', ax=axes[1], title='Fake News - Content Categories',\n",
    "                              color='Gold', alpha=.7, fontsize=14)\n",
    "\n",
    "fig.suptitle('Subcategories of News - Real vs. Fake', fontsize=20)\n",
    "# ax.set_xlabel('xlabel', fontsize=10)\n",
    "# plt.ylabel('ylabel', fontsize=16)\n",
    "\n",
    "# Set common labels\n",
    "fig.text(0.5, -.05, 'Category Type', ha='center', va='center', fontsize=15)\n",
    "fig.text(0.08, 0.5, 'Number of Articles', ha='center', va='center', rotation='vertical', fontsize=15);"
   ]
  },
  {
   "cell_type": "code",
   "execution_count": 25,
   "metadata": {},
   "outputs": [
    {
     "data": {
      "image/png": "[encoded data removed]",
      "text/plain": [
       "<Figure size 432x288 with 1 Axes>"
      ]
     },
     "metadata": {},
     "output_type": "display_data"
    }
   ],
   "source": [
    "# Create Boxplot\n",
    "fig = plt.scatter(text.label, text.len_text, alpha=0.4)\n",
    "plt.xlabel('Label')\n",
    "plt.ylabel('Aritcle Length');"
   ]
  },
  {
   "cell_type": "code",
   "execution_count": 26,
   "metadata": {},
   "outputs": [
    {
     "data": {
      "image/png": "[encoded data removed]",
      "text/plain": [
       "<Figure size 432x288 with 1 Axes>"
      ]
     },
     "metadata": {},
     "output_type": "display_data"
    }
   ],
   "source": [
    "plt.scatter(real.len_text, real.len_title, alpha=0.6, color='green')\n",
    "plt.scatter(fake.len_text, fake.len_title, alpha=0.4, color='aquamarine')\n",
    "plt.xlabel('Article Length')\n",
    "plt.ylabel('Label Count')\n",
    "plt.legend(['Real', 'Fake']);\n"
   ]
  },
  {
   "cell_type": "code",
   "execution_count": 27,
   "metadata": {},
   "outputs": [
    {
     "data": {
      "text/plain": [
       "3199.0356200527704"
      ]
     },
     "execution_count": 27,
     "metadata": {},
     "output_type": "execute_result"
    }
   ],
   "source": [
    "(real.len_text).mean()"
   ]
  },
  {
   "cell_type": "code",
   "execution_count": 28,
   "metadata": {},
   "outputs": [
    {
     "data": {
      "text/plain": [
       "2830.136222910217"
      ]
     },
     "execution_count": 28,
     "metadata": {},
     "output_type": "execute_result"
    }
   ],
   "source": [
    "(fake.len_text).mean()"
   ]
  },
  {
   "cell_type": "markdown",
   "metadata": {},
   "source": [
    "On average, the fake articles are slightly shorter."
   ]
  },
  {
   "cell_type": "code",
   "execution_count": 29,
   "metadata": {},
   "outputs": [
    {
     "data": {
      "image/png": "[encoded data removed]",
      "text/plain": [
       "<Figure size 432x288 with 1 Axes>"
      ]
     },
     "metadata": {},
     "output_type": "display_data"
    }
   ],
   "source": [
    "fake_auth_count = fake.author.value_counts()[1:12]\n",
    "fake_auth_count.plot(kind='bar')\n",
    "plt.xlabel('Authors')\n",
    "plt.ylabel('Articles Written')\n",
    "plt.title('Authors Who Write the Most Fake News')\n",
    "plt.show()"
   ]
  },
  {
   "cell_type": "markdown",
   "metadata": {},
   "source": [
    "Top 3 authors of \"fake\" articles are not tied to real world names."
   ]
  },
  {
   "cell_type": "code",
   "execution_count": 30,
   "metadata": {},
   "outputs": [
    {
     "data": {
      "text/plain": [
       "Activist Post                          82\n",
       "EdJenner                               73\n",
       "noreply@blogger.com (Der Postillon)    72\n",
       "Anonymous                              58\n",
       "Name: author, dtype: int64"
      ]
     },
     "execution_count": 30,
     "metadata": {},
     "output_type": "execute_result"
    }
   ],
   "source": [
    "df.author.value_counts()[1:5]"
   ]
  },
  {
   "cell_type": "code",
   "execution_count": 31,
   "metadata": {},
   "outputs": [
    {
     "data": {
      "image/png": "[encoded data removed]",
      "text/plain": [
       "<Figure size 1008x576 with 1 Axes>"
      ]
     },
     "metadata": {},
     "output_type": "display_data"
    }
   ],
   "source": [
    "fake.author.value_counts()[1:5].plot(kind='bar', alpha=0.6, figsize=(14,8))\n",
    "plt.xlabel('Authors')\n",
    "plt.ylabel('Articles Written')\n",
    "plt.title('Top 4: Authors Who Write the Most Fake News');"
   ]
  },
  {
   "cell_type": "code",
   "execution_count": 32,
   "metadata": {},
   "outputs": [
    {
     "data": {
      "image/png": "[encoded data removed]",
      "text/plain": [
       "<Figure size 1008x576 with 1 Axes>"
      ]
     },
     "metadata": {},
     "output_type": "display_data"
    }
   ],
   "source": [
    "real.author.value_counts()[1:5].plot(kind='bar', color='seagreen', alpha=0.6, figsize=(14, 8))\n",
    "plt.xlabel('Authors')\n",
    "plt.ylabel('Articles Written')\n",
    "plt.title('Top 4: Authors Who Write the Most Real News');"
   ]
  },
  {
   "cell_type": "markdown",
   "metadata": {},
   "source": [
    "\"Real\" article authors contrast with the \"fake\" authors. The most prevalent of authors whose articles were labeled \"real\" are written under their true name. "
   ]
  },
  {
   "cell_type": "code",
   "execution_count": 33,
   "metadata": {},
   "outputs": [],
   "source": [
    "# Look at dates for EDA analyis"
   ]
  },
  {
   "cell_type": "code",
   "execution_count": 34,
   "metadata": {},
   "outputs": [
    {
     "data": {
      "text/plain": [
       "['i', 'me', 'my', 'myself', 'we', 'our', 'ours', 'ourselves', 'you', \"you're\"]"
      ]
     },
     "execution_count": 34,
     "metadata": {},
     "output_type": "execute_result"
    }
   ],
   "source": [
    "from nltk.corpus import stopwords\n",
    "from nltk import word_tokenize, FreqDist\n",
    "\n",
    "import string\n",
    "stopwords.words('english')[0:10] # Show some stop words"
   ]
  },
  {
   "cell_type": "code",
   "execution_count": 35,
   "metadata": {},
   "outputs": [
    {
     "name": "stdout",
     "output_type": "stream",
     "text": [
      "['i', 'me', 'my', 'myself', 'we', 'our', 'ours', 'ourselves', 'you', \"you're\", \"you've\", \"you'll\", \"you'd\", 'your', 'yours', 'yourself', 'yourselves', 'he', 'him', 'his', 'himself', 'she', \"she's\", 'her', 'hers', 'herself', 'it', \"it's\", 'its', 'itself', 'they', 'them', 'their', 'theirs', 'themselves', 'what', 'which', 'who', 'whom', 'this', 'that', \"that'll\", 'these', 'those', 'am', 'is', 'are', 'was', 'were', 'be', 'been', 'being', 'have', 'has', 'had', 'having', 'do', 'does', 'did', 'doing', 'a', 'an', 'the', 'and', 'but', 'if', 'or', 'because', 'as', 'until', 'while', 'of', 'at', 'by', 'for', 'with', 'about', 'against', 'between', 'into', 'through', 'during', 'before', 'after', 'above', 'below', 'to', 'from', 'up', 'down', 'in', 'out', 'on', 'off', 'over', 'under', 'again', 'further', 'then', 'once', 'here', 'there', 'when', 'where', 'why', 'how', 'all', 'any', 'both', 'each', 'few', 'more', 'most', 'other', 'some', 'such', 'no', 'nor', 'not', 'only', 'own', 'same', 'so', 'than', 'too', 'very', 's', 't', 'can', 'will', 'just', 'don', \"don't\", 'should', \"should've\", 'now', 'd', 'll', 'm', 'o', 're', 've', 'y', 'ain', 'aren', \"aren't\", 'couldn', \"couldn't\", 'didn', \"didn't\", 'doesn', \"doesn't\", 'hadn', \"hadn't\", 'hasn', \"hasn't\", 'haven', \"haven't\", 'isn', \"isn't\", 'ma', 'mightn', \"mightn't\", 'mustn', \"mustn't\", 'needn', \"needn't\", 'shan', \"shan't\", 'shouldn', \"shouldn't\", 'wasn', \"wasn't\", 'weren', \"weren't\", 'won', \"won't\", 'wouldn', \"wouldn't\", '!', '\"', '#', '$', '%', '&', \"'\", '(', ')', '*', '+', ',', '-', '.', '/', ':', ';', '<', '=', '>', '?', '@', '[', '\\\\', ']', '^', '_', '`', '{', '|', '}', '~']\n",
      "['i', 'me', 'my', 'myself', 'we', 'our', 'ours', 'ourselves', 'you', \"you're\", \"you've\", \"you'll\", \"you'd\", 'your', 'yours', 'yourself', 'yourselves', 'he', 'him', 'his', 'himself', 'she', \"she's\", 'her', 'hers', 'herself', 'it', \"it's\", 'its', 'itself', 'they', 'them', 'their', 'theirs', 'themselves', 'what', 'which', 'who', 'whom', 'this', 'that', \"that'll\", 'these', 'those', 'am', 'is', 'are', 'was', 'were', 'be', 'been', 'being', 'have', 'has', 'had', 'having', 'do', 'does', 'did', 'doing', 'a', 'an', 'the', 'and', 'but', 'if', 'or', 'because', 'as', 'until', 'while', 'of', 'at', 'by', 'for', 'with', 'about', 'against', 'between', 'into', 'through', 'during', 'before', 'after', 'above', 'below', 'to', 'from', 'up', 'down', 'in', 'out', 'on', 'off', 'over', 'under', 'again', 'further', 'then', 'once', 'here', 'there', 'when', 'where', 'why', 'how', 'all', 'any', 'both', 'each', 'few', 'more', 'most', 'other', 'some', 'such', 'no', 'nor', 'not', 'only', 'own', 'same', 'so', 'than', 'too', 'very', 's', 't', 'can', 'will', 'just', 'don', \"don't\", 'should', \"should've\", 'now', 'd', 'll', 'm', 'o', 're', 've', 'y', 'ain', 'aren', \"aren't\", 'couldn', \"couldn't\", 'didn', \"didn't\", 'doesn', \"doesn't\", 'hadn', \"hadn't\", 'hasn', \"hasn't\", 'haven', \"haven't\", 'isn', \"isn't\", 'ma', 'mightn', \"mightn't\", 'mustn', \"mustn't\", 'needn', \"needn't\", 'shan', \"shan't\", 'shouldn', \"shouldn't\", 'wasn', \"wasn't\", 'weren', \"weren't\", 'won', \"won't\", 'wouldn', \"wouldn't\", '!', '\"', '#', '$', '%', '&', \"'\", '(', ')', '*', '+', ',', '-', '.', '/', ':', ';', '<', '=', '>', '?', '@', '[', '\\\\', ']', '^', '_', '`', '{', '|', '}', '~', \"''\", '\"\"', '...', '``']\n"
     ]
    }
   ],
   "source": [
    "stopwords_list = stopwords.words('english') + list(string.punctuation)\n",
    "print(stopwords_list)\n",
    "stopwords_list += [\"''\", '\"\"', '...', '``']\n",
    "print(stopwords_list)\n"
   ]
  },
  {
   "cell_type": "code",
   "execution_count": 36,
   "metadata": {},
   "outputs": [],
   "source": [
    "def process_article(article):\n",
    "    tokens = nltk.word_tokenize(article)  \n",
    "    stopwords_removed = [token.lower() for token in tokens if token.lower() not in stopwords_list]\n",
    "    return stopwords_removed"
   ]
  },
  {
   "cell_type": "code",
   "execution_count": 37,
   "metadata": {},
   "outputs": [],
   "source": [
    "processed_data = list(map(process_article, df.text))"
   ]
  },
  {
   "cell_type": "code",
   "execution_count": 180,
   "metadata": {},
   "outputs": [],
   "source": [
    "real_data = list(map(process_article, real.text))\n",
    "fake_data = list(map(process_article, fake.text))"
   ]
  },
  {
   "cell_type": "code",
   "execution_count": 200,
   "metadata": {},
   "outputs": [
    {
     "name": "stdout",
     "output_type": "stream",
     "text": [
      "['print', 'pay', 'back', 'money', 'plus']\n"
     ]
    },
    {
     "data": {
      "text/plain": [
       "230039"
      ]
     },
     "execution_count": 200,
     "metadata": {},
     "output_type": "execute_result"
    }
   ],
   "source": [
    "# Real text concat\n",
    "total_vocab_real = set()\n",
    "\n",
    "for article in real_data:\n",
    "    total_vocab.update(article)\n",
    "len(total_vocab)\n",
    "\n",
    "articles_concat_real = []\n",
    "for article in real_data:\n",
    "    articles_concat_real += article\n",
    "print(articles_concat_real[0:5])\n",
    "len(articles_concat_real)"
   ]
  },
  {
   "cell_type": "code",
   "execution_count": 201,
   "metadata": {},
   "outputs": [],
   "source": [
    "articles_freqdist_real = FreqDist(articles_concat_real)"
   ]
  },
  {
   "cell_type": "code",
   "execution_count": 184,
   "metadata": {},
   "outputs": [
    {
     "name": "stdout",
     "output_type": "stream",
     "text": [
      "['st', 'century', 'wire', 'says', 'wire']\n"
     ]
    },
    {
     "data": {
      "text/plain": [
       "350560"
      ]
     },
     "execution_count": 184,
     "metadata": {},
     "output_type": "execute_result"
    }
   ],
   "source": [
    "# Fake text concat\n",
    "total_vocab_fake = set()\n",
    "\n",
    "for article in fake_data:\n",
    "    total_vocab.update(article)\n",
    "len(total_vocab)\n",
    "\n",
    "articles_concat_fake = []\n",
    "for article in fake_data:\n",
    "    articles_concat_fake += article\n",
    "print(articles_concat_fake[0:5])\n",
    "len(articles_concat_fake)"
   ]
  },
  {
   "cell_type": "code",
   "execution_count": 186,
   "metadata": {},
   "outputs": [],
   "source": [
    "articles_freqdist_fake = FreqDist(articles_concat_fake)"
   ]
  },
  {
   "cell_type": "code",
   "execution_count": 41,
   "metadata": {},
   "outputs": [
    {
     "data": {
      "text/plain": [
       "47167"
      ]
     },
     "execution_count": 41,
     "metadata": {},
     "output_type": "execute_result"
    }
   ],
   "source": [
    "total_vocab = set()\n",
    "\n",
    "for article in processed_data:\n",
    "    total_vocab.update(article)\n",
    "len(total_vocab)\n"
   ]
  },
  {
   "cell_type": "code",
   "execution_count": 42,
   "metadata": {},
   "outputs": [
    {
     "name": "stdout",
     "output_type": "stream",
     "text": [
      "['print', 'pay', 'back', 'money', 'plus']\n"
     ]
    },
    {
     "data": {
      "text/plain": [
       "580599"
      ]
     },
     "execution_count": 42,
     "metadata": {},
     "output_type": "execute_result"
    }
   ],
   "source": [
    "articles_concat = []\n",
    "for article in processed_data:\n",
    "    articles_concat += article\n",
    "print(articles_concat[0:5])\n",
    "len(articles_concat)"
   ]
  },
  {
   "cell_type": "code",
   "execution_count": 43,
   "metadata": {
    "scrolled": true
   },
   "outputs": [
    {
     "data": {
      "text/plain": [
       "['print',\n",
       " 'pay',\n",
       " 'back',\n",
       " 'money',\n",
       " 'plus',\n",
       " 'interest',\n",
       " 'entire',\n",
       " 'family',\n",
       " 'everyone',\n",
       " 'came',\n",
       " 'need',\n",
       " 'deported',\n",
       " 'asap',\n",
       " 'take',\n",
       " 'two',\n",
       " 'years',\n",
       " 'bust',\n",
       " 'go',\n",
       " 'another',\n",
       " 'group',\n",
       " 'stealing',\n",
       " 'government',\n",
       " 'taxpayers',\n",
       " 'group',\n",
       " 'somalis',\n",
       " 'stole',\n",
       " 'four',\n",
       " 'million',\n",
       " 'government',\n",
       " 'benefits',\n",
       " 'months',\n",
       " 'weve',\n",
       " 'reported',\n",
       " 'numerous',\n",
       " 'cases',\n",
       " 'like',\n",
       " 'one',\n",
       " 'muslim',\n",
       " 'refugeesimmigrants',\n",
       " 'commit',\n",
       " 'fraud',\n",
       " 'scamming',\n",
       " 'systemits',\n",
       " 'way',\n",
       " 'control',\n",
       " 'related',\n",
       " 'attorney',\n",
       " 'general',\n",
       " 'loretta',\n",
       " 'lynch',\n",
       " 'plead',\n",
       " 'fifth',\n",
       " 'barracuda',\n",
       " 'brigade',\n",
       " 'print',\n",
       " 'administration',\n",
       " 'blocking',\n",
       " 'congressional',\n",
       " 'probe',\n",
       " 'cash',\n",
       " 'payments',\n",
       " 'iran',\n",
       " 'course',\n",
       " 'needs',\n",
       " 'plead',\n",
       " 'th',\n",
       " 'either',\n",
       " 'cant',\n",
       " 'recall',\n",
       " 'refuses',\n",
       " 'answer',\n",
       " 'plain',\n",
       " 'deflects',\n",
       " 'question',\n",
       " 'straight',\n",
       " 'corruption',\n",
       " 'finest',\n",
       " 'percentfedupcom',\n",
       " 'talk',\n",
       " 'covering',\n",
       " 'ass',\n",
       " 'loretta',\n",
       " 'lynch',\n",
       " 'plead',\n",
       " 'fifth',\n",
       " 'avoid',\n",
       " 'incriminating',\n",
       " 'payments',\n",
       " 'irancorrupt',\n",
       " 'core',\n",
       " 'attorney',\n",
       " 'general',\n",
       " 'loretta',\n",
       " 'lynch',\n",
       " 'declining',\n",
       " 'comply',\n",
       " 'investigation',\n",
       " 'leading',\n",
       " 'members',\n",
       " 'congress',\n",
       " 'obama',\n",
       " 'administrations',\n",
       " 'secret',\n",
       " 'efforts',\n",
       " 'send',\n",
       " 'iran',\n",
       " 'billion',\n",
       " 'cash',\n",
       " 'earlier',\n",
       " 'year',\n",
       " 'prompting',\n",
       " 'accusations',\n",
       " 'lynch',\n",
       " 'pleaded',\n",
       " 'fifth',\n",
       " 'amendment',\n",
       " 'avoid',\n",
       " 'incriminating',\n",
       " 'payments',\n",
       " 'according',\n",
       " 'lawmakers',\n",
       " 'communications',\n",
       " 'exclusively',\n",
       " 'obtained',\n",
       " 'washington',\n",
       " 'free',\n",
       " 'beacon',\n",
       " 'sen',\n",
       " 'marco',\n",
       " 'rubio',\n",
       " 'r',\n",
       " 'fla',\n",
       " 'rep',\n",
       " 'mike',\n",
       " 'pompeo',\n",
       " 'r',\n",
       " 'kan',\n",
       " 'initially',\n",
       " 'presented',\n",
       " 'lynch',\n",
       " 'october',\n",
       " 'series',\n",
       " 'questions',\n",
       " 'cash',\n",
       " 'payment',\n",
       " 'iran',\n",
       " 'approved',\n",
       " 'delivered',\n",
       " 'oct',\n",
       " 'response',\n",
       " 'assistant',\n",
       " 'attorney',\n",
       " 'general',\n",
       " 'peter',\n",
       " 'kadzik',\n",
       " 'responded',\n",
       " 'lynchs',\n",
       " 'behalf',\n",
       " 'refusing',\n",
       " 'answer',\n",
       " 'questions',\n",
       " 'informing',\n",
       " 'lawmakers',\n",
       " 'barred',\n",
       " 'publicly',\n",
       " 'disclosing',\n",
       " 'details',\n",
       " 'cash',\n",
       " 'payment',\n",
       " 'bound',\n",
       " 'ransom',\n",
       " 'deal',\n",
       " 'aimed',\n",
       " 'freeing',\n",
       " 'several',\n",
       " 'american',\n",
       " 'hostages',\n",
       " 'iran',\n",
       " 'response',\n",
       " 'attorney',\n",
       " 'generals',\n",
       " 'office',\n",
       " 'unacceptable',\n",
       " 'provides',\n",
       " 'evidence',\n",
       " 'lynch',\n",
       " 'chosen',\n",
       " 'essentially',\n",
       " 'plead',\n",
       " 'fifth',\n",
       " 'refuse',\n",
       " 'respond',\n",
       " 'inquiries',\n",
       " 'regarding',\n",
       " 'herrole',\n",
       " 'providing',\n",
       " 'cash',\n",
       " 'worlds',\n",
       " 'foremost',\n",
       " 'state',\n",
       " 'sponsor',\n",
       " 'terrorism',\n",
       " 'rubio',\n",
       " 'pompeo',\n",
       " 'wrote',\n",
       " 'friday',\n",
       " 'followup',\n",
       " 'letter',\n",
       " 'lynch',\n",
       " 'related',\n",
       " 'red',\n",
       " 'state',\n",
       " 'fox',\n",
       " 'news',\n",
       " 'sunday',\n",
       " 'reported',\n",
       " 'morning',\n",
       " 'anthony',\n",
       " 'weiner',\n",
       " 'cooperating',\n",
       " 'fbi',\n",
       " 'reopened',\n",
       " 'yes',\n",
       " 'lefties',\n",
       " 'reopened',\n",
       " 'investigation',\n",
       " 'hillary',\n",
       " 'clintons',\n",
       " 'classified',\n",
       " 'emails',\n",
       " 'watch',\n",
       " 'chris',\n",
       " 'wallace',\n",
       " 'reports',\n",
       " 'breaking',\n",
       " 'news',\n",
       " 'panel',\n",
       " 'segment',\n",
       " 'near',\n",
       " 'end',\n",
       " 'show',\n",
       " 'news',\n",
       " 'breaking',\n",
       " 'air',\n",
       " 'colleague',\n",
       " 'bret',\n",
       " 'baier',\n",
       " 'sent',\n",
       " 'us',\n",
       " 'email',\n",
       " 'saying',\n",
       " 'two',\n",
       " 'sources',\n",
       " 'say',\n",
       " 'anthony',\n",
       " 'weiner',\n",
       " 'also',\n",
       " 'coownership',\n",
       " 'laptop',\n",
       " 'estranged',\n",
       " 'wife',\n",
       " 'huma',\n",
       " 'abedin',\n",
       " 'cooperating',\n",
       " 'fbi',\n",
       " 'investigation',\n",
       " 'given',\n",
       " 'laptop',\n",
       " 'therefore',\n",
       " 'didnt',\n",
       " 'need',\n",
       " 'warrant',\n",
       " 'get',\n",
       " 'see',\n",
       " 'contents',\n",
       " 'said',\n",
       " 'laptop',\n",
       " 'pretty',\n",
       " 'interesting',\n",
       " 'development',\n",
       " 'targets',\n",
       " 'federal',\n",
       " 'investigations',\n",
       " 'often',\n",
       " 'cooperate',\n",
       " 'hoping',\n",
       " 'get',\n",
       " 'consideration',\n",
       " 'judge',\n",
       " 'sentencing',\n",
       " 'given',\n",
       " 'weiners',\n",
       " 'wellknown',\n",
       " 'penchant',\n",
       " 'lying',\n",
       " 'hard',\n",
       " 'believe',\n",
       " 'prosecutor',\n",
       " 'would',\n",
       " 'give',\n",
       " 'weiner',\n",
       " 'deal',\n",
       " 'based',\n",
       " 'agreement',\n",
       " 'testify',\n",
       " 'unless',\n",
       " 'testimony',\n",
       " 'strongly',\n",
       " 'corroborated',\n",
       " 'hard',\n",
       " 'evidence',\n",
       " 'cooperation',\n",
       " 'take',\n",
       " 'many',\n",
       " 'forms',\n",
       " 'wallace',\n",
       " 'indicated',\n",
       " 'mornings',\n",
       " 'show',\n",
       " 'one',\n",
       " 'forms',\n",
       " 'could',\n",
       " 'signing',\n",
       " 'consent',\n",
       " 'form',\n",
       " 'allow',\n",
       " 'contents',\n",
       " 'devices',\n",
       " 'could',\n",
       " 'probably',\n",
       " 'get',\n",
       " 'warrant',\n",
       " 'anyway',\n",
       " 'well',\n",
       " 'see',\n",
       " 'weiners',\n",
       " 'cooperation',\n",
       " 'extends',\n",
       " 'beyond',\n",
       " 'related',\n",
       " 'email',\n",
       " 'kayla',\n",
       " 'mueller',\n",
       " 'prisoner',\n",
       " 'tortured',\n",
       " 'isis',\n",
       " 'chance',\n",
       " 'releasea',\n",
       " 'horrific',\n",
       " 'story',\n",
       " 'father',\n",
       " 'gave',\n",
       " 'pin',\n",
       " 'drop',\n",
       " 'speech',\n",
       " 'heartfelt',\n",
       " 'want',\n",
       " 'give',\n",
       " 'hug',\n",
       " 'carl',\n",
       " 'mueller',\n",
       " 'believes',\n",
       " 'donald',\n",
       " 'trump',\n",
       " 'great',\n",
       " 'presidentepic',\n",
       " 'speech',\n",
       " 'k',\n",
       " 'shares',\n",
       " 'email',\n",
       " 'healthcare',\n",
       " 'reform',\n",
       " 'make',\n",
       " 'america',\n",
       " 'great',\n",
       " 'since',\n",
       " 'march',\n",
       " 'american',\n",
       " 'people',\n",
       " 'suffer',\n",
       " 'incredible',\n",
       " 'economic',\n",
       " 'burden',\n",
       " 'affordable',\n",
       " 'care',\n",
       " 'actobamacare',\n",
       " 'legislation',\n",
       " 'passed',\n",
       " 'totally',\n",
       " 'partisan',\n",
       " 'votes',\n",
       " 'house',\n",
       " 'senate',\n",
       " 'signed',\n",
       " 'law',\n",
       " 'divisive',\n",
       " 'partisan',\n",
       " 'president',\n",
       " 'american',\n",
       " 'history',\n",
       " 'tragically',\n",
       " 'predictably',\n",
       " 'resulted',\n",
       " 'runaway',\n",
       " 'costs',\n",
       " 'websites',\n",
       " 'dont',\n",
       " 'work',\n",
       " 'greater',\n",
       " 'rationing',\n",
       " 'care',\n",
       " 'higher',\n",
       " 'premiums',\n",
       " 'less',\n",
       " 'competition',\n",
       " 'fewer',\n",
       " 'choices',\n",
       " 'obamacare',\n",
       " 'raised',\n",
       " 'economic',\n",
       " 'uncertainty',\n",
       " 'every',\n",
       " 'single',\n",
       " 'person',\n",
       " 'residing',\n",
       " 'country',\n",
       " 'appears',\n",
       " 'obamacare',\n",
       " 'certain',\n",
       " 'collapse',\n",
       " 'weight',\n",
       " 'damage',\n",
       " 'done',\n",
       " 'democrats',\n",
       " 'president',\n",
       " 'obama',\n",
       " 'abetted',\n",
       " 'supreme',\n",
       " 'court',\n",
       " 'difficult',\n",
       " 'repair',\n",
       " 'unless',\n",
       " 'next',\n",
       " 'president',\n",
       " 'republican',\n",
       " 'congress',\n",
       " 'lead',\n",
       " 'effort',\n",
       " 'bring',\n",
       " 'muchneeded',\n",
       " 'free',\n",
       " 'market',\n",
       " 'reforms',\n",
       " 'healthcare',\n",
       " 'industry',\n",
       " 'congress',\n",
       " 'must',\n",
       " 'act',\n",
       " 'elected',\n",
       " 'representatives',\n",
       " 'house',\n",
       " 'senate',\n",
       " 'must',\n",
       " 'completely',\n",
       " 'repeal',\n",
       " 'obamacare',\n",
       " 'elected',\n",
       " 'representatives',\n",
       " 'must',\n",
       " 'eliminate',\n",
       " 'individual',\n",
       " 'mandate',\n",
       " 'person',\n",
       " 'required',\n",
       " 'buy',\n",
       " 'insurance',\n",
       " 'unless',\n",
       " 'wants',\n",
       " 'modify',\n",
       " 'existing',\n",
       " 'law',\n",
       " 'inhibits',\n",
       " 'sale',\n",
       " 'health',\n",
       " 'insurance',\n",
       " 'across',\n",
       " 'state',\n",
       " 'lines',\n",
       " 'long',\n",
       " 'plan',\n",
       " 'purchased',\n",
       " 'complies',\n",
       " 'state',\n",
       " 'requirements',\n",
       " 'vendor',\n",
       " 'ought',\n",
       " 'able',\n",
       " 'offer',\n",
       " 'insurance',\n",
       " 'state',\n",
       " 'allowing',\n",
       " 'full',\n",
       " 'competition',\n",
       " 'market',\n",
       " 'insurance',\n",
       " 'costs',\n",
       " 'go',\n",
       " 'consumer',\n",
       " 'satisfaction',\n",
       " 'go',\n",
       " 'allow',\n",
       " 'individuals',\n",
       " 'fully',\n",
       " 'deduct',\n",
       " 'health',\n",
       " 'insurance',\n",
       " 'premium',\n",
       " 'payments',\n",
       " 'tax',\n",
       " 'returns',\n",
       " 'current',\n",
       " 'tax',\n",
       " 'system',\n",
       " 'businesses',\n",
       " 'allowed',\n",
       " 'take',\n",
       " 'deductions',\n",
       " 'wouldnt',\n",
       " 'congress',\n",
       " 'allow',\n",
       " 'individuals',\n",
       " 'exemptions',\n",
       " 'allow',\n",
       " 'free',\n",
       " 'market',\n",
       " 'provide',\n",
       " 'insurance',\n",
       " 'coverage',\n",
       " 'opportunities',\n",
       " 'companies',\n",
       " 'individuals',\n",
       " 'must',\n",
       " 'also',\n",
       " 'make',\n",
       " 'sure',\n",
       " 'one',\n",
       " 'slips',\n",
       " 'cracks',\n",
       " 'simply',\n",
       " 'afford',\n",
       " 'insurance',\n",
       " 'must',\n",
       " 'review',\n",
       " 'basic',\n",
       " 'options',\n",
       " 'medicaid',\n",
       " 'work',\n",
       " 'states',\n",
       " 'ensure',\n",
       " 'want',\n",
       " 'healthcare',\n",
       " 'coverage',\n",
       " 'trending',\n",
       " 'fed',\n",
       " 'print',\n",
       " 'hillary',\n",
       " 'goes',\n",
       " 'absolutely',\n",
       " 'berserk',\n",
       " 'explodes',\n",
       " 'bill',\n",
       " 'rapist',\n",
       " 'protester',\n",
       " 'rally',\n",
       " 'oh',\n",
       " 'irony',\n",
       " 'enabler',\n",
       " 'bills',\n",
       " 'escapades',\n",
       " 'shes',\n",
       " 'projecting',\n",
       " 'pathetic',\n",
       " 'dragging',\n",
       " 'integrity',\n",
       " 'challenged',\n",
       " 'alicia',\n",
       " 'machado',\n",
       " 'stage',\n",
       " 'yesterday',\n",
       " 'sad',\n",
       " 'little',\n",
       " 'rally',\n",
       " 'florida',\n",
       " 'tgp',\n",
       " 'democratic',\n",
       " 'party',\n",
       " 'presidential',\n",
       " 'nominee',\n",
       " 'hillary',\n",
       " 'clinton',\n",
       " 'angrily',\n",
       " 'reacted',\n",
       " 'protester',\n",
       " 'shouting',\n",
       " 'bill',\n",
       " 'clinton',\n",
       " 'rapist',\n",
       " 'campaign',\n",
       " 'rally',\n",
       " 'fort',\n",
       " 'lauderdale',\n",
       " 'florida',\n",
       " 'tuesday',\n",
       " 'night',\n",
       " 'saying',\n",
       " 'sick',\n",
       " 'tired',\n",
       " 'negative',\n",
       " 'dark',\n",
       " 'divisive',\n",
       " 'dangerous',\n",
       " 'vision',\n",
       " 'behavior',\n",
       " 'people',\n",
       " 'support',\n",
       " 'donald',\n",
       " 'trump',\n",
       " 'according',\n",
       " 'reports',\n",
       " 'protester',\n",
       " 'interrupts',\n",
       " 'hillary',\n",
       " 'clinton',\n",
       " 'shouting',\n",
       " 'bill',\n",
       " 'clinton',\n",
       " 'rapist',\n",
       " 'clinton',\n",
       " 'fires',\n",
       " 'right',\n",
       " 'back',\n",
       " 'sick',\n",
       " 'tired',\n",
       " 'negative',\n",
       " 'pictwittercomyncdksbg',\n",
       " 'josh',\n",
       " 'haskell',\n",
       " 'joshbhaskell',\n",
       " 'november',\n",
       " 'man',\n",
       " 'interrupts',\n",
       " 'hillaryclinton',\n",
       " 'yelling',\n",
       " 'bill',\n",
       " 'clinton',\n",
       " 'rapist',\n",
       " 'responds',\n",
       " 'shes',\n",
       " 'tired',\n",
       " 'divisive',\n",
       " 'distractions',\n",
       " 'nbc',\n",
       " 'pictwittercomgpjpseqb',\n",
       " 'jamie',\n",
       " 'guirola',\n",
       " 'jamienbc',\n",
       " 'november',\n",
       " 'heres',\n",
       " 'hillary',\n",
       " 'absolutely',\n",
       " 'going',\n",
       " 'bezerk',\n",
       " 'protester',\n",
       " 'starts',\n",
       " 'screaming',\n",
       " 'shouting',\n",
       " 'yelling',\n",
       " 'full',\n",
       " 'rails',\n",
       " 'pictwittercomjqijjto',\n",
       " 'john',\n",
       " 'binder',\n",
       " 'jxhnbinder',\n",
       " 'november',\n",
       " 'related',\n",
       " 'breaking',\n",
       " 'nypd',\n",
       " 'ready',\n",
       " 'make',\n",
       " 'arrests',\n",
       " 'weiner',\n",
       " 'casehillary',\n",
       " 'visited',\n",
       " 'pedophile',\n",
       " 'island',\n",
       " 'least',\n",
       " 'timesmoney',\n",
       " 'laundering',\n",
       " 'underage',\n",
       " 'sex',\n",
       " 'payforplayproof',\n",
       " 'inappropriate',\n",
       " 'handling',\n",
       " 'classified',\n",
       " 'information',\n",
       " 'blackwater',\n",
       " 'usa',\n",
       " 'founder',\n",
       " 'retired',\n",
       " 'navy',\n",
       " 'seal',\n",
       " 'erik',\n",
       " 'prince',\n",
       " 'prince',\n",
       " 'claimed',\n",
       " 'insider',\n",
       " 'knowledge',\n",
       " 'investigation',\n",
       " 'could',\n",
       " 'help',\n",
       " 'explain',\n",
       " 'fbi',\n",
       " 'director',\n",
       " 'james',\n",
       " 'comey',\n",
       " 'announce',\n",
       " 'reopening',\n",
       " 'investigation',\n",
       " 'clintons',\n",
       " 'email',\n",
       " 'server',\n",
       " 'last',\n",
       " 'week',\n",
       " 'weinergate',\n",
       " 'sexting',\n",
       " 'scandal',\n",
       " 'nypd',\n",
       " 'started',\n",
       " 'investigating',\n",
       " 'subpoena',\n",
       " 'warrant',\n",
       " 'searched',\n",
       " 'laptop',\n",
       " 'sure',\n",
       " 'enough',\n",
       " 'found',\n",
       " 'emails',\n",
       " 'found',\n",
       " 'way',\n",
       " 'stuff',\n",
       " 'information',\n",
       " 'pertaining',\n",
       " 'inappropriate',\n",
       " 'sexting',\n",
       " 'guy',\n",
       " 'prince',\n",
       " 'claimed',\n",
       " 'found',\n",
       " 'state',\n",
       " 'department',\n",
       " 'emails',\n",
       " 'found',\n",
       " 'lot',\n",
       " 'really',\n",
       " 'damning',\n",
       " 'criminal',\n",
       " 'information',\n",
       " 'including',\n",
       " 'money',\n",
       " 'laundering',\n",
       " 'including',\n",
       " 'fact',\n",
       " 'hillary',\n",
       " 'went',\n",
       " 'sex',\n",
       " 'island',\n",
       " 'convicted',\n",
       " 'pedophile',\n",
       " 'jeffrey',\n",
       " 'epstein',\n",
       " 'bill',\n",
       " 'clinton',\n",
       " 'went',\n",
       " 'times',\n",
       " 'hillary',\n",
       " 'clinton',\n",
       " 'went',\n",
       " 'least',\n",
       " 'six',\n",
       " 'times',\n",
       " 'said',\n",
       " 'amount',\n",
       " 'garbage',\n",
       " 'found',\n",
       " 'emails',\n",
       " 'criminal',\n",
       " 'activity',\n",
       " 'hillary',\n",
       " 'immediate',\n",
       " 'circle',\n",
       " 'even',\n",
       " 'democratic',\n",
       " 'members',\n",
       " 'congress',\n",
       " 'disgusting',\n",
       " 'gave',\n",
       " 'fbi',\n",
       " 'said',\n",
       " 'going',\n",
       " 'go',\n",
       " 'public',\n",
       " 'dont',\n",
       " 'reopen',\n",
       " 'investigation',\n",
       " 'dont',\n",
       " 'right',\n",
       " 'thing',\n",
       " 'timely',\n",
       " 'indictments',\n",
       " 'prince',\n",
       " 'explained',\n",
       " 'believe',\n",
       " 'know',\n",
       " 'wellplaced',\n",
       " 'source',\n",
       " 'mine',\n",
       " 'pp',\n",
       " 'one',\n",
       " 'police',\n",
       " 'plaza',\n",
       " 'new',\n",
       " 'york',\n",
       " 'nypd',\n",
       " 'wanted',\n",
       " 'press',\n",
       " 'conference',\n",
       " 'announcing',\n",
       " 'warrants',\n",
       " 'additional',\n",
       " 'arrests',\n",
       " 'making',\n",
       " 'investigation',\n",
       " 'theyve',\n",
       " 'gotten',\n",
       " 'huge',\n",
       " 'pushback',\n",
       " 'point',\n",
       " 'coercion',\n",
       " 'justice',\n",
       " 'department',\n",
       " 'justice',\n",
       " 'department',\n",
       " 'threatening',\n",
       " 'charge',\n",
       " 'someone',\n",
       " 'unrelated',\n",
       " 'accidental',\n",
       " 'heart',\n",
       " 'attack',\n",
       " 'death',\n",
       " 'eric',\n",
       " 'garner',\n",
       " 'almost',\n",
       " 'two',\n",
       " 'years',\n",
       " 'ago',\n",
       " 'thats',\n",
       " 'level',\n",
       " 'pushback',\n",
       " 'obama',\n",
       " 'justice',\n",
       " 'department',\n",
       " 'actually',\n",
       " 'seeking',\n",
       " 'justice',\n",
       " 'email',\n",
       " 'related',\n",
       " 'criminal',\n",
       " 'matters',\n",
       " 'prince',\n",
       " 'said',\n",
       " 'theres',\n",
       " 'five',\n",
       " 'different',\n",
       " 'parts',\n",
       " 'fbi',\n",
       " 'conducting',\n",
       " 'investigations',\n",
       " 'things',\n",
       " 'constant',\n",
       " 'downdrafts',\n",
       " 'obama',\n",
       " 'justice',\n",
       " 'department',\n",
       " 'hope',\n",
       " 'unlikely',\n",
       " 'unfortunate',\n",
       " 'event',\n",
       " 'hillary',\n",
       " 'clinton',\n",
       " 'elected',\n",
       " 'president',\n",
       " 'constitutional',\n",
       " 'crisis',\n",
       " 'seen',\n",
       " 'since',\n",
       " 'believe',\n",
       " 'prince',\n",
       " 'declared',\n",
       " 'marlow',\n",
       " 'asked',\n",
       " 'prince',\n",
       " 'clarify',\n",
       " 'revelations',\n",
       " 'nypd',\n",
       " 'first',\n",
       " 'one',\n",
       " 'look',\n",
       " 'laptop',\n",
       " 'prince',\n",
       " 'elaborated',\n",
       " 'weiner',\n",
       " 'huma',\n",
       " 'abedin',\n",
       " 'wife',\n",
       " 'closest',\n",
       " 'adviser',\n",
       " 'hillary',\n",
       " 'clinton',\n",
       " 'years',\n",
       " 'flipped',\n",
       " 'cooperating',\n",
       " 'government',\n",
       " 'see',\n",
       " 'potential',\n",
       " 'jail',\n",
       " 'time',\n",
       " 'many',\n",
       " 'years',\n",
       " 'crimes',\n",
       " 'huma',\n",
       " 'abedin',\n",
       " 'sending',\n",
       " 'receiving',\n",
       " 'even',\n",
       " 'storing',\n",
       " 'hundreds',\n",
       " 'thousands',\n",
       " 'messages',\n",
       " 'state',\n",
       " 'department',\n",
       " 'server',\n",
       " 'hillary',\n",
       " 'clintons',\n",
       " 'homebrew',\n",
       " 'server',\n",
       " 'contained',\n",
       " 'classified',\n",
       " 'information',\n",
       " 'weiner',\n",
       " 'faces',\n",
       " 'kinds',\n",
       " 'exposure',\n",
       " 'inappropriate',\n",
       " 'sexting',\n",
       " 'going',\n",
       " 'information',\n",
       " 'found',\n",
       " 'nypd',\n",
       " 'first',\n",
       " 'gets',\n",
       " 'computer',\n",
       " 'see',\n",
       " 'disgusting',\n",
       " 'keep',\n",
       " 'copy',\n",
       " 'everything',\n",
       " 'pass',\n",
       " 'copy',\n",
       " 'fbi',\n",
       " 'finally',\n",
       " 'pushes',\n",
       " 'fbi',\n",
       " 'chairs',\n",
       " 'making',\n",
       " 'comey',\n",
       " 'reopen',\n",
       " 'investigation',\n",
       " 'indicated',\n",
       " 'letter',\n",
       " 'last',\n",
       " 'week',\n",
       " 'point',\n",
       " 'nypd',\n",
       " 'information',\n",
       " 'pursue',\n",
       " 'justice',\n",
       " 'within',\n",
       " 'rights',\n",
       " 'fbi',\n",
       " ...]"
      ]
     },
     "execution_count": 43,
     "metadata": {},
     "output_type": "execute_result"
    }
   ],
   "source": [
    "articles_concat"
   ]
  },
  {
   "cell_type": "code",
   "execution_count": 44,
   "metadata": {
    "scrolled": true
   },
   "outputs": [
    {
     "data": {
      "text/plain": [
       "[('trump', 3421),\n",
       " ('clinton', 3057),\n",
       " ('one', 2414),\n",
       " ('us', 2386),\n",
       " ('said', 2343),\n",
       " ('people', 2308),\n",
       " ('would', 2231),\n",
       " ('hillary', 2056),\n",
       " ('also', 1746),\n",
       " ('like', 1679),\n",
       " ('new', 1464),\n",
       " ('election', 1460),\n",
       " ('time', 1389),\n",
       " ('even', 1375),\n",
       " ('state', 1243),\n",
       " ('president', 1199),\n",
       " ('could', 1170),\n",
       " ('get', 1159),\n",
       " ('campaign', 1136),\n",
       " ('many', 1106),\n",
       " ('media', 1093),\n",
       " ('donald', 1090),\n",
       " ('dont', 1000),\n",
       " ('first', 995),\n",
       " ('obama', 994),\n",
       " ('world', 991),\n",
       " ('years', 975),\n",
       " ('news', 952),\n",
       " ('states', 932),\n",
       " ('government', 909),\n",
       " ('american', 907),\n",
       " ('know', 899),\n",
       " ('two', 894),\n",
       " ('way', 885),\n",
       " ('women', 881),\n",
       " ('email', 856),\n",
       " ('white', 853),\n",
       " ('going', 851),\n",
       " ('make', 831),\n",
       " ('day', 827),\n",
       " ('see', 822),\n",
       " ('fbi', 818),\n",
       " ('political', 814),\n",
       " ('right', 786),\n",
       " ('well', 783),\n",
       " ('back', 777),\n",
       " ('clintons', 769),\n",
       " ('may', 768),\n",
       " ('take', 748),\n",
       " ('think', 740),\n",
       " ('october', 735),\n",
       " ('much', 724),\n",
       " ('say', 707),\n",
       " ('every', 694),\n",
       " ('since', 687),\n",
       " ('made', 684),\n",
       " ('last', 681),\n",
       " ('public', 678),\n",
       " ('go', 672),\n",
       " ('life', 671),\n",
       " ('want', 670),\n",
       " ('country', 665),\n",
       " ('man', 664),\n",
       " ('another', 662),\n",
       " ('war', 661),\n",
       " ('according', 658),\n",
       " ('vote', 653),\n",
       " ('united', 644),\n",
       " ('house', 643),\n",
       " ('men', 633),\n",
       " ('never', 631),\n",
       " ('good', 630),\n",
       " ('america', 626),\n",
       " ('police', 617),\n",
       " ('still', 610),\n",
       " ('work', 602),\n",
       " ('presidential', 600),\n",
       " ('trumps', 587),\n",
       " ('democratic', 582),\n",
       " ('emails', 579),\n",
       " ('national', 569),\n",
       " ('told', 567),\n",
       " ('fact', 563),\n",
       " ('percent', 555),\n",
       " ('law', 554),\n",
       " ('november', 550),\n",
       " ('support', 549),\n",
       " ('need', 548),\n",
       " ('million', 542),\n",
       " ('next', 536),\n",
       " ('year', 533),\n",
       " ('use', 531),\n",
       " ('party', 530),\n",
       " ('im', 526),\n",
       " ('power', 524),\n",
       " ('republican', 522),\n",
       " ('used', 519),\n",
       " ('investigation', 514),\n",
       " ('around', 512),\n",
       " ('information', 508),\n",
       " ('voters', 506),\n",
       " ('times', 503),\n",
       " ('case', 496),\n",
       " ('money', 489),\n",
       " ('system', 488),\n",
       " ('part', 486),\n",
       " ('russia', 484),\n",
       " ('says', 482),\n",
       " ('show', 481),\n",
       " ('might', 478),\n",
       " ('thats', 477),\n",
       " ('come', 476),\n",
       " ('bill', 475),\n",
       " ('former', 475),\n",
       " ('black', 474),\n",
       " ('americans', 474),\n",
       " ('today', 473),\n",
       " ('left', 466),\n",
       " ('really', 464),\n",
       " ('things', 459),\n",
       " ('must', 458),\n",
       " ('without', 458),\n",
       " ('free', 456),\n",
       " ('long', 456),\n",
       " ('already', 452),\n",
       " ('federal', 449),\n",
       " ('report', 447),\n",
       " ('including', 445),\n",
       " ('department', 442),\n",
       " ('group', 440),\n",
       " ('help', 440),\n",
       " ('force', 439),\n",
       " ('however', 439),\n",
       " ('human', 436),\n",
       " ('food', 435),\n",
       " ('found', 433),\n",
       " ('days', 433),\n",
       " ('die', 432),\n",
       " ('point', 431),\n",
       " ('der', 431),\n",
       " ('justice', 425),\n",
       " ('called', 425),\n",
       " ('something', 424),\n",
       " ('video', 421),\n",
       " ('control', 416),\n",
       " ('put', 414),\n",
       " ('social', 411),\n",
       " ('nothing', 408),\n",
       " ('ever', 408),\n",
       " ('military', 408),\n",
       " ('health', 402),\n",
       " ('city', 402),\n",
       " ('democrats', 401),\n",
       " ('believe', 399),\n",
       " ('end', 398),\n",
       " ('got', 397),\n",
       " ('office', 396),\n",
       " ('article', 395),\n",
       " ('washington', 393),\n",
       " ('comey', 389),\n",
       " ('actually', 384),\n",
       " ('voting', 382),\n",
       " ('candidate', 382),\n",
       " ('keep', 379),\n",
       " ('far', 379),\n",
       " ('place', 377),\n",
       " ('reported', 376),\n",
       " ('family', 372),\n",
       " ('three', 372),\n",
       " ('real', 370),\n",
       " ('big', 370),\n",
       " ('look', 368),\n",
       " ('away', 368),\n",
       " ('rights', 366),\n",
       " ('foreign', 366),\n",
       " ('great', 365),\n",
       " ('doesnt', 365),\n",
       " ('better', 365),\n",
       " ('week', 364),\n",
       " ('become', 363),\n",
       " ('matter', 363),\n",
       " ('number', 362),\n",
       " ('security', 359),\n",
       " ('children', 359),\n",
       " ('general', 358),\n",
       " ('john', 358),\n",
       " ('director', 358),\n",
       " ('yet', 358),\n",
       " ('officials', 357),\n",
       " ('least', 355),\n",
       " ('thing', 355),\n",
       " ('home', 354),\n",
       " ('mind', 354),\n",
       " ('york', 353),\n",
       " ('best', 353),\n",
       " ('didnt', 351),\n",
       " ('history', 350),\n",
       " ('secretary', 348),\n",
       " ('change', 348),\n",
       " ('israel', 347)]"
      ]
     },
     "execution_count": 44,
     "metadata": {},
     "output_type": "execute_result"
    }
   ],
   "source": [
    "articles_freqdist = FreqDist(articles_concat)\n",
    "articles_freqdist.most_common(200)"
   ]
  },
  {
   "cell_type": "code",
   "execution_count": 166,
   "metadata": {},
   "outputs": [],
   "source": [
    "top_words = articles_freqdist.most_common(10)"
   ]
  },
  {
   "cell_type": "code",
   "execution_count": 171,
   "metadata": {},
   "outputs": [],
   "source": [
    "x_val = [x[0] for x in top_words]\n",
    "y_val = [x[1] for x in top_words]"
   ]
  },
  {
   "cell_type": "code",
   "execution_count": 174,
   "metadata": {},
   "outputs": [
    {
     "data": {
      "text/plain": [
       "['trump',\n",
       " 'clinton',\n",
       " 'one',\n",
       " 'us',\n",
       " 'said',\n",
       " 'people',\n",
       " 'would',\n",
       " 'hillary',\n",
       " 'also',\n",
       " 'like']"
      ]
     },
     "execution_count": 174,
     "metadata": {},
     "output_type": "execute_result"
    }
   ],
   "source": [
    "x_val"
   ]
  },
  {
   "cell_type": "code",
   "execution_count": 175,
   "metadata": {},
   "outputs": [],
   "source": [
    "twords = pd.DataFrame(y_val, index=x_val, columns =['Top_Words']) "
   ]
  },
  {
   "cell_type": "code",
   "execution_count": 193,
   "metadata": {
    "scrolled": false
   },
   "outputs": [
    {
     "data": {
      "image/png": "[encoded data removed]",
      "text/plain": [
       "<Figure size 432x288 with 1 Axes>"
      ]
     },
     "metadata": {},
     "output_type": "display_data"
    }
   ],
   "source": [
    "twords.plot(kind='bar')\n",
    "plt.xlabel('Top Words')\n",
    "plt.ylabel('Word Frequency')\n",
    "plt.title('Most Frequent Words')\n",
    "plt.show()"
   ]
  },
  {
   "cell_type": "code",
   "execution_count": 203,
   "metadata": {},
   "outputs": [
    {
     "data": {
      "text/plain": [
       "[('trump', 1433),\n",
       " ('clinton', 1062),\n",
       " ('people', 1036),\n",
       " ('us', 1001),\n",
       " ('one', 990),\n",
       " ('said', 984),\n",
       " ('would', 881),\n",
       " ('hillary', 782),\n",
       " ('also', 663),\n",
       " ('like', 662)]"
      ]
     },
     "execution_count": 203,
     "metadata": {},
     "output_type": "execute_result"
    }
   ],
   "source": [
    "top_words_real = articles_freqdist_real.most_common(10)\n",
    "top_words_real"
   ]
  },
  {
   "cell_type": "code",
   "execution_count": 204,
   "metadata": {},
   "outputs": [],
   "source": [
    "top_words_real = articles_freqdist_real.most_common(10)\n",
    "x_val_real = [x[0] for x in top_words_real]\n",
    "y_val_real = [x[1] for x in top_words_real]\n",
    "twords_real = pd.DataFrame(y_val_real, index=x_val_real, columns =['Top_Words']) "
   ]
  },
  {
   "cell_type": "code",
   "execution_count": 192,
   "metadata": {},
   "outputs": [],
   "source": [
    "top_words_fake = articles_freqdist_fake.most_common(10)\n",
    "x_val_fake = [x[0] for x in top_words_fake]\n",
    "y_val_fake = [x[1] for x in top_words_fake]\n",
    "twords_fake = pd.DataFrame(y_val_fake, index=x_val_fake, columns =['Top_Words']) "
   ]
  },
  {
   "cell_type": "code",
   "execution_count": 205,
   "metadata": {},
   "outputs": [
    {
     "data": {
      "image/png": "[encoded data removed]",
      "text/plain": [
       "<Figure size 1296x432 with 2 Axes>"
      ]
     },
     "metadata": {},
     "output_type": "display_data"
    }
   ],
   "source": [
    "fig, axes = plt.subplots(nrows=1, ncols=2, figsize=(18,6))\n",
    "\n",
    "twords_real.plot(kind='bar', ax=axes[0], title='Real News - Top Words',\n",
    "                              color='Lightblue', alpha=.7, fontsize=14)\n",
    "twords_fake.plot(kind='bar', ax=axes[1], title='Fake News - Top Words',\n",
    "                              color='Gold', alpha=.7, fontsize=14)\n",
    "\n",
    "fig.suptitle('Real vs. Fake Top Words', fontsize=20)\n",
    "# ax.set_xlabel('xlabel', fontsize=10)\n",
    "# plt.ylabel('ylabel', fontsize=16)\n",
    "\n",
    "# Set common labels\n",
    "fig.text(0.5, -.05, 'Top Words', ha='center', va='center', fontsize=15)\n",
    "fig.text(0.08, 0.5, 'Word Frequency', ha='center', va='center', rotation='vertical', fontsize=15);"
   ]
  },
  {
   "cell_type": "code",
   "execution_count": null,
   "metadata": {},
   "outputs": [],
   "source": [
    "# Split between real and fake and compare"
   ]
  },
  {
   "cell_type": "markdown",
   "metadata": {},
   "source": [
    "Here we can get a feel that many of the articles are related to politcs and presidential elections. As my names or phrases seemed to be tied to compound phrases, bigrams or trigrams may improve results."
   ]
  },
  {
   "cell_type": "code",
   "execution_count": 45,
   "metadata": {},
   "outputs": [],
   "source": [
    "# Freq dist of common words - between real vs fake\n",
    "# Common Sources graph (website)"
   ]
  },
  {
   "cell_type": "code",
   "execution_count": 46,
   "metadata": {},
   "outputs": [],
   "source": [
    "# TFIDF next"
   ]
  },
  {
   "cell_type": "markdown",
   "metadata": {},
   "source": [
    "# Modeling"
   ]
  },
  {
   "cell_type": "markdown",
   "metadata": {},
   "source": [
    "### TF-IDF & TTS"
   ]
  },
  {
   "cell_type": "code",
   "execution_count": 47,
   "metadata": {},
   "outputs": [],
   "source": [
    "X = df.text\n",
    "y = df.label"
   ]
  },
  {
   "cell_type": "code",
   "execution_count": 48,
   "metadata": {},
   "outputs": [],
   "source": [
    "LE = LabelEncoder()\n",
    "y = LE.fit_transform(y)"
   ]
  },
  {
   "cell_type": "code",
   "execution_count": 49,
   "metadata": {},
   "outputs": [
    {
     "data": {
      "text/plain": [
       "758"
      ]
     },
     "execution_count": 49,
     "metadata": {},
     "output_type": "execute_result"
    }
   ],
   "source": [
    "y.sum()"
   ]
  },
  {
   "cell_type": "code",
   "execution_count": 50,
   "metadata": {},
   "outputs": [
    {
     "data": {
      "text/plain": [
       "2050"
      ]
     },
     "execution_count": 50,
     "metadata": {},
     "output_type": "execute_result"
    }
   ],
   "source": [
    "len(y)"
   ]
  },
  {
   "cell_type": "markdown",
   "metadata": {},
   "source": [
    "So 1's are 'real' and 0's are 'fake'."
   ]
  },
  {
   "cell_type": "code",
   "execution_count": 134,
   "metadata": {},
   "outputs": [],
   "source": [
    "X_train, X_test, y_train, y_test = train_test_split(X, y, random_state=112, test_size=0.2)"
   ]
  },
  {
   "cell_type": "code",
   "execution_count": 52,
   "metadata": {},
   "outputs": [
    {
     "name": "stdout",
     "output_type": "stream",
     "text": [
      "(410,)\n"
     ]
    },
    {
     "data": {
      "text/plain": [
       "(1640,)"
      ]
     },
     "execution_count": 52,
     "metadata": {},
     "output_type": "execute_result"
    }
   ],
   "source": [
    "print(y_test.shape)\n",
    "X_train.shape"
   ]
  },
  {
   "cell_type": "code",
   "execution_count": 154,
   "metadata": {},
   "outputs": [],
   "source": [
    "tfidorizer = TfidfVectorizer(stop_words=stopwords_list, ngram_range=(1,3))"
   ]
  },
  {
   "cell_type": "code",
   "execution_count": 54,
   "metadata": {},
   "outputs": [
    {
     "data": {
      "text/plain": [
       "228     by brandon turbeville in the latest developmen...\n",
       "831     election rigging and dirty tricks against trum...\n",
       "1651    the democratization of censorship\\n september ...\n",
       "316     adobochron  comment \\nsan francisco california...\n",
       "632     now its mustards time to shine posted today it...\n",
       "Name: text, dtype: object"
      ]
     },
     "execution_count": 54,
     "metadata": {},
     "output_type": "execute_result"
    }
   ],
   "source": [
    "X_train.head()"
   ]
  },
  {
   "cell_type": "code",
   "execution_count": 155,
   "metadata": {},
   "outputs": [],
   "source": [
    "X_train = tfidorizer.fit_transform(X_train)\n",
    "X_test = tfidorizer.transform(X_test)"
   ]
  },
  {
   "cell_type": "code",
   "execution_count": 56,
   "metadata": {},
   "outputs": [],
   "source": [
    "# Certain models require dense arrays - TFIDF saves as sparse\n",
    "X_train_dense = X_train.todense()\n",
    "X_test_dense = X_test.todense()"
   ]
  },
  {
   "cell_type": "code",
   "execution_count": 57,
   "metadata": {},
   "outputs": [
    {
     "name": "stdout",
     "output_type": "stream",
     "text": [
      "['abducted kept', 'abducted leaving', 'abducted murad', 'abducted night', 'abducted opinion', 'abducted tens', 'abducted tortured', 'abducted yes', 'abducting', 'abducting killing', 'abduction', 'abduction emoji', 'abduction murder', 'abduction took', 'abdul', 'abdul aziz', 'abdulazeez', 'abdulazeez dzhokhar', 'abdulaziz', 'abdulaziz airport']\n"
     ]
    }
   ],
   "source": [
    "print(tfidorizer.get_feature_names()[200:220])"
   ]
  },
  {
   "cell_type": "markdown",
   "metadata": {},
   "source": [
    "... what's an abduction emoji?"
   ]
  },
  {
   "cell_type": "markdown",
   "metadata": {},
   "source": [
    "### Decision Tree"
   ]
  },
  {
   "cell_type": "code",
   "execution_count": 58,
   "metadata": {},
   "outputs": [
    {
     "name": "stdout",
     "output_type": "stream",
     "text": [
      "13.416691064834595 s\n",
      "\n",
      "Training Model:\n",
      "----------------\n",
      " Precision Score (Train): 100.0%\n",
      " Recall Score (Train): 98.86%\n",
      " Accuracy Score (Train): 99.57%\n",
      " F1 Score (Train): 99.42%\n",
      " mAP (Train) Score: 99.28%\n",
      "\n",
      "Test Model:\n",
      "----------------\n",
      " Precision Score (Test): 62.67%\n",
      " Recall Score (Test): 64.38%\n",
      " Accuracy Score (Test): 73.66%\n",
      " F1 Score (Test): 63.51%\n",
      " mAP (Test) Score: 53.03%\n"
     ]
    }
   ],
   "source": [
    "from sklearn.tree import DecisionTreeClassifier\n",
    "\n",
    "# Instantiate Tree Classifier\n",
    "tree = DecisionTreeClassifier()\n",
    "\n",
    "t0 = time.time()\n",
    "\n",
    "# Fit classifier - straight out of the box\n",
    "tree.fit(X_train, y_train)\n",
    "\n",
    "# Predictions\n",
    "tree_train_preds = tree.predict(X_train)\n",
    "tree_test_preds = tree.predict(X_test)\n",
    "\n",
    "t1 = time.time()\n",
    "total = t1-t0\n",
    "print(total,'s\\n')\n",
    "\n",
    "print_metrics(tree_train_preds, y_train, tree_test_preds, y_test)"
   ]
  },
  {
   "cell_type": "code",
   "execution_count": 61,
   "metadata": {},
   "outputs": [
    {
     "data": {
      "image/png": "[encoded data removed]",
      "text/plain": [
       "<Figure size 648x648 with 2 Axes>"
      ]
     },
     "metadata": {},
     "output_type": "display_data"
    }
   ],
   "source": [
    "cm = confusion_matrix(tree_test_preds, y_test)\n",
    "plt.figure(figsize=(9,9))\n",
    "sns.heatmap(cm, annot=True, fmt=\".3f\", linewidths=.5, square = True, cmap = 'Blues_r');\n",
    "plt.ylabel('Actual label');\n",
    "plt.xlabel('Predicted label');\n",
    "all_sample_title = 'Accuracy Score: {0}'.format(round(accuracy_score(y_test, tree_test_preds), 4))\n",
    "plt.title(all_sample_title, size = 15);"
   ]
  },
  {
   "cell_type": "markdown",
   "metadata": {},
   "source": [
    "### Logistic Regression"
   ]
  },
  {
   "cell_type": "code",
   "execution_count": 158,
   "metadata": {},
   "outputs": [
    {
     "name": "stdout",
     "output_type": "stream",
     "text": [
      "3.430711030960083 s\n",
      "\n",
      "Training Model:\n",
      "----------------\n",
      " Precision Score (Train): 99.51%\n",
      " Recall Score (Train): 99.35%\n",
      " Accuracy Score (Train): 99.57%\n",
      " F1 Score (Train): 99.43%\n",
      " mAP (Train) Score: 99.1%\n",
      "\n",
      "Test Model:\n",
      "----------------\n",
      " Precision Score (Test): 78.95%\n",
      " Recall Score (Test): 51.37%\n",
      " Accuracy Score (Test): 77.8%\n",
      " F1 Score (Test): 62.24%\n",
      " mAP (Test) Score: 57.87%\n"
     ]
    }
   ],
   "source": [
    "# Instantiating logistic regression classifier model\n",
    "logreg = LogisticRegression(fit_intercept=False, C=1e5, solver='liblinear')\n",
    "\n",
    "t0 = time.time()\n",
    "\n",
    "# Fit the model\n",
    "logreg.fit(X_train, y_train)\n",
    "t1=time.time()\n",
    "total = t1-t0\n",
    "print(total,'s\\n')\n",
    "\n",
    "# Prediction\n",
    "lr_train_preds = logreg.predict(X_train)\n",
    "lr_test_preds = logreg.predict(X_test)\n",
    "\n",
    "print_metrics(lr_train_preds, y_train, lr_test_preds, y_test)"
   ]
  },
  {
   "cell_type": "markdown",
   "metadata": {},
   "source": [
    "... speedy McGee"
   ]
  },
  {
   "cell_type": "code",
   "execution_count": 112,
   "metadata": {},
   "outputs": [
    {
     "name": "stdout",
     "output_type": "stream",
     "text": [
      "1.082947015762329 s\n",
      "\n",
      "Training Model:\n",
      "----------------\n",
      " Precision Score (Train): 99.19%\n",
      " Recall Score (Train): 99.67%\n",
      " Accuracy Score (Train): 99.57%\n",
      " F1 Score (Train): 99.43%\n",
      " mAP (Train) Score: 98.98%\n",
      "\n",
      "Test Model:\n",
      "----------------\n",
      " Precision Score (Test): 80.58%\n",
      " Recall Score (Test): 56.85%\n",
      " Accuracy Score (Test): 79.76%\n",
      " F1 Score (Test): 66.67%\n",
      " mAP (Test) Score: 61.18%\n"
     ]
    }
   ],
   "source": [
    "# Instantiating logistic regression classifier model\n",
    "logreg = LogisticRegression(fit_intercept=True, C=1e5, solver='liblinear')\n",
    "\n",
    "t0 = time.time()\n",
    "\n",
    "# Fit the model\n",
    "logreg.fit(X_train, y_train)\n",
    "t1=time.time()\n",
    "total = t1-t0\n",
    "print(total,'s\\n')\n",
    "\n",
    "# Prediction\n",
    "lr_train_preds = logreg.predict(X_train)\n",
    "lr_test_preds = logreg.predict(X_test)\n",
    "\n",
    "print_metrics(lr_train_preds, y_train, lr_test_preds, y_test)"
   ]
  },
  {
   "cell_type": "code",
   "execution_count": 206,
   "metadata": {},
   "outputs": [
    {
     "name": "stdout",
     "output_type": "stream",
     "text": [
      "3.0577306747436523 s\n",
      "\n",
      "Training Model:\n",
      "----------------\n",
      " Precision Score (Train): 99.84%\n",
      " Recall Score (Train): 99.02%\n",
      " Accuracy Score (Train): 99.57%\n",
      " F1 Score (Train): 99.43%\n",
      " mAP (Train) Score: 99.22%\n",
      "\n",
      "Test Model:\n",
      "----------------\n",
      " Precision Score (Test): 79.44%\n",
      " Recall Score (Test): 58.22%\n",
      " Accuracy Score (Test): 79.76%\n",
      " F1 Score (Test): 67.19%\n",
      " mAP (Test) Score: 61.13%\n"
     ]
    }
   ],
   "source": [
    "# Instantiating logistic regression classifier model\n",
    "logreg = LogisticRegression(fit_intercept=True, C=1e6, solver='liblinear')\n",
    "\n",
    "t0 = time.time()\n",
    "\n",
    "# Fit the model\n",
    "logreg.fit(X_train, y_train)\n",
    "t1=time.time()\n",
    "total = t1-t0\n",
    "print(total,'s\\n')\n",
    "\n",
    "# Prediction\n",
    "lr_train_preds = logreg.predict(X_train)\n",
    "lr_test_preds = logreg.predict(X_test)\n",
    "\n",
    "print_metrics(lr_train_preds, y_train, lr_test_preds, y_test)"
   ]
  },
  {
   "cell_type": "code",
   "execution_count": 148,
   "metadata": {},
   "outputs": [
    {
     "name": "stdout",
     "output_type": "stream",
     "text": [
      "420.84135389328003 s\n",
      "\n",
      "Training Model:\n",
      "----------------\n",
      " Precision Score (Train): 99.67%\n",
      " Recall Score (Train): 99.18%\n",
      " Accuracy Score (Train): 99.57%\n",
      " F1 Score (Train): 99.43%\n",
      " mAP (Train) Score: 99.16%\n",
      "\n",
      "Test Model:\n",
      "----------------\n",
      " Precision Score (Test): 82.98%\n",
      " Recall Score (Test): 53.42%\n",
      " Accuracy Score (Test): 79.51%\n",
      " F1 Score (Test): 65.0%\n",
      " mAP (Test) Score: 60.92%\n"
     ]
    },
    {
     "name": "stderr",
     "output_type": "stream",
     "text": [
      "/opt/anaconda3/lib/python3.8/site-packages/sklearn/linear_model/_sag.py:329: ConvergenceWarning: The max_iter was reached which means the coef_ did not converge\n",
      "  warnings.warn(\"The max_iter was reached which means \"\n"
     ]
    }
   ],
   "source": [
    "# Instantiating logistic regression classifier model\n",
    "logreg = LogisticRegression(fit_intercept=True, C=1e6, solver='saga', penalty='elasticnet', l1_ratio=0.5)\n",
    "\n",
    "t0 = time.time()\n",
    "\n",
    "# Fit the model\n",
    "logreg.fit(X_train, y_train)\n",
    "t1=time.time()\n",
    "total = t1-t0\n",
    "print(total,'s\\n')\n",
    "\n",
    "# Prediction\n",
    "lr_train_preds = logreg.predict(X_train)\n",
    "lr_test_preds = logreg.predict(X_test)\n",
    "\n",
    "print_metrics(lr_train_preds, y_train, lr_test_preds, y_test)"
   ]
  },
  {
   "cell_type": "code",
   "execution_count": 143,
   "metadata": {},
   "outputs": [],
   "source": [
    "lr_params = {\n",
    "    'penalty': ['l1', 'l2', 'elasticnet', 'None'],\n",
    "}"
   ]
  },
  {
   "cell_type": "markdown",
   "metadata": {},
   "source": [
    "LogReg actually had the highest out-of-box score and fastest run time. At first I was disappointed since it's not a \"sexy\" algorithm... but then I realized, this is great for practical purposes! Adjusting the C-parameter to reduce regularization penalty improved accuracy (worsened precision, improved recall). Liblnear has the highest score and fastest run time.\n",
    "\n",
    "We'll see how things change as I tune parameters and after running SMOTE/PCA/more NLP.\n"
   ]
  },
  {
   "cell_type": "code",
   "execution_count": 208,
   "metadata": {},
   "outputs": [
    {
     "data": {
      "image/png": "[encoded data removed]",
      "text/plain": [
       "<Figure size 648x648 with 2 Axes>"
      ]
     },
     "metadata": {},
     "output_type": "display_data"
    }
   ],
   "source": [
    "cm = confusion_matrix(lr_test_preds, y_test)\n",
    "plt.figure(figsize=(9,9))\n",
    "sns.heatmap(cm, annot=True, fmt=\".3f\", linewidths=.5, square = True, cmap = 'Blues_r');\n",
    "plt.ylabel('Actual label');\n",
    "plt.xlabel('Predicted label');\n",
    "all_sample_title = 'Accuracy Score: {0}'.format(round(accuracy_score(y_test, lr_test_preds), 4))\n",
    "plt.title(all_sample_title, size = 15);"
   ]
  },
  {
   "cell_type": "markdown",
   "metadata": {},
   "source": [
    "### Gaussian Naive Bayes"
   ]
  },
  {
   "cell_type": "code",
   "execution_count": 66,
   "metadata": {},
   "outputs": [
    {
     "name": "stdout",
     "output_type": "stream",
     "text": [
      "48.827296018600464 s\n",
      "\n",
      "Training Model:\n",
      "----------------\n",
      " Precision Score (Train): 97.3%\n",
      " Recall Score (Train): 100.0%\n",
      " Accuracy Score (Train): 98.96%\n",
      " F1 Score (Train): 98.63%\n",
      " mAP (Train) Score: 97.3%\n",
      "\n",
      "Test Model:\n",
      "----------------\n",
      " Precision Score (Test): 72.38%\n",
      " Recall Score (Test): 52.05%\n",
      " Accuracy Score (Test): 75.85%\n",
      " F1 Score (Test): 60.56%\n",
      " mAP (Test) Score: 54.75%\n"
     ]
    }
   ],
   "source": [
    "# Instantiating Naive Bayes classifier\n",
    "nb_classifier = GaussianNB()\n",
    "\n",
    "t0 = time.time()\n",
    "\n",
    "# Fit NB classifier\n",
    "nb_classifier.fit(X_train_dense, y_train)\n",
    "t1 = time.time()\n",
    "total = t1-t0\n",
    "print(total,'s\\n')\n",
    "\n",
    "# Fortune telling...\n",
    "nb_train_preds = nb_classifier.predict(X_train_dense)\n",
    "nb_test_preds = nb_classifier.predict(X_test_dense)\n",
    "\n",
    "print_metrics(nb_train_preds, y_train, nb_test_preds, y_test)"
   ]
  },
  {
   "cell_type": "markdown",
   "metadata": {},
   "source": [
    "Base models are performing well on the training sets but overfitting as seen by the lower testing accuracy. \n",
    "\n",
    "There are severe democratic implications when considering we may validate disinformation as truth OR silence truth by labeling it as disinformation. Therefore, precision vs. recall is not an easy decision. In the context of our problem - classifying in conjunction with a recommendation system - precision (along with accuracy) is likely the better metric. It would be dangerous to validate fake information as real. \n",
    "\n",
    "Note: Decision Tree/Log Reg is performing better than Naive Bayes out-of-the-box with a significantly less run time (and memory footprint) since it can take in sparse arrays. This is important when we have 342,000+ columns."
   ]
  },
  {
   "cell_type": "markdown",
   "metadata": {},
   "source": [
    "### Random Forest"
   ]
  },
  {
   "cell_type": "code",
   "execution_count": 68,
   "metadata": {},
   "outputs": [
    {
     "name": "stdout",
     "output_type": "stream",
     "text": [
      "32.40431833267212 s\n",
      "Training Model:\n",
      "----------------\n",
      " Precision Score (Train): 99.51%\n",
      " Recall Score (Train): 99.35%\n",
      " Accuracy Score (Train): 99.57%\n",
      " F1 Score (Train): 99.43%\n",
      " mAP (Train) Score: 99.1%\n",
      "\n",
      "Test Model:\n",
      "----------------\n",
      " Precision Score (Test): 94.03%\n",
      " Recall Score (Test): 43.15%\n",
      " Accuracy Score (Test): 78.78%\n",
      " F1 Score (Test): 59.15%\n",
      " mAP (Test) Score: 60.82%\n"
     ]
    }
   ],
   "source": [
    "# Onto the ensembles... instantiate random forest\n",
    "rf_classifier = RandomForestClassifier(n_estimators=100)\n",
    "\n",
    "t0 = time.time()\n",
    "# Fit Random Forest\n",
    "rf_classifier.fit(X_train, y_train)\n",
    "t1 = time.time()\n",
    "\n",
    "total = t1-t0\n",
    "print(total,'s')\n",
    "\n",
    "\n",
    "# Prediction time\n",
    "rf_train_preds = rf_classifier.predict(X_train)\n",
    "rf_test_preds = rf_classifier.predict(X_test)\n",
    "\n",
    "print_metrics(rf_train_preds, y_train, rf_test_preds, y_test)"
   ]
  },
  {
   "cell_type": "markdown",
   "metadata": {},
   "source": [
    "Random Forest has the highest precision on the test set - may be the go to if we want to have the lowest number of false positives (labeled real when it is not real)."
   ]
  },
  {
   "cell_type": "markdown",
   "metadata": {},
   "source": [
    "#### GridSearch - RF"
   ]
  },
  {
   "cell_type": "code",
   "execution_count": 69,
   "metadata": {},
   "outputs": [],
   "source": [
    "from sklearn.model_selection import GridSearchCV"
   ]
  },
  {
   "cell_type": "code",
   "execution_count": 70,
   "metadata": {},
   "outputs": [],
   "source": [
    "# Parameters for optimization\n",
    "rf_params = {\n",
    "    'n_estimators': [100, 200, 300],\n",
    "    'criterion': ['gini', 'entropy'],\n",
    "    'max_depth': [None, 2, 6, 10],\n",
    "    'min_samples_split': [5, 10],\n",
    "    'min_samples_leaf': [3, 6]\n",
    "}"
   ]
  },
  {
   "cell_type": "code",
   "execution_count": 71,
   "metadata": {},
   "outputs": [
    {
     "name": "stdout",
     "output_type": "stream",
     "text": [
      "Training Accuracy: 71.77%\n",
      "\n",
      "Optimal Parameters: {'criterion': 'entropy', 'max_depth': None, 'min_samples_leaf': 3, 'min_samples_split': 10, 'n_estimators': 200}\n",
      "\n",
      " 615.499135017395 s\n",
      "\n",
      "Random forest grid search: 78.29%\n"
     ]
    }
   ],
   "source": [
    "\n",
    "t0 = time.time()\n",
    "\n",
    "gs_rf = GridSearchCV(rf_classifier, rf_params, cv=3)\n",
    "\n",
    "gs_rf.fit(X_train, y_train)\n",
    "\n",
    "print(f\"Training Accuracy: {gs_rf.best_score_ :.2%}\")\n",
    "print(\"\")\n",
    "print(f\"Optimal Parameters: {gs_rf.best_params_}\")\n",
    "\n",
    "t1 = time.time()\n",
    "total = t1-t0\n",
    "print('\\n',total,'s\\n')\n",
    "\n",
    "rf_score = (gs_rf.score(X_test, y_test)*100)\n",
    "\n",
    "print('Random forest grid search: {}%'.format((round(rf_score, 2))))"
   ]
  },
  {
   "cell_type": "code",
   "execution_count": 111,
   "metadata": {},
   "outputs": [
    {
     "name": "stdout",
     "output_type": "stream",
     "text": [
      "5.234730005264282 s\n",
      "Training Model:\n",
      "----------------\n",
      " Precision Score (Train): 99.21%\n",
      " Recall Score (Train): 82.35%\n",
      " Accuracy Score (Train): 93.17%\n",
      " F1 Score (Train): 90.0%\n",
      " mAP (Train) Score: 88.29%\n",
      "\n",
      "Test Model:\n",
      "----------------\n",
      " Precision Score (Test): 96.36%\n",
      " Recall Score (Test): 36.3%\n",
      " Accuracy Score (Test): 76.83%\n",
      " F1 Score (Test): 52.74%\n",
      " mAP (Test) Score: 57.66%\n"
     ]
    }
   ],
   "source": [
    "# Optimized RF classifier\n",
    "rf_classifier = RandomForestClassifier(criterion='entropy', max_depth=None, min_samples_leaf=3, \n",
    "                                       min_samples_split=10, n_estimators=200)\n",
    "\n",
    "t0 = time.time()\n",
    "# Fit Random Forest\n",
    "rf_classifier.fit(X_train, y_train)\n",
    "t1 = time.time()\n",
    "\n",
    "total = t1-t0\n",
    "print(total,'s')\n",
    "\n",
    "\n",
    "# Prediction time\n",
    "rf_train_preds = rf_classifier.predict(X_train)\n",
    "rf_test_preds = rf_classifier.predict(X_test)\n",
    "\n",
    "print_metrics(rf_train_preds, y_train, rf_test_preds, y_test)"
   ]
  },
  {
   "cell_type": "markdown",
   "metadata": {},
   "source": [
    "Optimized parameters performed worse..."
   ]
  },
  {
   "cell_type": "markdown",
   "metadata": {},
   "source": [
    "Random Forest ran well enough but falls short of SVM."
   ]
  },
  {
   "cell_type": "markdown",
   "metadata": {},
   "source": [
    "### Gradient Boost"
   ]
  },
  {
   "cell_type": "markdown",
   "metadata": {},
   "source": [
    "#### ... need more powaaaa"
   ]
  },
  {
   "cell_type": "code",
   "execution_count": 72,
   "metadata": {},
   "outputs": [],
   "source": [
    "from sklearn.ensemble import GradientBoostingClassifier"
   ]
  },
  {
   "cell_type": "code",
   "execution_count": 73,
   "metadata": {},
   "outputs": [
    {
     "name": "stdout",
     "output_type": "stream",
     "text": [
      "\n",
      " 50.31204700469971 s\n",
      "\n",
      "Training Model:\n",
      "----------------\n",
      " Precision Score (Train): 98.87%\n",
      " Recall Score (Train): 71.24%\n",
      " Accuracy Score (Train): 88.96%\n",
      " F1 Score (Train): 82.81%\n",
      " mAP (Train) Score: 81.17%\n",
      "\n",
      "Test Model:\n",
      "----------------\n",
      " Precision Score (Test): 78.57%\n",
      " Recall Score (Test): 52.74%\n",
      " Accuracy Score (Test): 78.05%\n",
      " F1 Score (Test): 63.11%\n",
      " mAP (Test) Score: 58.27%\n"
     ]
    }
   ],
   "source": [
    "# Instantiate an GradientBoostingClassifier\n",
    "gbt_clf = GradientBoostingClassifier(random_state=23)\n",
    "\n",
    "t0 = time.time()\n",
    "\n",
    "# Fit GradientBoostingClassifier\n",
    "gbt_clf.fit(X_train, y_train)\n",
    "\n",
    "t1 = time.time()\n",
    "total = t1-t0\n",
    "print('\\n',total,'s\\n')\n",
    "\n",
    "# GradientBoosting model predictions\n",
    "gbt_train_preds = gbt_clf.predict(X_train)\n",
    "gbt_test_preds = gbt_clf.predict(X_test)\n",
    "\n",
    "# Scores\n",
    "print_metrics(gbt_train_preds, y_train, gbt_test_preds, y_test)"
   ]
  },
  {
   "cell_type": "markdown",
   "metadata": {},
   "source": [
    "#### GridSearch - Gradient Boost"
   ]
  },
  {
   "cell_type": "code",
   "execution_count": 74,
   "metadata": {},
   "outputs": [],
   "source": [
    "# Parameters for optimization\n",
    "gb_params = {\n",
    "    \"learning_rate\": [0.01, 0.1, 0.2],\n",
    "    \"max_depth\":[3,5,8],\n",
    "    \"criterion\": [\"friedman_mse\"],\n",
    "    \"subsample\":[0.5, 0.8, 0.9, 1.0],\n",
    "    \"n_estimators\":[50, 100, 200]\n",
    "    }"
   ]
  },
  {
   "cell_type": "code",
   "execution_count": 76,
   "metadata": {},
   "outputs": [
    {
     "name": "stdout",
     "output_type": "stream",
     "text": [
      "Training Accuracy: 78.35%\n",
      "\n",
      "Optimal Parameters: {'criterion': 'friedman_mse', 'learning_rate': 0.1, 'max_depth': 8, 'n_estimators': 100, 'subsample': 0.9}\n",
      "\n",
      " 21521.1594748497 s\n",
      "\n",
      "Gradient Boosting grid search: 78.29%\n"
     ]
    }
   ],
   "source": [
    "t0 = time.time()\n",
    "\n",
    "gs_gb = GridSearchCV(gbt_clf, gb_params, n_jobs=-1)\n",
    "\n",
    "gs_gb.fit(X_train, y_train)\n",
    "\n",
    "print(f\"Training Accuracy: {gs_gb.best_score_ :.2%}\")\n",
    "print(\"\")\n",
    "print(f\"Optimal Parameters: {gs_gb.best_params_}\")\n",
    "\n",
    "t1 = time.time()\n",
    "total = t1-t0\n",
    "print('\\n',total,'s\\n')\n",
    "\n",
    "gb_score = (gs_gb.score(X_test, y_test)*100)\n",
    "\n",
    "print('Gradient Boosting grid search: {}%'.format((round(rf_score, 2))))"
   ]
  },
  {
   "cell_type": "markdown",
   "metadata": {},
   "source": [
    "Found slightly better parameters for Gradient Boosting but considering computation costs and worse performance than SVM, will rule out Gradient Boosting.\n",
    "\n",
    "P.S. The previous gradient search I ran was going for 40 hours before I stopped it..."
   ]
  },
  {
   "cell_type": "markdown",
   "metadata": {},
   "source": [
    "## XGBoost"
   ]
  },
  {
   "cell_type": "code",
   "execution_count": 79,
   "metadata": {},
   "outputs": [
    {
     "name": "stderr",
     "output_type": "stream",
     "text": [
      "/opt/anaconda3/lib/python3.8/site-packages/xgboost/sklearn.py:888: UserWarning: The use of label encoder in XGBClassifier is deprecated and will be removed in a future release. To remove this warning, do the following: 1) Pass option use_label_encoder=False when constructing XGBClassifier object; and 2) Encode your labels (y) as integers starting with 0, i.e. 0, 1, 2, ..., [num_class - 1].\n",
      "  warnings.warn(label_encoder_deprecation_msg, UserWarning)\n"
     ]
    },
    {
     "name": "stdout",
     "output_type": "stream",
     "text": [
      "[19:55:09] WARNING: /Users/travis/build/dmlc/xgboost/src/learner.cc:1061: Starting in XGBoost 1.3.0, the default evaluation metric used with the objective 'binary:logistic' was changed from 'error' to 'logloss'. Explicitly set eval_metric if you'd like to restore the old behavior.\n",
      "Training Model:\n",
      "----------------\n",
      " Precision Score (Train): 99.49%\n",
      " Recall Score (Train): 96.08%\n",
      " Accuracy Score (Train): 98.35%\n",
      " F1 Score (Train): 97.76%\n",
      " mAP (Train) Score: 97.05%\n",
      "\n",
      "Test Model:\n",
      "----------------\n",
      " Precision Score (Test): 75.61%\n",
      " Recall Score (Test): 63.7%\n",
      " Accuracy Score (Test): 79.76%\n",
      " F1 Score (Test): 69.14%\n",
      " mAP (Test) Score: 61.09%\n"
     ]
    }
   ],
   "source": [
    "# Instantiate XGBClassifier\n",
    "xgb_clf = XGBClassifier()\n",
    "\n",
    "t0 = time.time()\n",
    "# Fit XGBClassifier\n",
    "xgb_clf.fit(X_train, y_train)\n",
    "\n",
    "t1 = time.time()\n",
    "total = t1-t0\n",
    "print('\\n',total,'s\\n')\n",
    "\n",
    "# Predict on training and test sets\n",
    "xgb_train_preds = xgb_clf.predict(X_train)\n",
    "xgb_test_preds = xgb_clf.predict(X_test)\n",
    "\n",
    "print_metrics(xgb_train_preds, y_train, xgb_test_preds, y_test)"
   ]
  },
  {
   "cell_type": "markdown",
   "metadata": {},
   "source": [
    "Tried tuning XGBoost, but it's clearly smarter than me and best out-of-the box."
   ]
  },
  {
   "cell_type": "markdown",
   "metadata": {},
   "source": [
    "## SVM"
   ]
  },
  {
   "cell_type": "code",
   "execution_count": 82,
   "metadata": {},
   "outputs": [
    {
     "name": "stdout",
     "output_type": "stream",
     "text": [
      "\n",
      " 7.646892786026001 s\n",
      "\n",
      "Training Model:\n",
      "----------------\n",
      " Precision Score (Train): 99.51%\n",
      " Recall Score (Train): 99.02%\n",
      " Accuracy Score (Train): 99.45%\n",
      " F1 Score (Train): 99.26%\n",
      " mAP (Train) Score: 98.9%\n",
      "\n",
      "Test Model:\n",
      "----------------\n",
      " Precision Score (Test): 82.0%\n",
      " Recall Score (Test): 56.16%\n",
      " Accuracy Score (Test): 80.0%\n",
      " F1 Score (Test): 66.67%\n",
      " mAP (Test) Score: 61.66%\n"
     ]
    }
   ],
   "source": [
    "# Instantiate SVM \n",
    "svm_clf = SVC(kernel='linear', C=100) \n",
    "\n",
    "t0 = time.time()\n",
    "\n",
    "# Fit SVM classifier\n",
    "svm_clf.fit(X_train, y_train)\n",
    "\n",
    "t1 = time.time()\n",
    "total = t1-t0\n",
    "print('\\n',total,'s\\n')\n",
    "\n",
    "# Predictions\n",
    "svm_train_preds = svm_clf.predict(X_train)\n",
    "svm_test_preds = svm_clf.predict(X_test)\n",
    "\n",
    "print_metrics(svm_train_preds, y_train, svm_test_preds, y_test)"
   ]
  },
  {
   "cell_type": "code",
   "execution_count": 98,
   "metadata": {},
   "outputs": [
    {
     "name": "stdout",
     "output_type": "stream",
     "text": [
      "\n",
      " 6.108777046203613 s\n",
      "\n",
      "Training Model:\n",
      "----------------\n",
      " Precision Score (Train): 99.35%\n",
      " Recall Score (Train): 99.18%\n",
      " Accuracy Score (Train): 99.45%\n",
      " F1 Score (Train): 99.26%\n",
      " mAP (Train) Score: 98.84%\n",
      "\n",
      "Test Model:\n",
      "----------------\n",
      " Precision Score (Test): 78.63%\n",
      " Recall Score (Test): 63.01%\n",
      " Accuracy Score (Test): 80.73%\n",
      " F1 Score (Test): 69.96%\n",
      " mAP (Test) Score: 62.72%\n"
     ]
    }
   ],
   "source": [
    "# Instantiate SVM \n",
    "svm_clf = SVC(kernel='sigmoid', C=500) \n",
    "\n",
    "t0 = time.time()\n",
    "\n",
    "# Fit SVM classifier\n",
    "svm_clf.fit(X_train, y_train)\n",
    "\n",
    "t1 = time.time()\n",
    "total = t1-t0\n",
    "print('\\n',total,'s\\n')\n",
    "\n",
    "# Predictions\n",
    "svm_train_preds = svm_clf.predict(X_train)\n",
    "svm_test_preds = svm_clf.predict(X_test)\n",
    "\n",
    "print_metrics(svm_train_preds, y_train, svm_test_preds, y_test)"
   ]
  },
  {
   "cell_type": "code",
   "execution_count": 78,
   "metadata": {},
   "outputs": [
    {
     "name": "stdout",
     "output_type": "stream",
     "text": [
      "\n",
      " 7.067543029785156 s\n",
      "\n",
      "Training Model:\n",
      "----------------\n",
      " Precision Score (Train): 99.35%\n",
      " Recall Score (Train): 99.18%\n",
      " Accuracy Score (Train): 99.45%\n",
      " F1 Score (Train): 99.26%\n",
      " mAP (Train) Score: 98.84%\n",
      "\n",
      "Test Model:\n",
      "----------------\n",
      " Precision Score (Test): 79.17%\n",
      " Recall Score (Test): 65.07%\n",
      " Accuracy Score (Test): 81.46%\n",
      " F1 Score (Test): 71.43%\n",
      " mAP (Test) Score: 63.95%\n"
     ]
    }
   ],
   "source": [
    "# Instantiate SVM \n",
    "svm_clf = SVC(kernel='sigmoid', C=200) \n",
    "\n",
    "t0 = time.time()\n",
    "\n",
    "# Fit SVM classifier\n",
    "svm_clf.fit(X_train, y_train)\n",
    "\n",
    "t1 = time.time()\n",
    "total = t1-t0\n",
    "print('\\n',total,'s\\n')\n",
    "\n",
    "# Predictions\n",
    "svm_train_preds = svm_clf.predict(X_train)\n",
    "svm_test_preds = svm_clf.predict(X_test)\n",
    "\n",
    "print_metrics(svm_train_preds, y_train, svm_test_preds, y_test)"
   ]
  },
  {
   "cell_type": "markdown",
   "metadata": {},
   "source": [
    "After tuning, specifically with sigmoid-kernel, SVM is performing the best of any model at a relatively fast speed."
   ]
  },
  {
   "cell_type": "markdown",
   "metadata": {},
   "source": [
    "# Re-NLP | PCA | SMOTE"
   ]
  },
  {
   "cell_type": "code",
   "execution_count": 58,
   "metadata": {},
   "outputs": [],
   "source": [
    "def get_top_n_words(corpus, n=None):\n",
    "    vec = CountVectorizer().fit(corpus)\n",
    "    bag_of_words = vec.transform(corpus)\n",
    "    sum_words = bag_of_words.sum(axis=0) \n",
    "    words_freq = [(word, sum_words[0, idx]) for word, idx in     vec.vocabulary_.items()]\n",
    "    words_freq =sorted(words_freq, key = lambda x: x[1], reverse=True)\n",
    "    return words_freq[:n]\n",
    "\n",
    "def get_top_n_bigram(corpus, n=None):\n",
    "    vec = CountVectorizer(ngram_range=(2, 2)).fit(corpus)\n",
    "    bag_of_words = vec.transform(corpus)\n",
    "    sum_words = bag_of_words.sum(axis=0) \n",
    "    words_freq = [(word, sum_words[0, idx]) for word, idx in vec.vocabulary_.items()]\n",
    "    words_freq =sorted(words_freq, key = lambda x: x[1], reverse=True)\n",
    "    return words_freq[:n]\n",
    "\n",
    "\n",
    "def get_top_n_trigram(corpus, n=None):\n",
    "    vec = CountVectorizer(ngram_range=(3, 3)).fit(corpus)\n",
    "    bag_of_words = vec.transform(corpus)\n",
    "    sum_words = bag_of_words.sum(axis=0) \n",
    "    words_freq = [(word, sum_words[0, idx]) for word, idx in vec.vocabulary_.items()]\n",
    "    words_freq =sorted(words_freq, key = lambda x: x[1], reverse=True)\n",
    "    return words_freq[:n]"
   ]
  },
  {
   "cell_type": "code",
   "execution_count": 59,
   "metadata": {},
   "outputs": [
    {
     "data": {
      "text/plain": [
       "[('of the', 6062),\n",
       " ('in the', 4610),\n",
       " ('to the', 2807),\n",
       " ('on the', 1838),\n",
       " ('and the', 1800),\n",
       " ('to be', 1595),\n",
       " ('that the', 1586),\n",
       " ('for the', 1536),\n",
       " ('at the', 1269),\n",
       " ('with the', 1216),\n",
       " ('it is', 1152),\n",
       " ('from the', 1115),\n",
       " ('hillary clinton', 1075),\n",
       " ('by the', 1072),\n",
       " ('donald trump', 894),\n",
       " ('this is', 856),\n",
       " ('is the', 837),\n",
       " ('has been', 771),\n",
       " ('the us', 771),\n",
       " ('as the', 735)]"
      ]
     },
     "execution_count": 59,
     "metadata": {},
     "output_type": "execute_result"
    }
   ],
   "source": [
    "get_top_n_bigram(df.text, 20)"
   ]
  },
  {
   "cell_type": "code",
   "execution_count": 60,
   "metadata": {},
   "outputs": [
    {
     "data": {
      "text/plain": [
       "[('the united states', 460),\n",
       " ('one of the', 366),\n",
       " ('as well as', 243),\n",
       " ('the white house', 232),\n",
       " ('according to the', 208),\n",
       " ('the fact that', 203),\n",
       " ('secretary of state', 182),\n",
       " ('in order to', 182),\n",
       " ('the clinton campaign', 157),\n",
       " ('part of the', 153),\n",
       " ('there is no', 149),\n",
       " ('out of the', 139),\n",
       " ('some of the', 138),\n",
       " ('the clinton foundation', 137),\n",
       " ('is going to', 134),\n",
       " ('of the united', 133),\n",
       " ('be able to', 125),\n",
       " ('in the world', 124),\n",
       " ('the rest of', 124),\n",
       " ('in the us', 123)]"
      ]
     },
     "execution_count": 60,
     "metadata": {},
     "output_type": "execute_result"
    }
   ],
   "source": [
    "get_top_n_trigram(df.text, 20)"
   ]
  },
  {
   "cell_type": "code",
   "execution_count": 64,
   "metadata": {},
   "outputs": [],
   "source": [
    "contraction_mapping = {\"ain't\": \"is not\", \"aren't\": \"are not\",\"can't\": \"cannot\", \n",
    "                   \"can't've\": \"cannot have\", \"'cause\": \"because\", \"could've\": \"could have\", \n",
    "                   \"couldn't\": \"could not\", \"couldn't've\": \"could not have\",\"didn't\": \"did not\", \n",
    "                   \"doesn't\": \"does not\", \"don't\": \"do not\", \"hadn't\": \"had not\", \n",
    "                   \"hadn't've\": \"had not have\", \"hasn't\": \"has not\", \"haven't\": \"have not\", \n",
    "                   \"he'd\": \"he would\", \"he'd've\": \"he would have\", \"he'll\": \"he will\", \n",
    "                   \"he'll've\": \"he will have\", \"he's\": \"he is\", \"how'd\": \"how did\", \n",
    "                   \"how'd'y\": \"how do you\", \"how'll\": \"how will\", \"how's\": \"how is\", \n",
    "                   \"I'd\": \"I would\", \"I'd've\": \"I would have\", \"I'll\": \"I will\", \n",
    "                   \"I'll've\": \"I will have\",\"I'm\": \"I am\", \"I've\": \"I have\", \n",
    "                   \"i'd\": \"i would\", \"i'd've\": \"i would have\", \"i'll\": \"i will\", \n",
    "                   \"i'll've\": \"i will have\",\"i'm\": \"i am\", \"i've\": \"i have\", \n",
    "                   \"isn't\": \"is not\", \"it'd\": \"it would\", \"it'd've\": \"it would have\", \n",
    "                   \"it'll\": \"it will\", \"it'll've\": \"it will have\",\"it's\": \"it is\", \n",
    "                   \"let's\": \"let us\", \"ma'am\": \"madam\", \"mayn't\": \"may not\", \n",
    "                   \"might've\": \"might have\",\"mightn't\": \"might not\",\"mightn't've\": \"might not have\", \n",
    "                   \"must've\": \"must have\", \"mustn't\": \"must not\", \"mustn't've\": \"must not have\", \n",
    "                   \"needn't\": \"need not\", \"needn't've\": \"need not have\",\"o'clock\": \"of the clock\", \n",
    "                   \"oughtn't\": \"ought not\", \"oughtn't've\": \"ought not have\", \"shan't\": \"shall not\",\n",
    "                   \"sha'n't\": \"shall not\", \"shan't've\": \"shall not have\", \"she'd\": \"she would\", \n",
    "                   \"she'd've\": \"she would have\", \"she'll\": \"she will\", \"she'll've\": \"she will have\", \n",
    "                   \"she's\": \"she is\", \"should've\": \"should have\", \"shouldn't\": \"should not\", \n",
    "                   \"shouldn't've\": \"should not have\", \"so've\": \"so have\",\"so's\": \"so as\", \n",
    "                   \"this's\": \"this is\",\n",
    "                   \"that'd\": \"that would\", \"that'd've\": \"that would have\",\"that's\": \"that is\", \n",
    "                   \"there'd\": \"there would\", \"there'd've\": \"there would have\",\"there's\": \"there is\", \n",
    "                       \"here's\": \"here is\",\n",
    "                   \"they'd\": \"they would\", \"they'd've\": \"they would have\", \"they'll\": \"they will\", \n",
    "                   \"they'll've\": \"they will have\", \"they're\": \"they are\", \"they've\": \"they have\", \n",
    "                   \"to've\": \"to have\", \"wasn't\": \"was not\", \"we'd\": \"we would\", \n",
    "                   \"we'd've\": \"we would have\", \"we'll\": \"we will\", \"we'll've\": \"we will have\", \n",
    "                   \"we're\": \"we are\", \"we've\": \"we have\", \"weren't\": \"were not\", \n",
    "                   \"what'll\": \"what will\", \"what'll've\": \"what will have\", \"what're\": \"what are\", \n",
    "                   \"what's\": \"what is\", \"what've\": \"what have\", \"when's\": \"when is\", \n",
    "                   \"when've\": \"when have\", \"where'd\": \"where did\", \"where's\": \"where is\", \n",
    "                   \"where've\": \"where have\", \"who'll\": \"who will\", \"who'll've\": \"who will have\", \n",
    "                   \"who's\": \"who is\", \"who've\": \"who have\", \"why's\": \"why is\", \n",
    "                   \"why've\": \"why have\", \"will've\": \"will have\", \"won't\": \"will not\", \n",
    "                   \"won't've\": \"will not have\", \"would've\": \"would have\", \"wouldn't\": \"would not\", \n",
    "                   \"wouldn't've\": \"would not have\", \"y'all\": \"you all\", \"y'all'd\": \"you all would\",\n",
    "                   \"y'all'd've\": \"you all would have\",\"y'all're\": \"you all are\",\"y'all've\": \"you all have\",\n",
    "                   \"you'd\": \"you would\", \"you'd've\": \"you would have\", \"you'll\": \"you will\", \n",
    "                   \"you'll've\": \"you will have\", \"you're\": \"you are\", \"you've\": \"you have\" } "
   ]
  },
  {
   "cell_type": "code",
   "execution_count": 66,
   "metadata": {},
   "outputs": [
    {
     "name": "stdout",
     "output_type": "stream",
     "text": [
      "Collecting unidecode\n",
      "  Downloading Unidecode-1.1.2-py2.py3-none-any.whl (239 kB)\n",
      "\u001b[K     |████████████████████████████████| 239 kB 3.3 MB/s eta 0:00:01\n",
      "\u001b[?25hInstalling collected packages: unidecode\n",
      "Successfully installed unidecode-1.1.2\n"
     ]
    }
   ],
   "source": [
    "!pip install unidecode"
   ]
  },
  {
   "cell_type": "code",
   "execution_count": 67,
   "metadata": {},
   "outputs": [],
   "source": [
    "import codecs\n",
    "import unidecode\n",
    "import re\n",
    "import spacy\n",
    "nlp = spacy.load('en')\n",
    "\n",
    "def spacy_cleaner(text):\n",
    "    try:\n",
    "        decoded = unidecode.unidecode(codecs.decode(text, 'unicode_escape'))\n",
    "    except:\n",
    "        decoded = unidecode.unidecode(text)\n",
    "    apostrophe_handled = re.sub(\"’\", \"'\", decoded)\n",
    "    expanded = ' '.join([contraction_mapping[t] if t in contraction_mapping else t for t in apostrophe_handled.split(\" \")])\n",
    "    parsed = nlp(expanded)\n",
    "    final_tokens = []\n",
    "    for t in parsed:\n",
    "        if t.is_punct or t.is_space or t.like_num or t.like_url or str(t).startswith('@'):\n",
    "            pass\n",
    "        else:\n",
    "            if t.lemma_ == '-PRON-':\n",
    "                final_tokens.append(str(t))\n",
    "            else:\n",
    "                sc_removed = re.sub(\"[^a-zA-Z]\", '', str(t.lemma_))\n",
    "                if len(sc_removed) > 1:\n",
    "                    final_tokens.append(sc_removed)\n",
    "    joined = ' '.join(final_tokens)\n",
    "    spell_corrected = re.sub(r'(.)\\1+', r'\\1\\1', joined)\n",
    "    return spell_corrected"
   ]
  },
  {
   "cell_type": "code",
   "execution_count": 68,
   "metadata": {},
   "outputs": [
    {
     "data": {
      "text/plain": [
       "0    print they should pay all the back all the mon...\n",
       "1    why did attorney general loretta lynch plead t...\n",
       "2    red state  \\nfox news sunday reported this mor...\n",
       "3    email kayla mueller was a prisoner and torture...\n",
       "4    email healthcare reform to make america great ...\n",
       "5    print hillary goes absolutely berserk she expl...\n",
       "6    breaking nypd ready to make arrests in weiner ...\n",
       "7    breaking nypd ready to make arrests in weiner ...\n",
       "8    limbaugh said that the revelations in the wiki...\n",
       "9    email \\nthese people are sick and evil they wi...\n",
       "Name: text, dtype: object"
      ]
     },
     "execution_count": 68,
     "metadata": {},
     "output_type": "execute_result"
    }
   ],
   "source": [
    "df.text[:10]"
   ]
  },
  {
   "cell_type": "code",
   "execution_count": 69,
   "metadata": {},
   "outputs": [
    {
     "data": {
      "text/plain": [
       "['print they should pay all the back all the money plus interest the entire family and everyone who come in with them need to be deport asap why do it take year to bust them here we go again another group steal from the government and taxpayer group of somalis steal over in government benefit over just month we have report on numerous case like this where the muslim refugeesimmigrant commit fraud by scamme our systemit way out of control more related',\n",
       " 'why do attorney general loretta lynch plead the barracuda brigade print the administration be block congressional probe into cash payment to iran of course she need to plead the th she either can not recall refuse to answer or just plain deflect the question straight up corruption at its fine percentfedupcom talk about cover your ass loretta lynch do just that when she plead the to avoid incriminate herself over payment to irancorrupt to the core attorney general loretta lynch be decline to comply with an investigation by lead member of congress about the obama administration secret effort to send iran in cash early this year prompting accusation that lynch have plead the amendment to avoid incriminate herself over these payment accord to lawmaker and communication exclusively obtain by the washington free beacon sen marco rubio fla and rep mike pompeo kan initially present lynch in october with series of question about how the cash payment to iran be approve and deliver in an oct response assistant attorney general peter kadzik respond on lynch behalf refuse to answer the question and inform the lawmaker that they be bar from publicly disclose any detail about the cash payment which be bind up in ransom deal aim at free several american hostage from iran the response from the attorney generals office be unacceptable and provide evidence that lynch have choose to essentially plead the and refuse to respond to inquiry regard herrole in provide cash to the world foremost state sponsor of terrorism rubio and pompeo write on friday in followup letter to lynch more related',\n",
       " 'red state fox news sunday report this morning that anthony weiner be cooperate with the fbi which have reopen yes lefty reopen the investigation into hillary clinton classify email watch as chris wallace report the break news during the panel segment near the end of the show and the news be break while be on the air our colleague bret baier have just send us an email say he have source who say that anthony weiner who also have coownership of that laptop with his estrange wife huma abedin be cooperate with the fbi investigation have give them the laptop so therefore they do not need warrant to get in to see the content of say laptop pretty interesting development target of federal investigation will often cooperate hope that they will get consideration from judge at sentence give weiner wellknown penchant for lie its hard to believe that prosecutor would give weiner deal base on an agreement to testify unless his testimony be very strongly corroborate by hard evidence but cooperation can take many form and as wallace indicate on this morning show of those form could be sign consent form to allow the content of device that they could probably get warrant for anyway well see if weiner cooperation extend beyond that more related',\n",
       " 'email kayla mueller be prisoner and torture by isis while no chance of releasea horrific story her father give pin drop speech that be so heartfelt you want to give him hug carl mueller believe donald trump will be great presidentepic speech share',\n",
       " 'email healthcare reform to make america great again since march of the american people have have to suffer under the incredible economic burden of the affordable care actobamacare this legislation pass by totally partisan vote in the house and senate and sign into law by the most divisive and partisan president in american history have tragically but predictably result in runaway cost website that do not work great rationing of care high premium less competition and few choice obamacare have raise the economic uncertainty of every single person reside in this country as it appear obamacare be certain to collapse of its own weight the damage do by the democrats and president obama and abet by the supreme court will be difficult to repair unless the next president and republican congress lead the effort to bring muchneede free market reform to the healthcare industry congress must act our elect representative in the house and senate must completely repeal obamacare our elect representative must eliminate the individual mandate no person should be require to buy insurance unless he or she want to modify exist law that inhibit the sale of health insurance across state line as long as the plan purchase complie with state requirement any vendor ought to be able to offer insurance in any state by allow full competition in this market insurance cost will go down and consumer satisfaction will go up allow individual to fully deduct health insurance premium payment from their tax return under the current tax system business be allow to take these deduction so why would not congress allow individual the same exemption as we allow the free market to provide insurance coverage opportunity to company and individual we must also make sure that no slip through the crack simply because they can not afford insurance we must review basic option for medicaid and work with state to ensure that those who want healthcare coverage can have it trend on feed up',\n",
       " 'print hillary go absolutely berserk she explode on bill rapist protester at rally oh the irony she be an enabler to bill escapade she be just project again she be so pathetic drag integrity challenge alicia machado on stage with her yesterday at her sad little rally in florida tgp democratic party presidential nominee hillary clinton angrily react to protester shout bill clinton be rapist at campaign rally in fort lauderdale florida tuesday night say be sick and tired of the negative dark divisive dangerous vision and behavior of people who support donald trump accord to report protester interrupt hillary clinton shouting bill clinton be rapist clinton fire right back be sick and tired of the negative pictwittercomyncdksbg josh haskell joshbhaskell november man interrupt hillaryclinton yelling bill clinton be rapist she respond she tired of divisive distraction nbc pictwittercomgpjpseqb jamie guirola jamienbc november here hillary absolutely go bezerk on protester start scream shout yell full off the rail pictwittercomjqijjto john binder jxhnbinder november relate',\n",
       " 'break nypd ready to make arrest in weiner casehillary visit pedophile island at least timesmoney launder underage sex payforplayproof of inappropriate handling classified information blackwater usa founder retire navy seal erik prince prince claim he have insider knowledge of the investigation that could help explain why fbi director james comey have to announce he be reopen the investigation into clinton email server last week because of weinergate and the sexte scandal the nypd start investigate it through subpoena through warrant they search his laptop and sure enough find those email they find way more stuff than just more information pertain to the inappropriate sexte the guy be do prince claim they find state department email they find lot of other really damn criminal information include money laundering include the fact that hillary go to this sex island with convict pedophile jeffrey epstein bill clinton go there more than times hillary clinton go there at least time he say the amount of garbage that they find in these email of criminal activity by hillary by her immediate circle and even by other democratic member of congress be so disgusting they give it to the fbi and they say be go to go public with this if you do not reopen the investigation and you do not do the right thing with timely indictment prince explain believe know and this be from very wellplaced source of mine at pp police plaza in new york the nypd want to do press conference announce the warrant and the additional arrest they be make in this investigation and they have get huge pushback to the point of coercion from the justice department with the justice department threaten to charge someone that have be unrelated in the accidental heart attack death of eric garner almost year ago that the level of pushback the obama justice department be do against actually seek justice in the email and other related criminal matter prince say there different part of the fbi conduct investigation into these thing with constant downdraft from the obama justice department so in the hope unlikely and very unfortunate event that hillary clinton be elect president we will have constitutional crisis that we have not see since believe prince declare marlow ask prince to clarify these revelation nypd be the to look at that laptop prince elaborate weiner and huma abedin his wife the close adviser of hillary clinton for year have both flip they be cooperate with the government they both have they see potential jail time of many year for their crime for huma abedin send and receive and even store hundred of thousand of message from the state department server and from hillary clinton own homebrew server which contain classified information weiner face all kind of exposure for the inappropriate sexting that be go on and for other information that they find so nypd get that computer they see how disgusting it be they keep copy of everything and they pass copy on to the fbi which finally push the fbi off their chair make comey reopen that investigation which be indicate in the letter last week the point be nypd have all the information and they will pursue justice within their right if the fbi do not prince contend there be all kind of criminal culpability through all the email they have see of that include money launder underage sex payforplay and of course plenty of proof of inappropriate handling sendingreceiving of classified information up to sap level special access program he state so the plot thicken nypd be push because as an article quote of the chiefs that the level just below commissioner he say as parent as father with daughter he could not let that level of evil continue prince say he note that the fbi can investigate these matter but they can not convene grand jury they can not file charge the prosecutor the justice department have to do that he explain now as understand it preet bharara the manhattan prosecutor have get ahold of some of this from what hear he standup guy and hopefully he do the right thing marlow agree that bhararas sterling reputation as determined prosecutor be bad news for the clinton prince agree but say if people be willing to bend or break the law and do not really care about the constitution or due process if you be willing to use stalinist tactic against someone who know what level of pressure could be bring to bear against even the most tenacious law enforcement official listen to interview here the point be fortunately its not just the fbi there be different office that be in the hunt for justice but the nypd have it as well prince say cite the wall street journal report that have expose downdraft back pressure from the justice department against both the fbi and nypd in an effort to keep the sunlight and the disinfect effect of the truth and transparency from shine on this great evil that have go on and be slowly be expose the justice department be try to run out the clock to elect hillary clinton to prevent any real justice from be do he warn as for the mayor of new york city prince say he have hear that de blasio want to stay away from this the evidence be so bad the email content be so bad that think even he want to stay away from it which be really tell he say for entire story breitbart news share',\n",
       " 'break nypd ready to make arrest in weiner casehillary visit pedophile island at least timesmoney launder underage sex payforplayproof of inappropriate handling classified information the amazing citizen journalist mike cernovich break this story this morning at danger and play florida resident have be complain that they be not get their absentee ballot chelsey marie smith be work fulltime at broward county supervisor of election main office blow the whistle on the voter fraud scheme live on periscope break news voting fraud uncover in florida magax httpstcoqjeezrgh mike cernovich cernovich november the florida state attorney be actively investigate the fraud case that involve secretary of election brenda snipes source fl state attorney investigator be actively review broward county voter fraud case jack posobiec jackposobiec november democrat dr brenda snipes be appoint by jeb bush in and be no stranger to controversy on october the sun sentinal report that former oakland park commissioner anne sallee notice something trouble about her votebymail ballot it be miss constitutional amendment the medical marijuana question sallee now broward chapter director of the florida restaurant and lodging association know her way around government yet she say she spend week unsuccessfully try to get someone at the broward election office to pay attention to her complaint she be clear on wednesday of another election snafu the early posting of primary election result her office also be criticize for send out inaccurate voter i card and for print ballot for november that include the word no in the yes line on the county transportation sale surtax question there be multiple report that hillary personally meet with brenda snipes day ago there be multiple report hillary personally meet with brenda snipes day ago no photo but where there smoke jack posobiec jackposobiec november accord to former secretary of elections department employee there be secret room where democrat insider fill out those absentee ballot the woman provide her swear testimony via affidavit the affidavit by chelsey marie smith accuse broward county official of fill out blank absentee ballot to official who she see fill the ballot out at the supervisor of election headquarters via gp page',\n",
       " 'limbaugh say that the revelation in the wikileaks material be start to hurt the clinton and that the renew interest in an fbi investigation into her private email server would be fruitless distraction in any case its time to drain the swamp fbi director james comey say sunday that the agency have review all of the hillary clinton email recently discover in an unrelated case and that his conclusion in july not to prosecute clinton after the fbis original investigation into her use of private email server still stand comey inform congress on oct that the agency would in the unrelated case review additional email relate to clinton time run the state department from to since my letter the fbi investigative team have be work around the clock to process and review large volume of email comey say sunday in followup letter to congress during that time we review all of the communication that be to or from hilary clinton as secretary of state base on our review we have not change our conclusion the new case be purportedly relate to exnew york democratic rep anthony weiner use laptop he share with estranged wife and top clinton aide huma abedin for sexte an apparently underage female',\n",
       " 'email these people be sick and evil they will stop at nothing to get their way law mean nothing to them because they mean nothing to their president and his regime california man say stranger hurl expletive and set his truck on fire thursday after see prodonald trump sticker on the bumper hao lee have take his yearold son fish on pleasant november afternoon in sacramento he park his white dodge ram truck with pair of trump sticker on the bumper along garden highway about couple hour into fishing hear someone yell out trump lee tell ktxl lee and his son be only about yard from where his truck be park near the edge of the river trend on feed up']"
      ]
     },
     "execution_count": 69,
     "metadata": {},
     "output_type": "execute_result"
    }
   ],
   "source": [
    "[spacy_cleaner(t) for t in df.text[:10]]"
   ]
  },
  {
   "cell_type": "code",
   "execution_count": 70,
   "metadata": {},
   "outputs": [],
   "source": [
    "df['clean_text'] = [spacy_cleaner(t) for t in df.text]\n"
   ]
  },
  {
   "cell_type": "code",
   "execution_count": 123,
   "metadata": {},
   "outputs": [],
   "source": [
    "tvec = TfidfVectorizer(stop_words=None, max_features=125000, ngram_range=(1, 3))\n",
    "lr = LogisticRegression(fit_intercept=True, C=1e6, solver='liblinear')\n",
    "\n",
    "from sklearn.model_selection import StratifiedKFold\n",
    "\n",
    "def lr_cv(splits, X, Y, pipeline, average_method):\n",
    "    \n",
    "    kfold = StratifiedKFold(n_splits=splits, shuffle=True, random_state=777)\n",
    "    accuracy = []\n",
    "    precision = []\n",
    "    recall = []\n",
    "    f1 = []\n",
    "    for train, test in kfold.split(X, Y):\n",
    "        lr_fit = pipeline.fit(X[train], Y[train])\n",
    "        prediction = lr_fit.predict(X[test])\n",
    "        scores = lr_fit.score(X[test],Y[test])\n",
    "        \n",
    "        accuracy.append(scores * 100)\n",
    "        precision.append(precision_score(Y[test], prediction, average=average_method)*100)\n",
    "        print('               Fake        Real')\n",
    "        print('precision:',precision_score(Y[test], prediction, average=None))\n",
    "        recall.append(recall_score(Y[test], prediction, average=average_method)*100)\n",
    "        print('recall:   ',recall_score(Y[test], prediction, average=None))\n",
    "        f1.append(f1_score(Y[test], prediction, average=average_method)*100)\n",
    "        print('f1 score: ',f1_score(Y[test], prediction, average=None))\n",
    "        print('-'*50)\n",
    "\n",
    "    print(\"accuracy: %.2f%% (+/- %.2f%%)\" % (np.mean(accuracy), np.std(accuracy)))\n",
    "    print(\"precision: %.2f%% (+/- %.2f%%)\" % (np.mean(precision), np.std(precision)))\n",
    "    print(\"recall: %.2f%% (+/- %.2f%%)\" % (np.mean(recall), np.std(recall)))\n",
    "    print(\"f1 score: %.2f%% (+/- %.2f%%)\" % (np.mean(f1), np.std(f1)))"
   ]
  },
  {
   "cell_type": "code",
   "execution_count": 124,
   "metadata": {},
   "outputs": [
    {
     "name": "stdout",
     "output_type": "stream",
     "text": [
      "               Fake        Real\n",
      "precision: [0.80073801 0.70503597]\n",
      "recall:    [0.84108527 0.64473684]\n",
      "f1 score:  [0.82041588 0.67353952]\n",
      "--------------------------------------------------\n",
      "               Fake        Real\n",
      "precision: [0.78518519 0.67142857]\n",
      "recall:    [0.82170543 0.61842105]\n",
      "f1 score:  [0.8030303  0.64383562]\n",
      "--------------------------------------------------\n",
      "               Fake        Real\n",
      "precision: [0.77319588 0.72268908]\n",
      "recall:    [0.87209302 0.56578947]\n",
      "f1 score:  [0.81967213 0.63468635]\n",
      "--------------------------------------------------\n",
      "               Fake        Real\n",
      "precision: [0.80338983 0.80869565]\n",
      "recall:    [0.91505792 0.61589404]\n",
      "f1 score:  [0.85559567 0.69924812]\n",
      "--------------------------------------------------\n",
      "               Fake        Real\n",
      "precision: [0.80276817 0.7768595 ]\n",
      "recall:    [0.8957529  0.62251656]\n",
      "f1 score:  [0.84671533 0.69117647]\n",
      "--------------------------------------------------\n",
      "accuracy: 77.46% (+/- 2.21%)\n",
      "precision: 76.50% (+/- 2.86%)\n",
      "recall: 74.13% (+/- 1.93%)\n",
      "f1 score: 74.88% (+/- 2.16%)\n"
     ]
    }
   ],
   "source": [
    "from sklearn.pipeline import Pipeline\n",
    "original_pipeline = Pipeline([\n",
    "    ('vectorizer', tvec),\n",
    "    ('classifier', lr)\n",
    "])\n",
    "lr_cv(5, df.clean_text, df.label, original_pipeline, 'macro')"
   ]
  },
  {
   "cell_type": "code",
   "execution_count": null,
   "metadata": {},
   "outputs": [],
   "source": []
  },
  {
   "cell_type": "code",
   "execution_count": 109,
   "metadata": {},
   "outputs": [],
   "source": [
    "svm_pipeline = Pipeline([\n",
    "     ('vectorizer', tvec),  \n",
    "     ('classifier', svm_clf)\n",
    "])"
   ]
  },
  {
   "cell_type": "code",
   "execution_count": 110,
   "metadata": {},
   "outputs": [],
   "source": [
    "#Sigmoid"
   ]
  },
  {
   "cell_type": "code",
   "execution_count": 111,
   "metadata": {},
   "outputs": [
    {
     "name": "stdout",
     "output_type": "stream",
     "text": [
      "               Fake        Real\n",
      "precision: [0.7919708  0.69852941]\n",
      "recall:    [0.84108527 0.625     ]\n",
      "f1 score:  [0.81578947 0.65972222]\n",
      "--------------------------------------------------\n",
      "               Fake        Real\n",
      "precision: [0.76190476 0.6350365 ]\n",
      "recall:    [0.80620155 0.57236842]\n",
      "f1 score:  [0.7834275  0.60207612]\n",
      "--------------------------------------------------\n",
      "               Fake        Real\n",
      "precision: [0.78546713 0.74380165]\n",
      "recall:    [0.87984496 0.59210526]\n",
      "f1 score:  [0.82998172 0.65934066]\n",
      "--------------------------------------------------\n",
      "               Fake        Real\n",
      "precision: [0.79931973 0.79310345]\n",
      "recall:    [0.90733591 0.60927152]\n",
      "f1 score:  [0.84990958 0.68913858]\n",
      "--------------------------------------------------\n",
      "               Fake        Real\n",
      "precision: [0.82078853 0.77099237]\n",
      "recall:    [0.88416988 0.66887417]\n",
      "f1 score:  [0.85130112 0.71631206]\n",
      "--------------------------------------------------\n",
      "accuracy: 77.12% (+/- 3.04%)\n",
      "precision: 76.01% (+/- 3.64%)\n",
      "recall: 73.86% (+/- 2.93%)\n",
      "f1 score: 74.57% (+/- 3.13%)\n"
     ]
    }
   ],
   "source": [
    "lr_cv(5, df.clean_text, df.label, svm_pipeline, 'macro')"
   ]
  },
  {
   "cell_type": "code",
   "execution_count": 95,
   "metadata": {},
   "outputs": [],
   "source": [
    "from imblearn.pipeline import make_pipeline\n",
    "from imblearn.over_sampling import SMOTE"
   ]
  },
  {
   "cell_type": "code",
   "execution_count": 96,
   "metadata": {},
   "outputs": [],
   "source": [
    "SMOTE_pipeline = make_pipeline(tvec, SMOTE(random_state=777),lr)"
   ]
  },
  {
   "cell_type": "code",
   "execution_count": 97,
   "metadata": {},
   "outputs": [],
   "source": [
    "sent1 = \"I love dogs\"\n",
    "sent2 = \"I don't like dogs\"\n",
    "sent3 = \"I adore cats\"\n",
    "sent4 = \"I hate spiders\"\n",
    "sent5 = \"I like dogs\"\n",
    "testing_text = pd.Series([sent1, sent2, sent3, sent4, sent5])\n",
    "testing_target = pd.Series([1,0,1,0,1])"
   ]
  },
  {
   "cell_type": "code",
   "execution_count": 113,
   "metadata": {},
   "outputs": [],
   "source": [
    "tv = TfidfVectorizer(stop_words=None, max_features=150000)\n",
    "testing_tfidf = tv.fit_transform(testing_text)"
   ]
  },
  {
   "cell_type": "code",
   "execution_count": 99,
   "metadata": {},
   "outputs": [
    {
     "data": {
      "text/html": [
       "<div>\n",
       "<style scoped>\n",
       "    .dataframe tbody tr th:only-of-type {\n",
       "        vertical-align: middle;\n",
       "    }\n",
       "\n",
       "    .dataframe tbody tr th {\n",
       "        vertical-align: top;\n",
       "    }\n",
       "\n",
       "    .dataframe thead th {\n",
       "        text-align: right;\n",
       "    }\n",
       "</style>\n",
       "<table border=\"1\" class=\"dataframe\">\n",
       "  <thead>\n",
       "    <tr style=\"text-align: right;\">\n",
       "      <th></th>\n",
       "      <th>adore</th>\n",
       "      <th>cats</th>\n",
       "      <th>dogs</th>\n",
       "      <th>don</th>\n",
       "      <th>hate</th>\n",
       "      <th>like</th>\n",
       "      <th>love</th>\n",
       "      <th>spiders</th>\n",
       "    </tr>\n",
       "  </thead>\n",
       "  <tbody>\n",
       "    <tr>\n",
       "      <th>0</th>\n",
       "      <td>0.000000</td>\n",
       "      <td>0.000000</td>\n",
       "      <td>0.556451</td>\n",
       "      <td>0.000000</td>\n",
       "      <td>0.000000</td>\n",
       "      <td>0.000000</td>\n",
       "      <td>0.830881</td>\n",
       "      <td>0.000000</td>\n",
       "    </tr>\n",
       "    <tr>\n",
       "      <th>1</th>\n",
       "      <td>0.000000</td>\n",
       "      <td>0.000000</td>\n",
       "      <td>0.462208</td>\n",
       "      <td>0.690159</td>\n",
       "      <td>0.000000</td>\n",
       "      <td>0.556816</td>\n",
       "      <td>0.000000</td>\n",
       "      <td>0.000000</td>\n",
       "    </tr>\n",
       "    <tr>\n",
       "      <th>2</th>\n",
       "      <td>0.707107</td>\n",
       "      <td>0.707107</td>\n",
       "      <td>0.000000</td>\n",
       "      <td>0.000000</td>\n",
       "      <td>0.000000</td>\n",
       "      <td>0.000000</td>\n",
       "      <td>0.000000</td>\n",
       "      <td>0.000000</td>\n",
       "    </tr>\n",
       "    <tr>\n",
       "      <th>3</th>\n",
       "      <td>0.000000</td>\n",
       "      <td>0.000000</td>\n",
       "      <td>0.000000</td>\n",
       "      <td>0.000000</td>\n",
       "      <td>0.707107</td>\n",
       "      <td>0.000000</td>\n",
       "      <td>0.000000</td>\n",
       "      <td>0.707107</td>\n",
       "    </tr>\n",
       "    <tr>\n",
       "      <th>4</th>\n",
       "      <td>0.000000</td>\n",
       "      <td>0.000000</td>\n",
       "      <td>0.638711</td>\n",
       "      <td>0.000000</td>\n",
       "      <td>0.000000</td>\n",
       "      <td>0.769447</td>\n",
       "      <td>0.000000</td>\n",
       "      <td>0.000000</td>\n",
       "    </tr>\n",
       "    <tr>\n",
       "      <th>5</th>\n",
       "      <td>0.000000</td>\n",
       "      <td>0.000000</td>\n",
       "      <td>0.298794</td>\n",
       "      <td>0.446153</td>\n",
       "      <td>0.249998</td>\n",
       "      <td>0.359954</td>\n",
       "      <td>0.000000</td>\n",
       "      <td>0.249998</td>\n",
       "    </tr>\n",
       "  </tbody>\n",
       "</table>\n",
       "</div>"
      ],
      "text/plain": [
       "      adore      cats      dogs       don      hate      like      love  \\\n",
       "0  0.000000  0.000000  0.556451  0.000000  0.000000  0.000000  0.830881   \n",
       "1  0.000000  0.000000  0.462208  0.690159  0.000000  0.556816  0.000000   \n",
       "2  0.707107  0.707107  0.000000  0.000000  0.000000  0.000000  0.000000   \n",
       "3  0.000000  0.000000  0.000000  0.000000  0.707107  0.000000  0.000000   \n",
       "4  0.000000  0.000000  0.638711  0.000000  0.000000  0.769447  0.000000   \n",
       "5  0.000000  0.000000  0.298794  0.446153  0.249998  0.359954  0.000000   \n",
       "\n",
       "    spiders  \n",
       "0  0.000000  \n",
       "1  0.000000  \n",
       "2  0.000000  \n",
       "3  0.707107  \n",
       "4  0.000000  \n",
       "5  0.249998  "
      ]
     },
     "execution_count": 99,
     "metadata": {},
     "output_type": "execute_result"
    }
   ],
   "source": [
    "smt = SMOTE(random_state=777, k_neighbors=1)\n",
    "X_SMOTE, y_SMOTE = smt.fit_sample(testing_tfidf, testing_target)\n",
    "pd.DataFrame(X_SMOTE.todense(), columns=tv.get_feature_names())"
   ]
  },
  {
   "cell_type": "code",
   "execution_count": 121,
   "metadata": {},
   "outputs": [
    {
     "name": "stdout",
     "output_type": "stream",
     "text": [
      "               Fake        Real\n",
      "precision: [0.79562044 0.70588235]\n",
      "recall:    [0.84496124 0.63157895]\n",
      "f1 score:  [0.81954887 0.66666667]\n",
      "--------------------------------------------------\n",
      "               Fake        Real\n",
      "precision: [0.77906977 0.625     ]\n",
      "recall:    [0.77906977 0.625     ]\n",
      "f1 score:  [0.77906977 0.625     ]\n",
      "--------------------------------------------------\n",
      "               Fake        Real\n",
      "precision: [0.76530612 0.71551724]\n",
      "recall:    [0.87209302 0.54605263]\n",
      "f1 score:  [0.81521739 0.61940299]\n",
      "--------------------------------------------------\n",
      "               Fake        Real\n",
      "precision: [0.81228669 0.82051282]\n",
      "recall:    [0.91891892 0.63576159]\n",
      "f1 score:  [0.86231884 0.71641791]\n",
      "--------------------------------------------------\n",
      "               Fake        Real\n",
      "precision: [0.80714286 0.74615385]\n",
      "recall:    [0.87258687 0.64238411]\n",
      "f1 score:  [0.83858998 0.69039146]\n",
      "--------------------------------------------------\n",
      "accuracy: 76.83% (+/- 3.15%)\n",
      "precision: 75.72% (+/- 3.81%)\n",
      "recall: 73.68% (+/- 2.85%)\n",
      "f1 score: 74.33% (+/- 3.15%)\n"
     ]
    }
   ],
   "source": [
    "lr_cv(5, df.clean_text, df.label, SMOTE_pipeline, 'macro')"
   ]
  },
  {
   "cell_type": "code",
   "execution_count": 143,
   "metadata": {
    "scrolled": false
   },
   "outputs": [
    {
     "name": "stdout",
     "output_type": "stream",
     "text": [
      "LogisticRegression(C=1000000.0, solver='liblinear')\n",
      "\n",
      "\n",
      "Validation result for 10000 features\n",
      "null accuracy: 64.39%\n",
      "accuracy score: 77.56%\n",
      "model is 13.17% more accurate than null accuracy\n",
      "train and test time: 1.05s\n",
      "--------------------------------------------------------------------------------\n",
      "Validation result for 20000 features\n",
      "null accuracy: 64.39%\n",
      "accuracy score: 78.29%\n",
      "model is 13.90% more accurate than null accuracy\n",
      "train and test time: 0.93s\n",
      "--------------------------------------------------------------------------------\n",
      "Validation result for 30000 features\n",
      "null accuracy: 64.39%\n",
      "accuracy score: 78.05%\n",
      "model is 13.66% more accurate than null accuracy\n",
      "train and test time: 1.06s\n",
      "--------------------------------------------------------------------------------\n",
      "Validation result for 40000 features\n",
      "null accuracy: 64.39%\n",
      "accuracy score: 78.78%\n",
      "model is 14.39% more accurate than null accuracy\n",
      "train and test time: 1.03s\n",
      "--------------------------------------------------------------------------------\n",
      "Validation result for 50000 features\n",
      "null accuracy: 64.39%\n",
      "accuracy score: 79.27%\n",
      "model is 14.88% more accurate than null accuracy\n",
      "train and test time: 1.05s\n",
      "--------------------------------------------------------------------------------\n",
      "Validation result for 60000 features\n",
      "null accuracy: 64.39%\n",
      "accuracy score: 79.27%\n",
      "model is 14.88% more accurate than null accuracy\n",
      "train and test time: 0.97s\n",
      "--------------------------------------------------------------------------------\n",
      "Validation result for 70000 features\n",
      "null accuracy: 64.39%\n",
      "accuracy score: 79.27%\n",
      "model is 14.88% more accurate than null accuracy\n",
      "train and test time: 0.97s\n",
      "--------------------------------------------------------------------------------\n",
      "Validation result for 80000 features\n",
      "null accuracy: 64.39%\n",
      "accuracy score: 79.27%\n",
      "model is 14.88% more accurate than null accuracy\n",
      "train and test time: 1.00s\n",
      "--------------------------------------------------------------------------------\n",
      "Validation result for 90000 features\n",
      "null accuracy: 64.39%\n",
      "accuracy score: 79.27%\n",
      "model is 14.88% more accurate than null accuracy\n",
      "train and test time: 0.98s\n",
      "--------------------------------------------------------------------------------\n",
      "Validation result for 100000 features\n",
      "null accuracy: 64.39%\n",
      "accuracy score: 79.27%\n",
      "model is 14.88% more accurate than null accuracy\n",
      "train and test time: 0.98s\n",
      "--------------------------------------------------------------------------------\n",
      "Validation result for 110000 features\n",
      "null accuracy: 64.39%\n",
      "accuracy score: 79.27%\n",
      "model is 14.88% more accurate than null accuracy\n",
      "train and test time: 1.11s\n",
      "--------------------------------------------------------------------------------\n",
      "Validation result for 120000 features\n",
      "null accuracy: 64.39%\n",
      "accuracy score: 79.27%\n",
      "model is 14.88% more accurate than null accuracy\n",
      "train and test time: 0.93s\n",
      "--------------------------------------------------------------------------------\n",
      "LogisticRegression(C=1000000.0, solver='liblinear')\n",
      "\n",
      "\n",
      "Validation result for 10000 features\n",
      "null accuracy: 64.39%\n",
      "accuracy score: 79.27%\n",
      "model is 14.88% more accurate than null accuracy\n",
      "train and test time: 3.41s\n",
      "--------------------------------------------------------------------------------\n",
      "Validation result for 20000 features\n",
      "null accuracy: 64.39%\n",
      "accuracy score: 80.73%\n",
      "model is 16.34% more accurate than null accuracy\n",
      "train and test time: 3.57s\n",
      "--------------------------------------------------------------------------------\n",
      "Validation result for 30000 features\n",
      "null accuracy: 64.39%\n",
      "accuracy score: 80.98%\n",
      "model is 16.59% more accurate than null accuracy\n",
      "train and test time: 3.60s\n",
      "--------------------------------------------------------------------------------\n",
      "Validation result for 40000 features\n",
      "null accuracy: 64.39%\n",
      "accuracy score: 80.24%\n",
      "model is 15.85% more accurate than null accuracy\n",
      "train and test time: 3.57s\n",
      "--------------------------------------------------------------------------------\n",
      "Validation result for 50000 features\n",
      "null accuracy: 64.39%\n",
      "accuracy score: 80.73%\n",
      "model is 16.34% more accurate than null accuracy\n",
      "train and test time: 3.62s\n",
      "--------------------------------------------------------------------------------\n",
      "Validation result for 60000 features\n",
      "null accuracy: 64.39%\n",
      "accuracy score: 81.22%\n",
      "model is 16.83% more accurate than null accuracy\n",
      "train and test time: 3.74s\n",
      "--------------------------------------------------------------------------------\n",
      "Validation result for 70000 features\n",
      "null accuracy: 64.39%\n",
      "accuracy score: 80.49%\n",
      "model is 16.10% more accurate than null accuracy\n",
      "train and test time: 3.83s\n",
      "--------------------------------------------------------------------------------\n",
      "Validation result for 80000 features\n",
      "null accuracy: 64.39%\n",
      "accuracy score: 81.22%\n",
      "model is 16.83% more accurate than null accuracy\n",
      "train and test time: 3.87s\n",
      "--------------------------------------------------------------------------------\n",
      "Validation result for 90000 features\n",
      "null accuracy: 64.39%\n",
      "accuracy score: 80.98%\n",
      "model is 16.59% more accurate than null accuracy\n",
      "train and test time: 3.89s\n",
      "--------------------------------------------------------------------------------\n",
      "Validation result for 100000 features\n",
      "null accuracy: 64.39%\n",
      "accuracy score: 81.22%\n",
      "model is 16.83% more accurate than null accuracy\n",
      "train and test time: 3.79s\n",
      "--------------------------------------------------------------------------------\n",
      "Validation result for 110000 features\n",
      "null accuracy: 64.39%\n",
      "accuracy score: 81.22%\n",
      "model is 16.83% more accurate than null accuracy\n",
      "train and test time: 3.91s\n",
      "--------------------------------------------------------------------------------\n",
      "Validation result for 120000 features\n",
      "null accuracy: 64.39%\n",
      "accuracy score: 81.46%\n",
      "model is 17.07% more accurate than null accuracy\n",
      "train and test time: 4.00s\n",
      "--------------------------------------------------------------------------------\n",
      "LogisticRegression(C=1000000.0, solver='liblinear')\n",
      "\n",
      "\n",
      "Validation result for 10000 features\n",
      "null accuracy: 64.39%\n",
      "accuracy score: 79.27%\n",
      "model is 14.88% more accurate than null accuracy\n",
      "train and test time: 7.62s\n",
      "--------------------------------------------------------------------------------\n",
      "Validation result for 20000 features\n",
      "null accuracy: 64.39%\n",
      "accuracy score: 80.00%\n",
      "model is 15.61% more accurate than null accuracy\n",
      "train and test time: 7.68s\n",
      "--------------------------------------------------------------------------------\n",
      "Validation result for 30000 features\n",
      "null accuracy: 64.39%\n",
      "accuracy score: 81.46%\n",
      "model is 17.07% more accurate than null accuracy\n",
      "train and test time: 7.12s\n",
      "--------------------------------------------------------------------------------\n",
      "Validation result for 40000 features\n",
      "null accuracy: 64.39%\n",
      "accuracy score: 81.22%\n",
      "model is 16.83% more accurate than null accuracy\n",
      "train and test time: 7.91s\n",
      "--------------------------------------------------------------------------------\n",
      "Validation result for 50000 features\n",
      "null accuracy: 64.39%\n",
      "accuracy score: 81.22%\n",
      "model is 16.83% more accurate than null accuracy\n",
      "train and test time: 7.93s\n",
      "--------------------------------------------------------------------------------\n",
      "Validation result for 60000 features\n",
      "null accuracy: 64.39%\n",
      "accuracy score: 81.22%\n",
      "model is 16.83% more accurate than null accuracy\n",
      "train and test time: 8.00s\n",
      "--------------------------------------------------------------------------------\n",
      "Validation result for 70000 features\n",
      "null accuracy: 64.39%\n",
      "accuracy score: 81.46%\n",
      "model is 17.07% more accurate than null accuracy\n",
      "train and test time: 8.19s\n",
      "--------------------------------------------------------------------------------\n",
      "Validation result for 80000 features\n",
      "null accuracy: 64.39%\n",
      "accuracy score: 81.22%\n",
      "model is 16.83% more accurate than null accuracy\n",
      "train and test time: 8.79s\n",
      "--------------------------------------------------------------------------------\n",
      "Validation result for 90000 features\n",
      "null accuracy: 64.39%\n",
      "accuracy score: 80.73%\n",
      "model is 16.34% more accurate than null accuracy\n",
      "train and test time: 8.88s\n",
      "--------------------------------------------------------------------------------\n",
      "Validation result for 100000 features\n",
      "null accuracy: 64.39%\n",
      "accuracy score: 81.22%\n",
      "model is 16.83% more accurate than null accuracy\n",
      "train and test time: 9.83s\n",
      "--------------------------------------------------------------------------------\n",
      "Validation result for 110000 features\n"
     ]
    },
    {
     "name": "stdout",
     "output_type": "stream",
     "text": [
      "null accuracy: 64.39%\n",
      "accuracy score: 81.71%\n",
      "model is 17.32% more accurate than null accuracy\n",
      "train and test time: 10.72s\n",
      "--------------------------------------------------------------------------------\n",
      "Validation result for 120000 features\n",
      "null accuracy: 64.39%\n",
      "accuracy score: 81.95%\n",
      "model is 17.56% more accurate than null accuracy\n",
      "train and test time: 9.36s\n",
      "--------------------------------------------------------------------------------\n"
     ]
    },
    {
     "data": {
      "text/plain": [
       "<matplotlib.legend.Legend at 0x7f9ccdf09700>"
      ]
     },
     "execution_count": 143,
     "metadata": {},
     "output_type": "execute_result"
    },
    {
     "data": {
      "image/png": "[encoded data removed]",
      "text/plain": [
       "<Figure size 576x432 with 1 Axes>"
      ]
     },
     "metadata": {},
     "output_type": "display_data"
    }
   ],
   "source": [
    "\n",
    "from sklearn.feature_extraction.text import CountVectorizer\n",
    "from sklearn.linear_model import LogisticRegression\n",
    "from sklearn.pipeline import Pipeline\n",
    "from time import time\n",
    "\n",
    "def accuracy_summary(pipeline, x_train, y_train, x_test, y_test):\n",
    "    if len(x_test[y_test == 0]) / (len(x_test)*1.) > 0.5:\n",
    "        null_accuracy = len(x_test[y_test == 0]) / (len(x_test)*1.)\n",
    "    else:\n",
    "        null_accuracy = 1. - (len(x_test[y_test == 0]) / (len(x_test)*1.))\n",
    "    t0 = time()\n",
    "    sentiment_fit = pipeline.fit(x_train, y_train)\n",
    "    y_pred = sentiment_fit.predict(x_test)\n",
    "    train_test_time = time() - t0\n",
    "    accuracy = accuracy_score(y_test, y_pred)\n",
    "    print(\"null accuracy: {0:.2f}%\".format(null_accuracy*100))\n",
    "    print(\"accuracy score: {0:.2f}%\".format(accuracy*100))\n",
    "    if accuracy > null_accuracy:\n",
    "        print(\"model is {0:.2f}% more accurate than null accuracy\".format((accuracy-null_accuracy)*100))\n",
    "    elif accuracy == null_accuracy:\n",
    "        print(\"model has the same accuracy with the null accuracy\")\n",
    "    else:\n",
    "        print(\"model is {0:.2f}% less accurate than null accuracy\".format((null_accuracy-accuracy)*100))\n",
    "    print(\"train and test time: {0:.2f}s\".format(train_test_time))\n",
    "    print(\"-\"*80)\n",
    "    return accuracy, train_test_time\n",
    "\n",
    "cvec = CountVectorizer()\n",
    "tvec = TfidfVectorizer()\n",
    "lr = LogisticRegression(fit_intercept=True, C=1e6, solver='liblinear')\n",
    "n_features = np.arange(10000,120001,10000)\n",
    "\n",
    "def nfeature_accuracy_checker(vectorizer=tvec, n_features=n_features, stop_words=None, ngram_range=(1, 1), classifier=lr):\n",
    "    result = []\n",
    "    print(classifier)\n",
    "    print(\"\\n\")\n",
    "    for n in n_features:\n",
    "        vectorizer.set_params(stop_words=stop_words, max_features=n, ngram_range=ngram_range)\n",
    "        checker_pipeline = Pipeline([\n",
    "            ('vectorizer', vectorizer),\n",
    "            ('classifier', classifier)\n",
    "        ])\n",
    "        print(\"Validation result for {} features\".format(n))\n",
    "        nfeature_accuracy,tt_time = accuracy_summary(checker_pipeline, X_train, y_train, X_test, y_test)\n",
    "        result.append((n,nfeature_accuracy,tt_time))\n",
    "    return result\n",
    "\n",
    "feature_result_ugt = nfeature_accuracy_checker(vectorizer=tvec)\n",
    "feature_result_bgt = nfeature_accuracy_checker(vectorizer=tvec,ngram_range=(1, 2))\n",
    "feature_result_tgt = nfeature_accuracy_checker(vectorizer=tvec,ngram_range=(1, 3))\n",
    "\n",
    "\n",
    "nfeatures_plot_tgt = pd.DataFrame(feature_result_tgt,columns=['nfeatures','validation_accuracy','train_test_time'])\n",
    "nfeatures_plot_bgt = pd.DataFrame(feature_result_bgt,columns=['nfeatures','validation_accuracy','train_test_time'])\n",
    "nfeatures_plot_ugt = pd.DataFrame(feature_result_ugt,columns=['nfeatures','validation_accuracy','train_test_time'])\n",
    "plt.figure(figsize=(8,6))\n",
    "plt.plot(nfeatures_plot_tgt.nfeatures, nfeatures_plot_tgt.validation_accuracy,label='trigram tfidf vectorizer',color='royalblue')\n",
    "# plt.plot(nfeatures_plot_tgt.nfeatures, nfeatures_plot_tgt.validation_accuracy,label='trigram count vectorizer',linestyle=':', color='royalblue')\n",
    "plt.plot(nfeatures_plot_bgt.nfeatures, nfeatures_plot_bgt.validation_accuracy,label='bigram tfidf vectorizer',color='orangered')\n",
    "# plt.plot(nfeatures_plot_bg.nfeatures, nfeatures_plot_bg.validation_accuracy,label='bigram count vectorizer',linestyle=':',color='orangered')\n",
    "plt.plot(nfeatures_plot_ugt.nfeatures, nfeatures_plot_ugt.validation_accuracy, label='unigram tfidf vectorizer',color='gold')\n",
    "# plt.plot(nfeatures_plot_ug.nfeatures, nfeatures_plot_ug.validation_accuracy, label='unigram count vectorizer',linestyle=':',color='gold')\n",
    "plt.title(\"N-gram(1~3) test result : Accuracy\")\n",
    "plt.xlabel(\"Number of features\")\n",
    "plt.ylabel(\"Validation set accuracy\")\n",
    "plt.legend()"
   ]
  },
  {
   "cell_type": "code",
   "execution_count": 152,
   "metadata": {},
   "outputs": [],
   "source": [
    "from sklearn.decomposition import PCA\n",
    "from sklearn.decomposition import TruncatedSVD\n"
   ]
  },
  {
   "cell_type": "code",
   "execution_count": 164,
   "metadata": {},
   "outputs": [
    {
     "name": "stdout",
     "output_type": "stream",
     "text": [
      "               Fake        Real\n",
      "precision: [0.75247525 0.71962617]\n",
      "recall:    [0.88372093 0.50657895]\n",
      "f1 score:  [0.81283422 0.59459459]\n",
      "--------------------------------------------------\n",
      "               Fake        Real\n",
      "precision: [0.72222222 0.64423077]\n",
      "recall:    [0.85658915 0.44078947]\n",
      "f1 score:  [0.78368794 0.5234375 ]\n",
      "--------------------------------------------------\n",
      "               Fake        Real\n",
      "precision: [0.71384615 0.69411765]\n",
      "recall:    [0.89922481 0.38815789]\n",
      "f1 score:  [0.79588336 0.4978903 ]\n",
      "--------------------------------------------------\n",
      "               Fake        Real\n",
      "precision: [0.73148148 0.74418605]\n",
      "recall:    [0.91505792 0.42384106]\n",
      "f1 score:  [0.81303602 0.54008439]\n",
      "--------------------------------------------------\n",
      "               Fake        Real\n",
      "precision: [0.73548387 0.69      ]\n",
      "recall:    [0.88030888 0.45695364]\n",
      "f1 score:  [0.80140598 0.5498008 ]\n",
      "--------------------------------------------------\n",
      "accuracy: 72.29% (+/- 1.52%)\n",
      "precision: 71.48% (+/- 2.05%)\n",
      "recall: 66.51% (+/- 1.82%)\n",
      "f1 score: 67.13% (+/- 2.00%)\n"
     ]
    }
   ],
   "source": [
    "tvec = TfidfVectorizer(stop_words=None, max_features=125000, ngram_range=(1, 3))\n",
    "lr = LogisticRegression(fit_intercept=True, C=1e6, solver='liblinear')\n",
    "\n",
    "pca_pipeline = Pipeline([\n",
    "    ('vectorizer', tvec),\n",
    "    ('svd', TruncatedSVD(n_components=100)),\n",
    "    ('classifier', lr)\n",
    "])\n",
    "lr_cv(5, df.text, df.label, pca_pipeline, 'macro')"
   ]
  },
  {
   "cell_type": "code",
   "execution_count": 162,
   "metadata": {},
   "outputs": [
    {
     "name": "stdout",
     "output_type": "stream",
     "text": [
      "               Fake        Real\n",
      "precision: [0.79496403 0.71969697]\n",
      "recall:    [0.85658915 0.625     ]\n",
      "f1 score:  [0.82462687 0.66901408]\n",
      "--------------------------------------------------\n",
      "               Fake        Real\n",
      "precision: [0.79272727 0.7037037 ]\n",
      "recall:    [0.84496124 0.625     ]\n",
      "f1 score:  [0.81801126 0.66202091]\n",
      "--------------------------------------------------\n",
      "               Fake        Real\n",
      "precision: [0.78767123 0.76271186]\n",
      "recall:    [0.89147287 0.59210526]\n",
      "f1 score:  [0.83636364 0.66666667]\n",
      "--------------------------------------------------\n",
      "               Fake        Real\n",
      "precision: [0.81481481 0.84955752]\n",
      "recall:    [0.93436293 0.63576159]\n",
      "f1 score:  [0.8705036  0.72727273]\n",
      "--------------------------------------------------\n",
      "               Fake        Real\n",
      "precision: [0.80851064 0.7578125 ]\n",
      "recall:    [0.88030888 0.64238411]\n",
      "f1 score:  [0.84288355 0.6953405 ]\n",
      "--------------------------------------------------\n",
      "accuracy: 78.63% (+/- 2.14%)\n",
      "precision: 77.92% (+/- 2.92%)\n",
      "recall: 75.28% (+/- 1.84%)\n",
      "f1 score: 76.13% (+/- 2.11%)\n"
     ]
    }
   ],
   "source": [
    "tvec = TfidfVectorizer(stop_words=None, max_features=125000, ngram_range=(1, 3))\n",
    "lr = LogisticRegression(fit_intercept=True, C=1e6, solver='liblinear')\n",
    "\n",
    "pca_pipeline = Pipeline([\n",
    "    ('vectorizer', tvec),\n",
    "#     ('svd', TruncatedSVD(n_components=1000)),\n",
    "    ('classifier', lr)\n",
    "])\n",
    "lr_cv(5, df.text, df.label, pca_pipeline, 'macro')"
   ]
  },
  {
   "cell_type": "code",
   "execution_count": null,
   "metadata": {},
   "outputs": [],
   "source": [
    " ('pca', PCA(n_components=100))"
   ]
  },
  {
   "cell_type": "code",
   "execution_count": null,
   "metadata": {},
   "outputs": [],
   "source": [
    "svd = TruncatedSVD(n_components=5, random_state=42)\n",
    "data = svd.fit_transform(data) "
   ]
  },
  {
   "cell_type": "code",
   "execution_count": null,
   "metadata": {},
   "outputs": [],
   "source": [
    "# Quick sentiment analysis, boxplot, anymore visualizations?"
   ]
  },
  {
   "cell_type": "markdown",
   "metadata": {},
   "source": [
    "Run SVM & XGBoost\n",
    "\n",
    "Continue nlp processing and retry"
   ]
  },
  {
   "cell_type": "markdown",
   "metadata": {},
   "source": [
    "### This is all on the backburner..."
   ]
  },
  {
   "cell_type": "code",
   "execution_count": 88,
   "metadata": {},
   "outputs": [
    {
     "data": {
      "text/plain": [
       "'the stripe bat be hang on -PRON- foot for good'"
      ]
     },
     "execution_count": 88,
     "metadata": {},
     "output_type": "execute_result"
    }
   ],
   "source": [
    "import spacy\n",
    "\n",
    "# Initialize spacy 'en' model, keeping only tagger component needed for lemmatization\n",
    "nlp = spacy.load('en', disable=['parser', 'ner'])\n",
    "\n",
    "sentence = \"The striped bats are hanging on their feet for best\"\n",
    "\n",
    "# Parse the sentence using the loaded 'en' model object `nlp`\n",
    "doc = nlp(sentence)\n",
    "\n",
    "# Extract the lemma for each token and join\n",
    "\" \".join([token.lemma_ for token in doc])"
   ]
  },
  {
   "cell_type": "code",
   "execution_count": 97,
   "metadata": {},
   "outputs": [],
   "source": [
    "tokens = nltk.word_tokenize(article)  "
   ]
  },
  {
   "cell_type": "code",
   "execution_count": 103,
   "metadata": {},
   "outputs": [],
   "source": [
    "stopwords_removed = [meow.lower() for meow in meows if meow.lower() not in stopwords_list]"
   ]
  },
  {
   "cell_type": "code",
   "execution_count": 104,
   "metadata": {},
   "outputs": [
    {
     "data": {
      "text/plain": [
       "['print they should pay all the back all the money plus interest the entire family and everyone who came in with them need to be deported asap why did it take two years to bust them \\nhere we go again another group stealing from the government and taxpayers a group of somalis stole over four million in government benefits over just  months \\nweve reported on numerous cases like this one where the muslim refugeesimmigrants commit fraud by scamming our systemits way out of control more related',\n",
       " 'why did attorney general loretta lynch plead the fifth barracuda brigade  print the administration is blocking congressional probe into cash payments to iran of course she needs to plead the th she either cant recall refuses to answer or just plain deflects the question straight up corruption at its finest \\npercentfedupcom  talk about covering your ass loretta lynch did just that when she plead the fifth to avoid incriminating herself over payments to irancorrupt to the core attorney general loretta lynch is declining to comply with an investigation by leading members of congress about the obama administrations secret efforts to send iran  billion in cash earlier this year prompting accusations that lynch has pleaded the fifth amendment to avoid incriminating herself over these payments according to lawmakers and communications exclusively obtained by the washington free beacon \\nsen marco rubio r fla and rep mike pompeo r kan initially presented lynch in october with a series of questions about how the cash payment to iran was approved and delivered \\nin an oct  response assistant attorney general peter kadzik responded on lynchs behalf refusing to answer the questions and informing the lawmakers that they are barred from publicly disclosing any details about the cash payment which was bound up in a ransom deal aimed at freeing several american hostages from iran \\nthe response from the attorney generals office is unacceptable and provides evidence that lynch has chosen to essentially plead the fifth and refuse to respond to inquiries regarding herrole in providing cash to the worlds foremost state sponsor of terrorism rubio and pompeo wrote on friday in a followup letter to lynch more related']"
      ]
     },
     "execution_count": 104,
     "metadata": {},
     "output_type": "execute_result"
    }
   ],
   "source": [
    "stopwords_removed"
   ]
  },
  {
   "cell_type": "code",
   "execution_count": 101,
   "metadata": {},
   "outputs": [],
   "source": [
    "meows = space.text[0:2]"
   ]
  },
  {
   "cell_type": "code",
   "execution_count": 102,
   "metadata": {},
   "outputs": [
    {
     "data": {
      "text/plain": [
       "0    print they should pay all the back all the mon...\n",
       "1    why did attorney general loretta lynch plead t...\n",
       "Name: text, dtype: object"
      ]
     },
     "execution_count": 102,
     "metadata": {},
     "output_type": "execute_result"
    }
   ],
   "source": [
    "meows"
   ]
  },
  {
   "cell_type": "code",
   "execution_count": 106,
   "metadata": {},
   "outputs": [],
   "source": [
    "for art in stopwords_removed:\n",
    "    parse = nlp(art)\n",
    "    new = \" \".join([token.lemma_ for token in parse])"
   ]
  },
  {
   "cell_type": "code",
   "execution_count": 107,
   "metadata": {},
   "outputs": [
    {
     "data": {
      "text/plain": [
       "'why do attorney general loretta lynch plead the fifth barracuda brigade   print the administration be block congressional probe into cash payment to iran of course -PRON- need to plead the th -PRON- either can not recall refuse to answer or just plain deflect the question straight up corruption at -PRON- fine \\n percentfedupcom   talk about cover -PRON- ass loretta lynch do just that when -PRON- plead the fifth to avoid incriminate -PRON- over payment to irancorrupt to the core attorney general loretta lynch be decline to comply with an investigation by lead member of congress about the obama administration secret effort to send iran   billion in cash early this year prompting accusation that lynch have plead the fifth amendment to avoid incriminate -PRON- over these payment accord to lawmaker and communication exclusively obtain by the washington free beacon \\n sen marco rubio r fla and rep mike pompeo r kan initially present lynch in october with a series of question about how the cash payment to iran be approve and deliver \\n in an oct   response assistant attorney general peter kadzik respond on lynch behalf refuse to answer the question and inform the lawmaker that -PRON- be bar from publicly disclose any detail about the cash payment which be bind up in a ransom deal aim at free several american hostage from iran \\n the response from the attorney generals office be unacceptable and provide evidence that lynch have choose to essentially plead the fifth and refuse to respond to inquiry regard herrole in provide cash to the world foremost state sponsor of terrorism rubio and pompeo write on friday in a followup letter to lynch more related'"
      ]
     },
     "execution_count": 107,
     "metadata": {},
     "output_type": "execute_result"
    }
   ],
   "source": [
    "new"
   ]
  },
  {
   "cell_type": "code",
   "execution_count": null,
   "metadata": {},
   "outputs": [],
   "source": []
  }
 ],
 "metadata": {
  "kernelspec": {
   "display_name": "Python 3",
   "language": "python",
   "name": "python3"
  },
  "language_info": {
   "codemirror_mode": {
    "name": "ipython",
    "version": 3
   },
   "file_extension": ".py",
   "mimetype": "text/x-python",
   "name": "python",
   "nbconvert_exporter": "python",
   "pygments_lexer": "ipython3",
   "version": "3.8.3"
  }
 },
 "nbformat": 4,
 "nbformat_minor": 4
}
