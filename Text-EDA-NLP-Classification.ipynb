{
 "cells": [
  {
   "cell_type": "markdown",
   "metadata": {},
   "source": [
    "\"Disinformation is often worse than no information at all...\" - Ibiki Morino, Naruto"
   ]
  },
  {
   "cell_type": "code",
   "execution_count": 73,
   "metadata": {
    "scrolled": false
   },
   "outputs": [],
   "source": [
    "import pandas as pd\n",
    "import numpy as np\n",
    "import nltk \n",
    "import re\n",
    "from pandas_profiling import ProfileReport\n",
    "import matplotlib.pyplot as plt\n",
    "%matplotlib inline\n",
    "import seaborn as sns \n",
    "import sklearn.metrics\n",
    "import time\n",
    "from sklearn.feature_extraction.text import CountVectorizer, TfidfVectorizer\n",
    "from sklearn.model_selection import train_test_split\n",
    "from sklearn.preprocessing import LabelEncoder\n",
    "from sklearn.naive_bayes import GaussianNB\n",
    "from sklearn.linear_model import LogisticRegression\n",
    "from sklearn.svm import SVC\n",
    "from xgboost import XGBClassifier\n",
    "from sklearn.ensemble import RandomForestClassifier\n",
    "from sklearn.model_selection import GridSearchCV\n",
    "from textblob import TextBlob\n",
    "import warnings\n",
    "warnings.filterwarnings('ignore')\n",
    "from sklearn.metrics import classification_report,confusion_matrix,mean_squared_error\n",
    "from sklearn.metrics import precision_score, recall_score, accuracy_score, f1_score, average_precision_score\n",
    "sns.set_style(\"darkgrid\")\n",
    "sns.set_palette(\"Set2\", 8, 0.5)\n",
    "\n",
    "%run -i \"Functions/print_metrics.py\""
   ]
  },
  {
   "cell_type": "code",
   "execution_count": 2,
   "metadata": {},
   "outputs": [
    {
     "data": {
      "text/html": [
       "<div>\n",
       "<style scoped>\n",
       "    .dataframe tbody tr th:only-of-type {\n",
       "        vertical-align: middle;\n",
       "    }\n",
       "\n",
       "    .dataframe tbody tr th {\n",
       "        vertical-align: top;\n",
       "    }\n",
       "\n",
       "    .dataframe thead th {\n",
       "        text-align: right;\n",
       "    }\n",
       "</style>\n",
       "<table border=\"1\" class=\"dataframe\">\n",
       "  <thead>\n",
       "    <tr style=\"text-align: right;\">\n",
       "      <th></th>\n",
       "      <th>author</th>\n",
       "      <th>published</th>\n",
       "      <th>title</th>\n",
       "      <th>text</th>\n",
       "      <th>language</th>\n",
       "      <th>site_url</th>\n",
       "      <th>main_img_url</th>\n",
       "      <th>type</th>\n",
       "      <th>label</th>\n",
       "      <th>title_without_stopwords</th>\n",
       "      <th>text_without_stopwords</th>\n",
       "      <th>hasImage</th>\n",
       "    </tr>\n",
       "  </thead>\n",
       "  <tbody>\n",
       "    <tr>\n",
       "      <th>0</th>\n",
       "      <td>Barracuda Brigade</td>\n",
       "      <td>2016-10-26T21:41:00.000+03:00</td>\n",
       "      <td>muslims busted they stole millions in govt ben...</td>\n",
       "      <td>print they should pay all the back all the mon...</td>\n",
       "      <td>english</td>\n",
       "      <td>100percentfedup.com</td>\n",
       "      <td>http://bb4sp.com/wp-content/uploads/2016/10/Fu...</td>\n",
       "      <td>bias</td>\n",
       "      <td>Real</td>\n",
       "      <td>muslims busted stole millions govt benefits</td>\n",
       "      <td>print pay back money plus interest entire fami...</td>\n",
       "      <td>1.0</td>\n",
       "    </tr>\n",
       "    <tr>\n",
       "      <th>1</th>\n",
       "      <td>reasoning with facts</td>\n",
       "      <td>2016-10-29T08:47:11.259+03:00</td>\n",
       "      <td>re why did attorney general loretta lynch plea...</td>\n",
       "      <td>why did attorney general loretta lynch plead t...</td>\n",
       "      <td>english</td>\n",
       "      <td>100percentfedup.com</td>\n",
       "      <td>http://bb4sp.com/wp-content/uploads/2016/10/Fu...</td>\n",
       "      <td>bias</td>\n",
       "      <td>Real</td>\n",
       "      <td>attorney general loretta lynch plead fifth</td>\n",
       "      <td>attorney general loretta lynch plead fifth bar...</td>\n",
       "      <td>1.0</td>\n",
       "    </tr>\n",
       "    <tr>\n",
       "      <th>2</th>\n",
       "      <td>Barracuda Brigade</td>\n",
       "      <td>2016-10-31T01:41:49.479+02:00</td>\n",
       "      <td>breaking weiner cooperating with fbi on hillar...</td>\n",
       "      <td>red state  \\nfox news sunday reported this mor...</td>\n",
       "      <td>english</td>\n",
       "      <td>100percentfedup.com</td>\n",
       "      <td>http://bb4sp.com/wp-content/uploads/2016/10/Fu...</td>\n",
       "      <td>bias</td>\n",
       "      <td>Real</td>\n",
       "      <td>breaking weiner cooperating fbi hillary email ...</td>\n",
       "      <td>red state fox news sunday reported morning ant...</td>\n",
       "      <td>1.0</td>\n",
       "    </tr>\n",
       "    <tr>\n",
       "      <th>3</th>\n",
       "      <td>Fed Up</td>\n",
       "      <td>2016-11-01T05:22:00.000+02:00</td>\n",
       "      <td>pin drop speech by father of daughter kidnappe...</td>\n",
       "      <td>email kayla mueller was a prisoner and torture...</td>\n",
       "      <td>english</td>\n",
       "      <td>100percentfedup.com</td>\n",
       "      <td>http://100percentfedup.com/wp-content/uploads/...</td>\n",
       "      <td>bias</td>\n",
       "      <td>Real</td>\n",
       "      <td>pin drop speech father daughter kidnapped kill...</td>\n",
       "      <td>email kayla mueller prisoner tortured isis cha...</td>\n",
       "      <td>1.0</td>\n",
       "    </tr>\n",
       "    <tr>\n",
       "      <th>4</th>\n",
       "      <td>Fed Up</td>\n",
       "      <td>2016-11-01T21:56:00.000+02:00</td>\n",
       "      <td>fantastic trumps  point plan to reform healthc...</td>\n",
       "      <td>email healthcare reform to make america great ...</td>\n",
       "      <td>english</td>\n",
       "      <td>100percentfedup.com</td>\n",
       "      <td>http://100percentfedup.com/wp-content/uploads/...</td>\n",
       "      <td>bias</td>\n",
       "      <td>Real</td>\n",
       "      <td>fantastic trumps point plan reform healthcare ...</td>\n",
       "      <td>email healthcare reform make america great sin...</td>\n",
       "      <td>1.0</td>\n",
       "    </tr>\n",
       "  </tbody>\n",
       "</table>\n",
       "</div>"
      ],
      "text/plain": [
       "                 author                      published  \\\n",
       "0     Barracuda Brigade  2016-10-26T21:41:00.000+03:00   \n",
       "1  reasoning with facts  2016-10-29T08:47:11.259+03:00   \n",
       "2     Barracuda Brigade  2016-10-31T01:41:49.479+02:00   \n",
       "3                Fed Up  2016-11-01T05:22:00.000+02:00   \n",
       "4                Fed Up  2016-11-01T21:56:00.000+02:00   \n",
       "\n",
       "                                               title  \\\n",
       "0  muslims busted they stole millions in govt ben...   \n",
       "1  re why did attorney general loretta lynch plea...   \n",
       "2  breaking weiner cooperating with fbi on hillar...   \n",
       "3  pin drop speech by father of daughter kidnappe...   \n",
       "4  fantastic trumps  point plan to reform healthc...   \n",
       "\n",
       "                                                text language  \\\n",
       "0  print they should pay all the back all the mon...  english   \n",
       "1  why did attorney general loretta lynch plead t...  english   \n",
       "2  red state  \\nfox news sunday reported this mor...  english   \n",
       "3  email kayla mueller was a prisoner and torture...  english   \n",
       "4  email healthcare reform to make america great ...  english   \n",
       "\n",
       "              site_url                                       main_img_url  \\\n",
       "0  100percentfedup.com  http://bb4sp.com/wp-content/uploads/2016/10/Fu...   \n",
       "1  100percentfedup.com  http://bb4sp.com/wp-content/uploads/2016/10/Fu...   \n",
       "2  100percentfedup.com  http://bb4sp.com/wp-content/uploads/2016/10/Fu...   \n",
       "3  100percentfedup.com  http://100percentfedup.com/wp-content/uploads/...   \n",
       "4  100percentfedup.com  http://100percentfedup.com/wp-content/uploads/...   \n",
       "\n",
       "   type label                            title_without_stopwords  \\\n",
       "0  bias  Real        muslims busted stole millions govt benefits   \n",
       "1  bias  Real         attorney general loretta lynch plead fifth   \n",
       "2  bias  Real  breaking weiner cooperating fbi hillary email ...   \n",
       "3  bias  Real  pin drop speech father daughter kidnapped kill...   \n",
       "4  bias  Real  fantastic trumps point plan reform healthcare ...   \n",
       "\n",
       "                              text_without_stopwords  hasImage  \n",
       "0  print pay back money plus interest entire fami...       1.0  \n",
       "1  attorney general loretta lynch plead fifth bar...       1.0  \n",
       "2  red state fox news sunday reported morning ant...       1.0  \n",
       "3  email kayla mueller prisoner tortured isis cha...       1.0  \n",
       "4  email healthcare reform make america great sin...       1.0  "
      ]
     },
     "execution_count": 2,
     "metadata": {},
     "output_type": "execute_result"
    }
   ],
   "source": [
    "# Load dataset\n",
    "df = pd.read_csv('news_articles.csv')\n",
    "\n",
    "df.head()"
   ]
  },
  {
   "cell_type": "code",
   "execution_count": 3,
   "metadata": {},
   "outputs": [
    {
     "data": {
      "text/plain": [
       "activistpost.com       100\n",
       "infowars.com           100\n",
       "clickhole.com          100\n",
       "presstv.ir             100\n",
       "naturalnews.com        100\n",
       "                      ... \n",
       "redstatewatcher.com      1\n",
       "therussophile.org        1\n",
       "projectveritas.com       1\n",
       "madworldnews.com         1\n",
       "allnewspipeline.com      1\n",
       "Name: site_url, Length: 68, dtype: int64"
      ]
     },
     "execution_count": 3,
     "metadata": {},
     "output_type": "execute_result"
    }
   ],
   "source": [
    "df.site_url.value_counts()"
   ]
  },
  {
   "cell_type": "code",
   "execution_count": 4,
   "metadata": {
    "scrolled": true
   },
   "outputs": [
    {
     "data": {
      "text/plain": [
       "author                      0\n",
       "published                   0\n",
       "title                       0\n",
       "text                       46\n",
       "language                    1\n",
       "site_url                    1\n",
       "main_img_url                1\n",
       "type                        1\n",
       "label                       1\n",
       "title_without_stopwords     2\n",
       "text_without_stopwords     50\n",
       "hasImage                    1\n",
       "dtype: int64"
      ]
     },
     "execution_count": 4,
     "metadata": {},
     "output_type": "execute_result"
    }
   ],
   "source": [
    "df.isnull().sum()"
   ]
  },
  {
   "cell_type": "code",
   "execution_count": 5,
   "metadata": {},
   "outputs": [
    {
     "data": {
      "text/plain": [
       "'print pay back money plus interest entire family everyone came need deported asap take two years bust go another group stealing government taxpayers group somalis stole four million government benefits months weve reported numerous cases like one muslim refugeesimmigrants commit fraud scamming systemits way control related'"
      ]
     },
     "execution_count": 5,
     "metadata": {},
     "output_type": "execute_result"
    }
   ],
   "source": [
    "df['text_without_stopwords'][0]"
   ]
  },
  {
   "cell_type": "code",
   "execution_count": 6,
   "metadata": {},
   "outputs": [
    {
     "data": {
      "text/plain": [
       "No Author                              505\n",
       "Activist Post                           82\n",
       "EdJenner                                73\n",
       "noreply@blogger.com (Der Postillon)     72\n",
       "Anonymous                               58\n",
       "                                      ... \n",
       "T. Mohr                                  1\n",
       "Jacques de Seingalt                      1\n",
       "tapatio                                  1\n",
       "Phyllis Bentley                          1\n",
       "Rafiq                                    1\n",
       "Name: author, Length: 491, dtype: int64"
      ]
     },
     "execution_count": 6,
     "metadata": {},
     "output_type": "execute_result"
    }
   ],
   "source": [
    "# Author does not look like a useful column... also would lead to overfitting\n",
    "df['author'].value_counts()"
   ]
  },
  {
   "cell_type": "code",
   "execution_count": 70,
   "metadata": {},
   "outputs": [],
   "source": [
    "# Dropping the 50 or so rows with NaN for tezt\n",
    "df = df[df['text'].notna()]"
   ]
  },
  {
   "cell_type": "code",
   "execution_count": 8,
   "metadata": {},
   "outputs": [
    {
     "data": {
      "text/plain": [
       "0"
      ]
     },
     "execution_count": 8,
     "metadata": {},
     "output_type": "execute_result"
    }
   ],
   "source": [
    "df.text.isnull().sum()"
   ]
  },
  {
   "cell_type": "code",
   "execution_count": 9,
   "metadata": {},
   "outputs": [
    {
     "name": "stdout",
     "output_type": "stream",
     "text": [
      "<class 'pandas.core.frame.DataFrame'>\n",
      "Int64Index: 2050 entries, 0 to 2049\n",
      "Data columns (total 12 columns):\n",
      " #   Column                   Non-Null Count  Dtype  \n",
      "---  ------                   --------------  -----  \n",
      " 0   author                   2050 non-null   object \n",
      " 1   published                2050 non-null   object \n",
      " 2   title                    2050 non-null   object \n",
      " 3   text                     2050 non-null   object \n",
      " 4   language                 2050 non-null   object \n",
      " 5   site_url                 2050 non-null   object \n",
      " 6   main_img_url             2050 non-null   object \n",
      " 7   type                     2050 non-null   object \n",
      " 8   label                    2050 non-null   object \n",
      " 9   title_without_stopwords  2049 non-null   object \n",
      " 10  text_without_stopwords   2046 non-null   object \n",
      " 11  hasImage                 2050 non-null   float64\n",
      "dtypes: float64(1), object(11)\n",
      "memory usage: 208.2+ KB\n"
     ]
    }
   ],
   "source": [
    "df.info()"
   ]
  },
  {
   "cell_type": "code",
   "execution_count": 10,
   "metadata": {},
   "outputs": [],
   "source": [
    "# Our primary analysis will be on predicting labels \"Real\" & \"Fake\" using the text provided\n",
    "# A secondary analysis could be to attempt to run multiclassification on the predicting the types with text\n",
    "# It will be interesting. to analyze the given \"type\" analysis with our own sentiment analysis\n",
    "text = df[['label', 'type', 'text', 'title', 'author', 'site_url', 'text_without_stopwords']]"
   ]
  },
  {
   "cell_type": "code",
   "execution_count": 11,
   "metadata": {},
   "outputs": [],
   "source": [
    "# About 50 rows with null values to drop...\n",
    "text = text.dropna(axis=0)"
   ]
  },
  {
   "cell_type": "code",
   "execution_count": 12,
   "metadata": {},
   "outputs": [
    {
     "data": {
      "text/html": [
       "<div>\n",
       "<style scoped>\n",
       "    .dataframe tbody tr th:only-of-type {\n",
       "        vertical-align: middle;\n",
       "    }\n",
       "\n",
       "    .dataframe tbody tr th {\n",
       "        vertical-align: top;\n",
       "    }\n",
       "\n",
       "    .dataframe thead th {\n",
       "        text-align: right;\n",
       "    }\n",
       "</style>\n",
       "<table border=\"1\" class=\"dataframe\">\n",
       "  <thead>\n",
       "    <tr style=\"text-align: right;\">\n",
       "      <th></th>\n",
       "      <th>label</th>\n",
       "      <th>type</th>\n",
       "      <th>text</th>\n",
       "      <th>title</th>\n",
       "      <th>author</th>\n",
       "      <th>site_url</th>\n",
       "      <th>text_without_stopwords</th>\n",
       "    </tr>\n",
       "  </thead>\n",
       "  <tbody>\n",
       "    <tr>\n",
       "      <th>0</th>\n",
       "      <td>Real</td>\n",
       "      <td>bias</td>\n",
       "      <td>print they should pay all the back all the mon...</td>\n",
       "      <td>muslims busted they stole millions in govt ben...</td>\n",
       "      <td>Barracuda Brigade</td>\n",
       "      <td>100percentfedup.com</td>\n",
       "      <td>print pay back money plus interest entire fami...</td>\n",
       "    </tr>\n",
       "    <tr>\n",
       "      <th>1</th>\n",
       "      <td>Real</td>\n",
       "      <td>bias</td>\n",
       "      <td>why did attorney general loretta lynch plead t...</td>\n",
       "      <td>re why did attorney general loretta lynch plea...</td>\n",
       "      <td>reasoning with facts</td>\n",
       "      <td>100percentfedup.com</td>\n",
       "      <td>attorney general loretta lynch plead fifth bar...</td>\n",
       "    </tr>\n",
       "    <tr>\n",
       "      <th>2</th>\n",
       "      <td>Real</td>\n",
       "      <td>bias</td>\n",
       "      <td>red state  \\nfox news sunday reported this mor...</td>\n",
       "      <td>breaking weiner cooperating with fbi on hillar...</td>\n",
       "      <td>Barracuda Brigade</td>\n",
       "      <td>100percentfedup.com</td>\n",
       "      <td>red state fox news sunday reported morning ant...</td>\n",
       "    </tr>\n",
       "    <tr>\n",
       "      <th>3</th>\n",
       "      <td>Real</td>\n",
       "      <td>bias</td>\n",
       "      <td>email kayla mueller was a prisoner and torture...</td>\n",
       "      <td>pin drop speech by father of daughter kidnappe...</td>\n",
       "      <td>Fed Up</td>\n",
       "      <td>100percentfedup.com</td>\n",
       "      <td>email kayla mueller prisoner tortured isis cha...</td>\n",
       "    </tr>\n",
       "    <tr>\n",
       "      <th>4</th>\n",
       "      <td>Real</td>\n",
       "      <td>bias</td>\n",
       "      <td>email healthcare reform to make america great ...</td>\n",
       "      <td>fantastic trumps  point plan to reform healthc...</td>\n",
       "      <td>Fed Up</td>\n",
       "      <td>100percentfedup.com</td>\n",
       "      <td>email healthcare reform make america great sin...</td>\n",
       "    </tr>\n",
       "  </tbody>\n",
       "</table>\n",
       "</div>"
      ],
      "text/plain": [
       "  label  type                                               text  \\\n",
       "0  Real  bias  print they should pay all the back all the mon...   \n",
       "1  Real  bias  why did attorney general loretta lynch plead t...   \n",
       "2  Real  bias  red state  \\nfox news sunday reported this mor...   \n",
       "3  Real  bias  email kayla mueller was a prisoner and torture...   \n",
       "4  Real  bias  email healthcare reform to make america great ...   \n",
       "\n",
       "                                               title                author  \\\n",
       "0  muslims busted they stole millions in govt ben...     Barracuda Brigade   \n",
       "1  re why did attorney general loretta lynch plea...  reasoning with facts   \n",
       "2  breaking weiner cooperating with fbi on hillar...     Barracuda Brigade   \n",
       "3  pin drop speech by father of daughter kidnappe...                Fed Up   \n",
       "4  fantastic trumps  point plan to reform healthc...                Fed Up   \n",
       "\n",
       "              site_url                             text_without_stopwords  \n",
       "0  100percentfedup.com  print pay back money plus interest entire fami...  \n",
       "1  100percentfedup.com  attorney general loretta lynch plead fifth bar...  \n",
       "2  100percentfedup.com  red state fox news sunday reported morning ant...  \n",
       "3  100percentfedup.com  email kayla mueller prisoner tortured isis cha...  \n",
       "4  100percentfedup.com  email healthcare reform make america great sin...  "
      ]
     },
     "execution_count": 12,
     "metadata": {},
     "output_type": "execute_result"
    }
   ],
   "source": [
    "text.head()"
   ]
  },
  {
   "cell_type": "code",
   "execution_count": 13,
   "metadata": {},
   "outputs": [
    {
     "data": {
      "text/plain": [
       "bs            599\n",
       "conspiracy    430\n",
       "bias          389\n",
       "hate          244\n",
       "satire        146\n",
       "state         121\n",
       "junksci       102\n",
       "fake           15\n",
       "Name: type, dtype: int64"
      ]
     },
     "execution_count": 13,
     "metadata": {},
     "output_type": "execute_result"
    }
   ],
   "source": [
    "text.type.value_counts()"
   ]
  },
  {
   "cell_type": "code",
   "execution_count": 14,
   "metadata": {},
   "outputs": [
    {
     "data": {
      "text/plain": [
       "Fake    0.631476\n",
       "Real    0.368524\n",
       "Name: label, dtype: float64"
      ]
     },
     "execution_count": 14,
     "metadata": {},
     "output_type": "execute_result"
    }
   ],
   "source": [
    "# Not too heavy of an imabalance - should work ok with most algorithms!\n",
    "text.label.value_counts(normalize=True)"
   ]
  },
  {
   "cell_type": "code",
   "execution_count": 15,
   "metadata": {
    "scrolled": false
   },
   "outputs": [
    {
     "data": {
      "image/png": "[encoded data removed]",
      "text/plain": [
       "<Figure size 576x432 with 1 Axes>"
      ]
     },
     "metadata": {},
     "output_type": "display_data"
    }
   ],
   "source": [
    "text.label.value_counts(normalize=True).plot(kind='bar', figsize=(8, 6),\n",
    "                                             color='Lightblue', alpha=0.8, title='Normalized Real vs Fake Articles');"
   ]
  },
  {
   "cell_type": "code",
   "execution_count": 16,
   "metadata": {},
   "outputs": [],
   "source": [
    "# Note... the length is a character count and not word count\n",
    "text['len_title'] = text.title.apply(len)\n",
    "text['len_text'] = text.text.apply(len)"
   ]
  },
  {
   "cell_type": "code",
   "execution_count": 17,
   "metadata": {},
   "outputs": [
    {
     "data": {
      "text/plain": [
       "492"
      ]
     },
     "execution_count": 17,
     "metadata": {},
     "output_type": "execute_result"
    }
   ],
   "source": [
    "text.len_text[0]"
   ]
  },
  {
   "cell_type": "code",
   "execution_count": 18,
   "metadata": {},
   "outputs": [
    {
     "data": {
      "text/plain": [
       "'print they should pay all the back all the money plus interest the entire family and everyone who came in with them need to be deported asap why did it take two years to bust them \\nhere we go again another group stealing from the government and taxpayers a group of somalis stole over four million in government benefits over just  months \\nweve reported on numerous cases like this one where the muslim refugeesimmigrants commit fraud by scamming our systemits way out of control more related'"
      ]
     },
     "execution_count": 18,
     "metadata": {},
     "output_type": "execute_result"
    }
   ],
   "source": [
    "text.text[0]"
   ]
  },
  {
   "cell_type": "code",
   "execution_count": 19,
   "metadata": {},
   "outputs": [
    {
     "data": {
      "text/plain": [
       "bias     389\n",
       "hate     244\n",
       "state    121\n",
       "Name: type, dtype: int64"
      ]
     },
     "execution_count": 19,
     "metadata": {},
     "output_type": "execute_result"
    }
   ],
   "source": [
    "real = text.loc[text['label'] == 'Real']\n",
    "real.type.value_counts()"
   ]
  },
  {
   "cell_type": "code",
   "execution_count": 20,
   "metadata": {},
   "outputs": [
    {
     "data": {
      "text/plain": [
       "bs            599\n",
       "conspiracy    430\n",
       "satire        146\n",
       "junksci       102\n",
       "fake           15\n",
       "Name: type, dtype: int64"
      ]
     },
     "execution_count": 20,
     "metadata": {},
     "output_type": "execute_result"
    }
   ],
   "source": [
    "fake = text.loc[text['label'] == 'Fake']\n",
    "fake.type.value_counts()"
   ]
  },
  {
   "cell_type": "code",
   "execution_count": 21,
   "metadata": {},
   "outputs": [
    {
     "data": {
      "text/plain": [
       "politicususa.com         100\n",
       "frontpagemag.com          99\n",
       "presstv.ir                99\n",
       "returnofkings.com         99\n",
       "westernjournalism.com     98\n",
       "Name: site_url, dtype: int64"
      ]
     },
     "execution_count": 21,
     "metadata": {},
     "output_type": "execute_result"
    }
   ],
   "source": [
    "real.site_url.value_counts()[0:5]"
   ]
  },
  {
   "cell_type": "code",
   "execution_count": 22,
   "metadata": {
    "scrolled": true
   },
   "outputs": [
    {
     "data": {
      "text/plain": [
       "activistpost.com    100\n",
       "naturalnews.com     100\n",
       "awdnews.com         100\n",
       "infowars.com        100\n",
       "clickhole.com       100\n",
       "Name: site_url, dtype: int64"
      ]
     },
     "execution_count": 22,
     "metadata": {},
     "output_type": "execute_result"
    }
   ],
   "source": [
    "fake.site_url.value_counts()[0:5]"
   ]
  },
  {
   "cell_type": "code",
   "execution_count": 23,
   "metadata": {},
   "outputs": [
    {
     "data": {
      "image/png": "[encoded data removed]",
      "text/plain": [
       "<Figure size 1296x432 with 2 Axes>"
      ]
     },
     "metadata": {},
     "output_type": "display_data"
    }
   ],
   "source": [
    "fig, axes = plt.subplots(nrows=1, ncols=2, figsize=(18,6))\n",
    "\n",
    "real.type.value_counts().plot(kind='bar', ax=axes[0], title='Real News - Content Categories',\n",
    "                              color='Lightblue', alpha=.7, fontsize=14)\n",
    "fake.type.value_counts().plot(kind='bar', ax=axes[1], title='Fake News - Content Categories',\n",
    "                              color='Gold', alpha=.7, fontsize=14)\n",
    "\n",
    "fig.suptitle('Subcategories of News - Real vs. Fake', fontsize=20)\n",
    "# ax.set_xlabel('xlabel', fontsize=10)\n",
    "# plt.ylabel('ylabel', fontsize=16)\n",
    "\n",
    "# Set common labels\n",
    "fig.text(0.5, -.05, 'Category Type', ha='center', va='center', fontsize=15)\n",
    "fig.text(0.08, 0.5, 'Number of Articles', ha='center', va='center', rotation='vertical', fontsize=15);"
   ]
  },
  {
   "cell_type": "code",
   "execution_count": 24,
   "metadata": {},
   "outputs": [
    {
     "data": {
      "image/png": "[encoded data removed]",
      "text/plain": [
       "<Figure size 432x288 with 1 Axes>"
      ]
     },
     "metadata": {},
     "output_type": "display_data"
    }
   ],
   "source": [
    "# Create Boxplot\n",
    "fig = plt.scatter(text.label, text.len_text, alpha=0.4)\n",
    "plt.xlabel('Label')\n",
    "plt.ylabel('Aritcle Length');"
   ]
  },
  {
   "cell_type": "code",
   "execution_count": 25,
   "metadata": {},
   "outputs": [
    {
     "data": {
      "image/png": "[encoded data removed]",
      "text/plain": [
       "<Figure size 432x288 with 1 Axes>"
      ]
     },
     "metadata": {},
     "output_type": "display_data"
    }
   ],
   "source": [
    "plt.scatter(real.len_text, real.len_title, alpha=0.6, color='green')\n",
    "plt.scatter(fake.len_text, fake.len_title, alpha=0.4, color='aquamarine')\n",
    "plt.xlabel('Article Length')\n",
    "plt.ylabel('Label Count')\n",
    "plt.legend(['Real', 'Fake']);\n"
   ]
  },
  {
   "cell_type": "code",
   "execution_count": 26,
   "metadata": {},
   "outputs": [
    {
     "data": {
      "text/plain": [
       "3209.137931034483"
      ]
     },
     "execution_count": 26,
     "metadata": {},
     "output_type": "execute_result"
    }
   ],
   "source": [
    "(real.len_text).mean()"
   ]
  },
  {
   "cell_type": "code",
   "execution_count": 27,
   "metadata": {},
   "outputs": [
    {
     "data": {
      "text/plain": [
       "2830.136222910217"
      ]
     },
     "execution_count": 27,
     "metadata": {},
     "output_type": "execute_result"
    }
   ],
   "source": [
    "(fake.len_text).mean()"
   ]
  },
  {
   "cell_type": "markdown",
   "metadata": {},
   "source": [
    "On average, the fake articles are slightly shorter."
   ]
  },
  {
   "cell_type": "code",
   "execution_count": 28,
   "metadata": {},
   "outputs": [
    {
     "data": {
      "image/png": "[encoded data removed]",
      "text/plain": [
       "<Figure size 432x288 with 1 Axes>"
      ]
     },
     "metadata": {},
     "output_type": "display_data"
    }
   ],
   "source": [
    "fake_auth_count = fake.author.value_counts()[1:12]\n",
    "fake_auth_count.plot(kind='bar')\n",
    "plt.xlabel('Authors')\n",
    "plt.ylabel('Articles Written')\n",
    "plt.title('Authors Who Write the Most Fake News')\n",
    "plt.show()"
   ]
  },
  {
   "cell_type": "markdown",
   "metadata": {},
   "source": [
    "Top 3 authors of \"fake\" articles are not tied to real world names."
   ]
  },
  {
   "cell_type": "code",
   "execution_count": 29,
   "metadata": {},
   "outputs": [
    {
     "data": {
      "text/plain": [
       "Activist Post                          82\n",
       "EdJenner                               73\n",
       "noreply@blogger.com (Der Postillon)    72\n",
       "Anonymous                              58\n",
       "Name: author, dtype: int64"
      ]
     },
     "execution_count": 29,
     "metadata": {},
     "output_type": "execute_result"
    }
   ],
   "source": [
    "df.author.value_counts()[1:5]"
   ]
  },
  {
   "cell_type": "code",
   "execution_count": 30,
   "metadata": {},
   "outputs": [
    {
     "data": {
      "image/png": "[encoded data removed]",
      "text/plain": [
       "<Figure size 1008x576 with 1 Axes>"
      ]
     },
     "metadata": {},
     "output_type": "display_data"
    }
   ],
   "source": [
    "fake.author.value_counts()[1:5].plot(kind='bar', alpha=0.6, figsize=(14,8))\n",
    "plt.xlabel('Authors')\n",
    "plt.ylabel('Articles Written')\n",
    "plt.title('Top 4: Authors Who Write the Most Fake News');"
   ]
  },
  {
   "cell_type": "code",
   "execution_count": 31,
   "metadata": {},
   "outputs": [
    {
     "data": {
      "image/png": "[encoded data removed]",
      "text/plain": [
       "<Figure size 1008x576 with 1 Axes>"
      ]
     },
     "metadata": {},
     "output_type": "display_data"
    }
   ],
   "source": [
    "real.author.value_counts()[1:5].plot(kind='bar', color='seagreen', alpha=0.6, figsize=(14, 8))\n",
    "plt.xlabel('Authors')\n",
    "plt.ylabel('Articles Written')\n",
    "plt.title('Top 4: Authors Who Write the Most Real News');"
   ]
  },
  {
   "cell_type": "markdown",
   "metadata": {},
   "source": [
    "\"Real\" article authors contrast with the \"fake\" authors. The most prevalent of authors whose articles were labeled \"real\" are written under their true name. "
   ]
  },
  {
   "cell_type": "code",
   "execution_count": 32,
   "metadata": {},
   "outputs": [],
   "source": [
    "# Look at dates for EDA analyis"
   ]
  },
  {
   "cell_type": "code",
   "execution_count": 33,
   "metadata": {},
   "outputs": [
    {
     "data": {
      "text/plain": [
       "['i', 'me', 'my', 'myself', 'we', 'our', 'ours', 'ourselves', 'you', \"you're\"]"
      ]
     },
     "execution_count": 33,
     "metadata": {},
     "output_type": "execute_result"
    }
   ],
   "source": [
    "from nltk.corpus import stopwords\n",
    "from nltk import word_tokenize, FreqDist\n",
    "\n",
    "import string\n",
    "stopwords.words('english')[0:10] # Show some stop words"
   ]
  },
  {
   "cell_type": "code",
   "execution_count": 34,
   "metadata": {},
   "outputs": [
    {
     "name": "stdout",
     "output_type": "stream",
     "text": [
      "['i', 'me', 'my', 'myself', 'we', 'our', 'ours', 'ourselves', 'you', \"you're\", \"you've\", \"you'll\", \"you'd\", 'your', 'yours', 'yourself', 'yourselves', 'he', 'him', 'his', 'himself', 'she', \"she's\", 'her', 'hers', 'herself', 'it', \"it's\", 'its', 'itself', 'they', 'them', 'their', 'theirs', 'themselves', 'what', 'which', 'who', 'whom', 'this', 'that', \"that'll\", 'these', 'those', 'am', 'is', 'are', 'was', 'were', 'be', 'been', 'being', 'have', 'has', 'had', 'having', 'do', 'does', 'did', 'doing', 'a', 'an', 'the', 'and', 'but', 'if', 'or', 'because', 'as', 'until', 'while', 'of', 'at', 'by', 'for', 'with', 'about', 'against', 'between', 'into', 'through', 'during', 'before', 'after', 'above', 'below', 'to', 'from', 'up', 'down', 'in', 'out', 'on', 'off', 'over', 'under', 'again', 'further', 'then', 'once', 'here', 'there', 'when', 'where', 'why', 'how', 'all', 'any', 'both', 'each', 'few', 'more', 'most', 'other', 'some', 'such', 'no', 'nor', 'not', 'only', 'own', 'same', 'so', 'than', 'too', 'very', 's', 't', 'can', 'will', 'just', 'don', \"don't\", 'should', \"should've\", 'now', 'd', 'll', 'm', 'o', 're', 've', 'y', 'ain', 'aren', \"aren't\", 'couldn', \"couldn't\", 'didn', \"didn't\", 'doesn', \"doesn't\", 'hadn', \"hadn't\", 'hasn', \"hasn't\", 'haven', \"haven't\", 'isn', \"isn't\", 'ma', 'mightn', \"mightn't\", 'mustn', \"mustn't\", 'needn', \"needn't\", 'shan', \"shan't\", 'shouldn', \"shouldn't\", 'wasn', \"wasn't\", 'weren', \"weren't\", 'won', \"won't\", 'wouldn', \"wouldn't\", '!', '\"', '#', '$', '%', '&', \"'\", '(', ')', '*', '+', ',', '-', '.', '/', ':', ';', '<', '=', '>', '?', '@', '[', '\\\\', ']', '^', '_', '`', '{', '|', '}', '~']\n",
      "['i', 'me', 'my', 'myself', 'we', 'our', 'ours', 'ourselves', 'you', \"you're\", \"you've\", \"you'll\", \"you'd\", 'your', 'yours', 'yourself', 'yourselves', 'he', 'him', 'his', 'himself', 'she', \"she's\", 'her', 'hers', 'herself', 'it', \"it's\", 'its', 'itself', 'they', 'them', 'their', 'theirs', 'themselves', 'what', 'which', 'who', 'whom', 'this', 'that', \"that'll\", 'these', 'those', 'am', 'is', 'are', 'was', 'were', 'be', 'been', 'being', 'have', 'has', 'had', 'having', 'do', 'does', 'did', 'doing', 'a', 'an', 'the', 'and', 'but', 'if', 'or', 'because', 'as', 'until', 'while', 'of', 'at', 'by', 'for', 'with', 'about', 'against', 'between', 'into', 'through', 'during', 'before', 'after', 'above', 'below', 'to', 'from', 'up', 'down', 'in', 'out', 'on', 'off', 'over', 'under', 'again', 'further', 'then', 'once', 'here', 'there', 'when', 'where', 'why', 'how', 'all', 'any', 'both', 'each', 'few', 'more', 'most', 'other', 'some', 'such', 'no', 'nor', 'not', 'only', 'own', 'same', 'so', 'than', 'too', 'very', 's', 't', 'can', 'will', 'just', 'don', \"don't\", 'should', \"should've\", 'now', 'd', 'll', 'm', 'o', 're', 've', 'y', 'ain', 'aren', \"aren't\", 'couldn', \"couldn't\", 'didn', \"didn't\", 'doesn', \"doesn't\", 'hadn', \"hadn't\", 'hasn', \"hasn't\", 'haven', \"haven't\", 'isn', \"isn't\", 'ma', 'mightn', \"mightn't\", 'mustn', \"mustn't\", 'needn', \"needn't\", 'shan', \"shan't\", 'shouldn', \"shouldn't\", 'wasn', \"wasn't\", 'weren', \"weren't\", 'won', \"won't\", 'wouldn', \"wouldn't\", '!', '\"', '#', '$', '%', '&', \"'\", '(', ')', '*', '+', ',', '-', '.', '/', ':', ';', '<', '=', '>', '?', '@', '[', '\\\\', ']', '^', '_', '`', '{', '|', '}', '~', \"''\", '\"\"', '...', '``']\n"
     ]
    }
   ],
   "source": [
    "stopwords_list = stopwords.words('english') + list(string.punctuation)\n",
    "print(stopwords_list)\n",
    "stopwords_list += [\"''\", '\"\"', '...', '``']\n",
    "print(stopwords_list)\n"
   ]
  },
  {
   "cell_type": "code",
   "execution_count": 35,
   "metadata": {},
   "outputs": [],
   "source": [
    "def process_article(article):\n",
    "    tokens = nltk.word_tokenize(article)  \n",
    "    stopwords_removed = [token.lower() for token in tokens if token.lower() not in stopwords_list]\n",
    "    return stopwords_removed"
   ]
  },
  {
   "cell_type": "code",
   "execution_count": 36,
   "metadata": {},
   "outputs": [],
   "source": [
    "processed_data = list(map(process_article, df.text))"
   ]
  },
  {
   "cell_type": "code",
   "execution_count": 37,
   "metadata": {},
   "outputs": [],
   "source": [
    "real_data = list(map(process_article, real.text))\n",
    "fake_data = list(map(process_article, fake.text))"
   ]
  },
  {
   "cell_type": "code",
   "execution_count": 38,
   "metadata": {},
   "outputs": [
    {
     "name": "stdout",
     "output_type": "stream",
     "text": [
      "['print', 'pay', 'back', 'money', 'plus']\n"
     ]
    },
    {
     "data": {
      "text/plain": [
       "229511"
      ]
     },
     "execution_count": 38,
     "metadata": {},
     "output_type": "execute_result"
    }
   ],
   "source": [
    "# Real text concat\n",
    "total_vocab_real = set()\n",
    "\n",
    "for article in real_data:\n",
    "    total_vocab_real.update(article)\n",
    "len(total_vocab_real)\n",
    "\n",
    "articles_concat_real = []\n",
    "for article in real_data:\n",
    "    articles_concat_real += article\n",
    "print(articles_concat_real[0:5])\n",
    "len(articles_concat_real)"
   ]
  },
  {
   "cell_type": "code",
   "execution_count": 39,
   "metadata": {},
   "outputs": [],
   "source": [
    "articles_freqdist_real = FreqDist(articles_concat_real)"
   ]
  },
  {
   "cell_type": "code",
   "execution_count": 40,
   "metadata": {},
   "outputs": [
    {
     "name": "stdout",
     "output_type": "stream",
     "text": [
      "['st', 'century', 'wire', 'says', 'wire']\n"
     ]
    },
    {
     "data": {
      "text/plain": [
       "350560"
      ]
     },
     "execution_count": 40,
     "metadata": {},
     "output_type": "execute_result"
    }
   ],
   "source": [
    "# Fake text concat\n",
    "total_vocab_fake = set()\n",
    "\n",
    "for article in fake_data:\n",
    "    total_vocab_fake.update(article)\n",
    "len(total_vocab_fake)\n",
    "\n",
    "articles_concat_fake = []\n",
    "for article in fake_data:\n",
    "    articles_concat_fake += article\n",
    "print(articles_concat_fake[0:5])\n",
    "len(articles_concat_fake)"
   ]
  },
  {
   "cell_type": "code",
   "execution_count": 41,
   "metadata": {},
   "outputs": [],
   "source": [
    "articles_freqdist_fake = FreqDist(articles_concat_fake)"
   ]
  },
  {
   "cell_type": "code",
   "execution_count": 42,
   "metadata": {},
   "outputs": [
    {
     "data": {
      "text/plain": [
       "47167"
      ]
     },
     "execution_count": 42,
     "metadata": {},
     "output_type": "execute_result"
    }
   ],
   "source": [
    "total_vocab = set()\n",
    "\n",
    "for article in processed_data:\n",
    "    total_vocab.update(article)\n",
    "len(total_vocab)\n"
   ]
  },
  {
   "cell_type": "code",
   "execution_count": 49,
   "metadata": {},
   "outputs": [
    {
     "name": "stdout",
     "output_type": "stream",
     "text": [
      "['print', 'pay', 'back', 'money', 'plus']\n"
     ]
    },
    {
     "data": {
      "text/plain": [
       "580599"
      ]
     },
     "execution_count": 49,
     "metadata": {},
     "output_type": "execute_result"
    }
   ],
   "source": [
    "articles_concat = []\n",
    "for article in processed_data:\n",
    "    articles_concat += article\n",
    "print(articles_concat[0:5])\n",
    "len(articles_concat)"
   ]
  },
  {
   "cell_type": "code",
   "execution_count": 50,
   "metadata": {
    "scrolled": false
   },
   "outputs": [
    {
     "data": {
      "text/plain": [
       "['print', 'pay', 'back', 'money', 'plus']"
      ]
     },
     "execution_count": 50,
     "metadata": {},
     "output_type": "execute_result"
    }
   ],
   "source": [
    "articles_concat[0:5]"
   ]
  },
  {
   "cell_type": "code",
   "execution_count": 51,
   "metadata": {
    "scrolled": true
   },
   "outputs": [
    {
     "data": {
      "text/plain": [
       "[('trump', 3421),\n",
       " ('clinton', 3057),\n",
       " ('one', 2414),\n",
       " ('us', 2386),\n",
       " ('said', 2343)]"
      ]
     },
     "execution_count": 51,
     "metadata": {},
     "output_type": "execute_result"
    }
   ],
   "source": [
    "articles_freqdist = FreqDist(articles_concat)\n",
    "articles_freqdist.most_common(5)"
   ]
  },
  {
   "cell_type": "code",
   "execution_count": 52,
   "metadata": {},
   "outputs": [],
   "source": [
    "top_words = articles_freqdist.most_common(10)"
   ]
  },
  {
   "cell_type": "code",
   "execution_count": 53,
   "metadata": {},
   "outputs": [],
   "source": [
    "x_val = [x[0] for x in top_words]\n",
    "y_val = [x[1] for x in top_words]"
   ]
  },
  {
   "cell_type": "code",
   "execution_count": 54,
   "metadata": {},
   "outputs": [],
   "source": [
    "twords = pd.DataFrame(y_val, index=x_val, columns =['Top_Words']) "
   ]
  },
  {
   "cell_type": "code",
   "execution_count": 55,
   "metadata": {
    "scrolled": false
   },
   "outputs": [
    {
     "data": {
      "image/png": "[encoded data removed]",
      "text/plain": [
       "<Figure size 432x288 with 1 Axes>"
      ]
     },
     "metadata": {},
     "output_type": "display_data"
    }
   ],
   "source": [
    "twords.plot(kind='bar')\n",
    "plt.xlabel('Top Words')\n",
    "plt.ylabel('Word Frequency')\n",
    "plt.title('Most Frequent Words')\n",
    "plt.show()"
   ]
  },
  {
   "cell_type": "code",
   "execution_count": 56,
   "metadata": {},
   "outputs": [
    {
     "data": {
      "text/plain": [
       "[('trump', 1433),\n",
       " ('clinton', 1062),\n",
       " ('people', 1035),\n",
       " ('us', 1000),\n",
       " ('one', 988),\n",
       " ('said', 984),\n",
       " ('would', 880),\n",
       " ('hillary', 782),\n",
       " ('also', 662),\n",
       " ('like', 661)]"
      ]
     },
     "execution_count": 56,
     "metadata": {},
     "output_type": "execute_result"
    }
   ],
   "source": [
    "top_words_real = articles_freqdist_real.most_common(10)\n",
    "top_words_real"
   ]
  },
  {
   "cell_type": "code",
   "execution_count": 57,
   "metadata": {},
   "outputs": [],
   "source": [
    "top_words_real = articles_freqdist_real.most_common(10)\n",
    "x_val_real = [x[0] for x in top_words_real]\n",
    "y_val_real = [x[1] for x in top_words_real]\n",
    "twords_real = pd.DataFrame(y_val_real, index=x_val_real, columns =['Top_Words']) "
   ]
  },
  {
   "cell_type": "code",
   "execution_count": 58,
   "metadata": {},
   "outputs": [],
   "source": [
    "top_words_fake = articles_freqdist_fake.most_common(10)\n",
    "x_val_fake = [x[0] for x in top_words_fake]\n",
    "y_val_fake = [x[1] for x in top_words_fake]\n",
    "twords_fake = pd.DataFrame(y_val_fake, index=x_val_fake, columns =['Top_Words']) "
   ]
  },
  {
   "cell_type": "code",
   "execution_count": 59,
   "metadata": {},
   "outputs": [
    {
     "data": {
      "image/png": "[encoded data removed]",
      "text/plain": [
       "<Figure size 1296x432 with 2 Axes>"
      ]
     },
     "metadata": {},
     "output_type": "display_data"
    }
   ],
   "source": [
    "fig, axes = plt.subplots(nrows=1, ncols=2, figsize=(18,6))\n",
    "\n",
    "twords_real.plot(kind='bar', ax=axes[0], title='Real News - Top Words',\n",
    "                              color='Lightblue', alpha=.7, fontsize=14)\n",
    "twords_fake.plot(kind='bar', ax=axes[1], title='Fake News - Top Words',\n",
    "                              color='Gold', alpha=.7, fontsize=14)\n",
    "\n",
    "fig.suptitle('Real vs. Fake Top Words', fontsize=20)\n",
    "# ax.set_xlabel('xlabel', fontsize=10)\n",
    "# plt.ylabel('ylabel', fontsize=16)\n",
    "\n",
    "# Set common labels\n",
    "fig.text(0.5, -.05, 'Top Words', ha='center', va='center', fontsize=15)\n",
    "fig.text(0.08, 0.5, 'Word Frequency', ha='center', va='center', rotation='vertical', fontsize=15);"
   ]
  },
  {
   "cell_type": "code",
   "execution_count": 74,
   "metadata": {},
   "outputs": [],
   "source": [
    "def sentiment_calc(text):\n",
    "    try:\n",
    "        return TextBlob(text).sentiment.polarity\n",
    "    except:\n",
    "        return None\n",
    "\n",
    "df['sentiment'] = df['text'].apply(sentiment_calc)"
   ]
  },
  {
   "cell_type": "code",
   "execution_count": 75,
   "metadata": {},
   "outputs": [
    {
     "data": {
      "text/plain": [
       "0    0.100000\n",
       "1    0.042381\n",
       "2    0.183000\n",
       "3   -0.066667\n",
       "4    0.176472\n",
       "Name: sentiment, dtype: float64"
      ]
     },
     "execution_count": 75,
     "metadata": {},
     "output_type": "execute_result"
    }
   ],
   "source": [
    "df['sentiment'].head()"
   ]
  },
  {
   "cell_type": "code",
   "execution_count": 76,
   "metadata": {},
   "outputs": [],
   "source": [
    "def get_sentiment(row):\n",
    "        if row > 0.1:\n",
    "            return 'positive'\n",
    "        elif row < -0.1:\n",
    "            return 'negative'\n",
    "        else:\n",
    "            return 'neutral'"
   ]
  },
  {
   "cell_type": "code",
   "execution_count": 77,
   "metadata": {},
   "outputs": [],
   "source": [
    "df['sentiment_label'] = df['sentiment'].apply(get_sentiment)"
   ]
  },
  {
   "cell_type": "code",
   "execution_count": 78,
   "metadata": {},
   "outputs": [
    {
     "data": {
      "text/plain": [
       "neutral     1241\n",
       "positive     690\n",
       "negative     119\n",
       "Name: sentiment_label, dtype: int64"
      ]
     },
     "execution_count": 78,
     "metadata": {},
     "output_type": "execute_result"
    }
   ],
   "source": [
    "df['sentiment_label'].value_counts()"
   ]
  },
  {
   "cell_type": "code",
   "execution_count": 79,
   "metadata": {},
   "outputs": [
    {
     "data": {
      "image/png": "[encoded data removed]",
      "text/plain": [
       "<Figure size 1008x576 with 1 Axes>"
      ]
     },
     "metadata": {},
     "output_type": "display_data"
    }
   ],
   "source": [
    "df.sentiment_label.value_counts().plot(kind='bar', color='gold', alpha=0.6, figsize=(14, 8))\n",
    "plt.xlabel('Sentiment Label')\n",
    "plt.ylabel('Article Number')\n",
    "plt.title('Sentiment of Text Using TextBlob Analysis');"
   ]
  },
  {
   "cell_type": "code",
   "execution_count": 80,
   "metadata": {},
   "outputs": [],
   "source": [
    "def subjectivity_calc(text):\n",
    "    try:\n",
    "        return TextBlob(text).sentiment.subjectivity\n",
    "    except:\n",
    "        return None\n",
    "\n",
    "df['subjectivity'] = df['text'].apply(subjectivity_calc)"
   ]
  },
  {
   "cell_type": "code",
   "execution_count": 81,
   "metadata": {},
   "outputs": [
    {
     "data": {
      "text/plain": [
       "0    0.405000\n",
       "1    0.368254\n",
       "2    0.533667\n",
       "3    0.916667\n",
       "4    0.448784\n",
       "Name: subjectivity, dtype: float64"
      ]
     },
     "execution_count": 81,
     "metadata": {},
     "output_type": "execute_result"
    }
   ],
   "source": [
    "df['subjectivity'].head()"
   ]
  },
  {
   "cell_type": "code",
   "execution_count": 83,
   "metadata": {},
   "outputs": [],
   "source": [
    "def get_subjectivity(row):\n",
    "        if row > 0.75:\n",
    "            return 'very biased'\n",
    "        elif row > 0.5 and row < 0.75:\n",
    "            return 'biased'\n",
    "        elif row < 0.25:\n",
    "            return 'very objective'\n",
    "        else:\n",
    "            return 'objective'"
   ]
  },
  {
   "cell_type": "code",
   "execution_count": 84,
   "metadata": {},
   "outputs": [
    {
     "data": {
      "text/plain": [
       "objective         504\n",
       "biased            139\n",
       "very objective     91\n",
       "very biased        20\n",
       "Name: subjectivity_label, dtype: int64"
      ]
     },
     "execution_count": 84,
     "metadata": {},
     "output_type": "execute_result"
    }
   ],
   "source": [
    "real['subjectivity'] = real.text_without_stopwords.apply(subjectivity_calc)\n",
    "real['subjectivity_label'] = real['subjectivity'].apply(get_subjectivity)\n",
    "real['subjectivity_label'].value_counts()"
   ]
  },
  {
   "cell_type": "code",
   "execution_count": 85,
   "metadata": {},
   "outputs": [
    {
     "data": {
      "text/plain": [
       "objective         789\n",
       "biased            291\n",
       "very objective    184\n",
       "very biased        28\n",
       "Name: subjectivity_label, dtype: int64"
      ]
     },
     "execution_count": 85,
     "metadata": {},
     "output_type": "execute_result"
    }
   ],
   "source": [
    "fake['subjectivity'] = fake.text_without_stopwords.apply(subjectivity_calc)\n",
    "fake['subjectivity_label'] = fake['subjectivity'].apply(get_subjectivity)\n",
    "fake['subjectivity_label'].value_counts()"
   ]
  },
  {
   "cell_type": "code",
   "execution_count": 86,
   "metadata": {},
   "outputs": [
    {
     "data": {
      "text/plain": [
       "positive    710\n",
       "neutral      44\n",
       "Name: sentiment_label, dtype: int64"
      ]
     },
     "execution_count": 86,
     "metadata": {},
     "output_type": "execute_result"
    }
   ],
   "source": [
    "real['sentiment'] = real.text_without_stopwords.apply(sentiment_calc)\n",
    "real['sentiment_label'] = real['subjectivity'].apply(get_sentiment)\n",
    "real['sentiment_label'].value_counts()"
   ]
  },
  {
   "cell_type": "code",
   "execution_count": 87,
   "metadata": {},
   "outputs": [
    {
     "data": {
      "text/plain": [
       "positive    1179\n",
       "neutral      113\n",
       "Name: sentiment_label, dtype: int64"
      ]
     },
     "execution_count": 87,
     "metadata": {},
     "output_type": "execute_result"
    }
   ],
   "source": [
    "fake['sentiment'] = fake.text_without_stopwords.apply(sentiment_calc)\n",
    "fake['sentiment_label'] = fake['subjectivity'].apply(get_sentiment)\n",
    "fake['sentiment_label'].value_counts()"
   ]
  },
  {
   "cell_type": "code",
   "execution_count": 88,
   "metadata": {},
   "outputs": [],
   "source": [
    "df['subjectivity_label'] = df['subjectivity'].apply(get_subjectivity)"
   ]
  },
  {
   "cell_type": "code",
   "execution_count": 89,
   "metadata": {},
   "outputs": [
    {
     "data": {
      "text/plain": [
       "objective         1328\n",
       "biased             456\n",
       "very objective     218\n",
       "very biased         48\n",
       "Name: subjectivity_label, dtype: int64"
      ]
     },
     "execution_count": 89,
     "metadata": {},
     "output_type": "execute_result"
    }
   ],
   "source": [
    "df['subjectivity_label'].value_counts()"
   ]
  },
  {
   "cell_type": "code",
   "execution_count": 90,
   "metadata": {},
   "outputs": [
    {
     "data": {
      "image/png": "[encoded data removed]",
      "text/plain": [
       "<Figure size 1008x576 with 1 Axes>"
      ]
     },
     "metadata": {},
     "output_type": "display_data"
    }
   ],
   "source": [
    "df.subjectivity_label.value_counts().plot(kind='bar', color='lightblue', alpha=0.9, figsize=(14, 8))\n",
    "plt.xlabel('Subjectivity Label')\n",
    "plt.ylabel('Article Number')\n",
    "plt.title('Subjectivity of Text Using TextBlob Analysis');"
   ]
  },
  {
   "cell_type": "code",
   "execution_count": 92,
   "metadata": {},
   "outputs": [
    {
     "data": {
      "image/png": "[encoded data removed]",
      "text/plain": [
       "<Figure size 1008x576 with 1 Axes>"
      ]
     },
     "metadata": {},
     "output_type": "display_data"
    }
   ],
   "source": [
    "\n",
    "labels = ['very biased', 'biased', 'objective', 'very objective']\n",
    "fake_sub = [28, 291, 789, 184]\n",
    "real_sub = [20, 139, 504, 91]\n",
    "width = 0.50       # the width of the bars: can also be len(x) sequence\n",
    "\n",
    "fig, ax = plt.subplots(figsize=(14, 8))\n",
    "\n",
    "ax.bar(labels, fake_sub, width, label='Fake', color='lightblue')\n",
    "ax.bar(labels, real_sub, width, bottom=fake_sub, label='Real', color='gold', alpha=0.6)\n",
    "\n",
    "ax.set_ylabel('Article Count')\n",
    "ax.set_title('Subjectivity of Fake vs. Real News')\n",
    "ax.legend()\n",
    "\n",
    "plt.show()"
   ]
  },
  {
   "cell_type": "markdown",
   "metadata": {},
   "source": [
    "# Modeling"
   ]
  },
  {
   "cell_type": "markdown",
   "metadata": {},
   "source": [
    "### TF-IDF & TTS"
   ]
  },
  {
   "cell_type": "code",
   "execution_count": 93,
   "metadata": {},
   "outputs": [],
   "source": [
    "X = df.text\n",
    "y = df.label"
   ]
  },
  {
   "cell_type": "code",
   "execution_count": 94,
   "metadata": {},
   "outputs": [],
   "source": [
    "LE = LabelEncoder()\n",
    "y = LE.fit_transform(y)"
   ]
  },
  {
   "cell_type": "code",
   "execution_count": 95,
   "metadata": {},
   "outputs": [
    {
     "data": {
      "text/plain": [
       "758"
      ]
     },
     "execution_count": 95,
     "metadata": {},
     "output_type": "execute_result"
    }
   ],
   "source": [
    "y.sum()"
   ]
  },
  {
   "cell_type": "code",
   "execution_count": 96,
   "metadata": {},
   "outputs": [
    {
     "data": {
      "text/plain": [
       "2050"
      ]
     },
     "execution_count": 96,
     "metadata": {},
     "output_type": "execute_result"
    }
   ],
   "source": [
    "len(y)"
   ]
  },
  {
   "cell_type": "markdown",
   "metadata": {},
   "source": [
    "So 1's are 'real' and 0's are 'fake'."
   ]
  },
  {
   "cell_type": "code",
   "execution_count": 97,
   "metadata": {},
   "outputs": [],
   "source": [
    "X_train, X_test, y_train, y_test = train_test_split(X, y, random_state=112, test_size=0.2)"
   ]
  },
  {
   "cell_type": "code",
   "execution_count": 98,
   "metadata": {},
   "outputs": [
    {
     "name": "stdout",
     "output_type": "stream",
     "text": [
      "(410,)\n"
     ]
    },
    {
     "data": {
      "text/plain": [
       "(1640,)"
      ]
     },
     "execution_count": 98,
     "metadata": {},
     "output_type": "execute_result"
    }
   ],
   "source": [
    "print(y_test.shape)\n",
    "X_train.shape"
   ]
  },
  {
   "cell_type": "code",
   "execution_count": 99,
   "metadata": {},
   "outputs": [],
   "source": [
    "tfidorizer = TfidfVectorizer(stop_words=stopwords_list, ngram_range=(1,3), max_features=200000)"
   ]
  },
  {
   "cell_type": "code",
   "execution_count": 100,
   "metadata": {},
   "outputs": [
    {
     "data": {
      "text/plain": [
       "228     by brandon turbeville in the latest developmen...\n",
       "831     election rigging and dirty tricks against trum...\n",
       "1651    the democratization of censorship\\n september ...\n",
       "316     adobochron  comment \\nsan francisco california...\n",
       "632     now its mustards time to shine posted today it...\n",
       "Name: text, dtype: object"
      ]
     },
     "execution_count": 100,
     "metadata": {},
     "output_type": "execute_result"
    }
   ],
   "source": [
    "X_train.head()"
   ]
  },
  {
   "cell_type": "code",
   "execution_count": 101,
   "metadata": {},
   "outputs": [],
   "source": [
    "X_train = tfidorizer.fit_transform(X_train)\n",
    "X_test = tfidorizer.transform(X_test)"
   ]
  },
  {
   "cell_type": "code",
   "execution_count": 70,
   "metadata": {},
   "outputs": [],
   "source": [
    "# Certain models require dense arrays - TFIDF saves as sparse\n",
    "X_train_dense = X_train.todense()\n",
    "X_test_dense = X_test.todense()"
   ]
  },
  {
   "cell_type": "code",
   "execution_count": 71,
   "metadata": {},
   "outputs": [
    {
     "name": "stdout",
     "output_type": "stream",
     "text": [
      "['abandoning', 'abandoning climate', 'abandoning climate change', 'abandoning family', 'abandoning family way', 'abandoning human', 'abandoning human rights', 'abandoning trump', 'abandoning trump embracing', 'abandonment', 'abandonment democracy', 'abandonment democracy honest', 'abandonment human', 'abandonment human rights', 'abandonment material', 'abandonment material struggle', 'abandonment support', 'abandonment support iraq', 'abandons', 'abandons efforts']\n"
     ]
    }
   ],
   "source": [
    "print(tfidorizer.get_feature_names()[200:220])"
   ]
  },
  {
   "cell_type": "markdown",
   "metadata": {},
   "source": [
    "... what's an abduction emoji?"
   ]
  },
  {
   "cell_type": "markdown",
   "metadata": {},
   "source": [
    "### Decision Tree"
   ]
  },
  {
   "cell_type": "code",
   "execution_count": 58,
   "metadata": {},
   "outputs": [
    {
     "name": "stdout",
     "output_type": "stream",
     "text": [
      "13.416691064834595 s\n",
      "\n",
      "Training Model:\n",
      "----------------\n",
      " Precision Score (Train): 100.0%\n",
      " Recall Score (Train): 98.86%\n",
      " Accuracy Score (Train): 99.57%\n",
      " F1 Score (Train): 99.42%\n",
      " mAP (Train) Score: 99.28%\n",
      "\n",
      "Test Model:\n",
      "----------------\n",
      " Precision Score (Test): 62.67%\n",
      " Recall Score (Test): 64.38%\n",
      " Accuracy Score (Test): 73.66%\n",
      " F1 Score (Test): 63.51%\n",
      " mAP (Test) Score: 53.03%\n"
     ]
    }
   ],
   "source": [
    "from sklearn.tree import DecisionTreeClassifier\n",
    "\n",
    "# Instantiate Tree Classifier\n",
    "tree = DecisionTreeClassifier()\n",
    "\n",
    "t0 = time.time()\n",
    "\n",
    "# Fit classifier - straight out of the box\n",
    "tree.fit(X_train, y_train)\n",
    "\n",
    "# Predictions\n",
    "tree_train_preds = tree.predict(X_train)\n",
    "tree_test_preds = tree.predict(X_test)\n",
    "\n",
    "t1 = time.time()\n",
    "total = t1-t0\n",
    "print(total,'s\\n')\n",
    "\n",
    "print_metrics(tree_train_preds, y_train, tree_test_preds, y_test)"
   ]
  },
  {
   "cell_type": "code",
   "execution_count": 61,
   "metadata": {},
   "outputs": [
    {
     "data": {
      "image/png": "[encoded data removed]",
      "text/plain": [
       "<Figure size 648x648 with 2 Axes>"
      ]
     },
     "metadata": {},
     "output_type": "display_data"
    }
   ],
   "source": [
    "cm = confusion_matrix(tree_test_preds, y_test)\n",
    "plt.figure(figsize=(9,9))\n",
    "sns.heatmap(cm, annot=True, fmt=\".3f\", linewidths=.5, square = True, cmap = 'Blues_r');\n",
    "plt.ylabel('Actual label');\n",
    "plt.xlabel('Predicted label');\n",
    "all_sample_title = 'Accuracy Score: {0}'.format(round(accuracy_score(y_test, tree_test_preds), 4))\n",
    "plt.title(all_sample_title, size = 15);"
   ]
  },
  {
   "cell_type": "markdown",
   "metadata": {},
   "source": [
    "### Logistic Regression"
   ]
  },
  {
   "cell_type": "code",
   "execution_count": 72,
   "metadata": {},
   "outputs": [
    {
     "name": "stdout",
     "output_type": "stream",
     "text": [
      "3.834934949874878 s\n",
      "\n",
      "Training Model:\n",
      "----------------\n",
      " Precision Score (Train): 99.51%\n",
      " Recall Score (Train): 99.35%\n",
      " Accuracy Score (Train): 99.57%\n",
      " F1 Score (Train): 99.43%\n",
      " mAP (Train) Score: 99.1%\n",
      "\n",
      "Test Model:\n",
      "----------------\n",
      " Precision Score (Test): 78.95%\n",
      " Recall Score (Test): 51.37%\n",
      " Accuracy Score (Test): 77.8%\n",
      " F1 Score (Test): 62.24%\n",
      " mAP (Test) Score: 57.87%\n"
     ]
    }
   ],
   "source": [
    "# Instantiating logistic regression classifier model\n",
    "logreg = LogisticRegression(fit_intercept=False, C=1e5, solver='liblinear')\n",
    "\n",
    "t0 = time.time()\n",
    "\n",
    "# Fit the model\n",
    "logreg.fit(X_train, y_train)\n",
    "t1=time.time()\n",
    "total = t1-t0\n",
    "print(total,'s\\n')\n",
    "\n",
    "# Prediction\n",
    "lr_train_preds = logreg.predict(X_train)\n",
    "lr_test_preds = logreg.predict(X_test)\n",
    "\n",
    "print_metrics(lr_train_preds, y_train, lr_test_preds, y_test)"
   ]
  },
  {
   "cell_type": "markdown",
   "metadata": {},
   "source": [
    "... speedy McGee"
   ]
  },
  {
   "cell_type": "markdown",
   "metadata": {},
   "source": [
    "Below is a Logistic Regression model that sacrifices Accuracy for High-Precision (with a smaller lambda):"
   ]
  },
  {
   "cell_type": "code",
   "execution_count": 114,
   "metadata": {},
   "outputs": [
    {
     "name": "stdout",
     "output_type": "stream",
     "text": [
      "0.1264958381652832 s\n",
      "\n",
      "Training Model:\n",
      "----------------\n",
      " Precision Score (Train): 99.29%\n",
      " Recall Score (Train): 68.95%\n",
      " Accuracy Score (Train): 88.23%\n",
      " F1 Score (Train): 81.39%\n",
      " mAP (Train) Score: 80.05%\n",
      "\n",
      "Test Model:\n",
      "----------------\n",
      " Precision Score (Test): 95.24%\n",
      " Recall Score (Test): 27.4%\n",
      " Accuracy Score (Test): 73.66%\n",
      " F1 Score (Test): 42.55%\n",
      " mAP (Test) Score: 51.95%\n"
     ]
    }
   ],
   "source": [
    "# Instantiating logistic regression classifier model\n",
    "logreg = LogisticRegression(fit_intercept=True, C=1, solver='liblinear')\n",
    "\n",
    "t0 = time.time()\n",
    "\n",
    "# Fit the model\n",
    "logreg.fit(X_train, y_train)\n",
    "t1=time.time()\n",
    "total = t1-t0\n",
    "print(total,'s\\n')\n",
    "\n",
    "# Prediction\n",
    "lr_train_preds = logreg.predict(X_train)\n",
    "lr_test_preds = logreg.predict(X_test)\n",
    "\n",
    "print_metrics(lr_train_preds, y_train, lr_test_preds, y_test)"
   ]
  },
  {
   "cell_type": "markdown",
   "metadata": {},
   "source": [
    "Here is an attempt at a different solver... not as strong and long run time..."
   ]
  },
  {
   "cell_type": "code",
   "execution_count": 95,
   "metadata": {
    "scrolled": true
   },
   "outputs": [
    {
     "name": "stdout",
     "output_type": "stream",
     "text": [
      "210.9694221019745 s\n",
      "\n",
      "Training Model:\n",
      "----------------\n",
      " Precision Score (Train): 99.84%\n",
      " Recall Score (Train): 99.02%\n",
      " Accuracy Score (Train): 99.57%\n",
      " F1 Score (Train): 99.43%\n",
      " mAP (Train) Score: 99.22%\n",
      "\n",
      "Test Model:\n",
      "----------------\n",
      " Precision Score (Test): 82.29%\n",
      " Recall Score (Test): 54.11%\n",
      " Accuracy Score (Test): 79.51%\n",
      " F1 Score (Test): 65.29%\n",
      " mAP (Test) Score: 60.87%\n"
     ]
    },
    {
     "name": "stderr",
     "output_type": "stream",
     "text": [
      "/opt/anaconda3/lib/python3.8/site-packages/sklearn/linear_model/_sag.py:329: ConvergenceWarning: The max_iter was reached which means the coef_ did not converge\n",
      "  warnings.warn(\"The max_iter was reached which means \"\n"
     ]
    }
   ],
   "source": [
    "# Instantiating logistic regression classifier model\n",
    "logreg = LogisticRegression(fit_intercept=True, C=1e5, solver='saga', penalty='elasticnet', l1_ratio=0.5)\n",
    "\n",
    "t0 = time.time()\n",
    "\n",
    "# Fit the model\n",
    "logreg.fit(X_train, y_train)\n",
    "t1=time.time()\n",
    "total = t1-t0\n",
    "print(total,'s\\n')\n",
    "\n",
    "# Prediction\n",
    "lr_train_preds = logreg.predict(X_train)\n",
    "lr_test_preds = logreg.predict(X_test)\n",
    "\n",
    "print_metrics(lr_train_preds, y_train, lr_test_preds, y_test)"
   ]
  },
  {
   "cell_type": "markdown",
   "metadata": {},
   "source": [
    "Below is the best Logistic Regression model based on overall Accuracy and F-1 Score:"
   ]
  },
  {
   "cell_type": "code",
   "execution_count": 116,
   "metadata": {},
   "outputs": [
    {
     "name": "stdout",
     "output_type": "stream",
     "text": [
      "0.5105080604553223 s\n",
      "\n",
      "Training Model:\n",
      "----------------\n",
      " Precision Score (Train): 99.67%\n",
      " Recall Score (Train): 99.18%\n",
      " Accuracy Score (Train): 99.57%\n",
      " F1 Score (Train): 99.43%\n",
      " mAP (Train) Score: 99.16%\n",
      "\n",
      "Test Model:\n",
      "----------------\n",
      " Precision Score (Test): 81.82%\n",
      " Recall Score (Test): 61.64%\n",
      " Accuracy Score (Test): 81.46%\n",
      " F1 Score (Test): 70.31%\n",
      " mAP (Test) Score: 64.09%\n"
     ]
    }
   ],
   "source": [
    "# Instantiating logistic regression classifier model\n",
    "# Adjusting intercept fit to True, based on gridsearch\n",
    "logreg = LogisticRegression(fit_intercept=True, C=1e5, solver='liblinear')\n",
    "\n",
    "t0 = time.time()\n",
    "\n",
    "# Fit the model\n",
    "logreg.fit(X_train, y_train)\n",
    "t1=time.time()\n",
    "total = t1-t0\n",
    "print(total,'s\\n')\n",
    "\n",
    "# Prediction\n",
    "lr_train_preds = logreg.predict(X_train)\n",
    "lr_test_preds = logreg.predict(X_test)\n",
    "\n",
    "print_metrics(lr_train_preds, y_train, lr_test_preds, y_test)"
   ]
  },
  {
   "cell_type": "code",
   "execution_count": 117,
   "metadata": {},
   "outputs": [
    {
     "data": {
      "image/png": "[encoded data removed]",
      "text/plain": [
       "<Figure size 648x648 with 2 Axes>"
      ]
     },
     "metadata": {},
     "output_type": "display_data"
    }
   ],
   "source": [
    "cm = confusion_matrix(lr_test_preds, y_test)\n",
    "plt.figure(figsize=(9,9))\n",
    "sns.heatmap(cm, annot=True, fmt=\".3f\", linewidths=.5, square = True, cmap = 'Blues_r');\n",
    "plt.ylabel('Actual label');\n",
    "plt.xlabel('Predicted label');\n",
    "all_sample_title = 'Accuracy Score: {0}'.format(round(accuracy_score(y_test, lr_test_preds), 4))\n",
    "plt.title(all_sample_title, size = 15);"
   ]
  },
  {
   "cell_type": "code",
   "execution_count": null,
   "metadata": {},
   "outputs": [],
   "source": [
    "fit_intercept=True, C=1e5, solver='liblinear'"
   ]
  },
  {
   "cell_type": "code",
   "execution_count": 124,
   "metadata": {},
   "outputs": [],
   "source": [
    "# Parameters for optimization\n",
    "lr_params = {\n",
    "    'fit_intercept': [True],\n",
    "    'C': [1e5],\n",
    "    'solver': ['liblinear'],\n",
    "}"
   ]
  },
  {
   "cell_type": "code",
   "execution_count": 125,
   "metadata": {},
   "outputs": [
    {
     "name": "stdout",
     "output_type": "stream",
     "text": [
      "Training Accuracy: 73.48%\n",
      "\n",
      "Optimal Parameters: {'C': 100000.0, 'fit_intercept': True, 'solver': 'liblinear'}\n",
      "\n",
      " 1.1614000797271729 s\n",
      "\n",
      "Logistic Regression Grid Search: 81.46%\n"
     ]
    }
   ],
   "source": [
    "t0 = time.time()\n",
    "\n",
    "gs_lr = GridSearchCV(logreg, lr_params, cv=3)\n",
    "\n",
    "gs_lr.fit(X_train, y_train)\n",
    "\n",
    "print(f\"Training Accuracy: {gs_lr.best_score_ :.2%}\")\n",
    "print(\"\")\n",
    "print(f\"Optimal Parameters: {gs_lr.best_params_}\")\n",
    "\n",
    "t1 = time.time()\n",
    "total = t1-t0\n",
    "print('\\n',total,'s\\n')\n",
    "\n",
    "lr_score = (gs_lr.score(X_test, y_test)*100)\n",
    "\n",
    "print('Logistic Regression Grid Search: {}%'.format((round(lr_score, 2))))"
   ]
  },
  {
   "cell_type": "markdown",
   "metadata": {},
   "source": [
    "LogReg actually had the highest out-of-box score and fastest run time. At first I was disappointed since it's not a \"sexy\" algorithm... but then I realized, this is great for practical purposes! Adjusting the C-parameter to reduce regularization penalty improved accuracy (worsened precision, improved recall). Liblnear has the highest score and fastest run time.\n",
    "\n",
    "We'll see how things change as I tune parameters and after running SMOTE/PCA/more NLP.\n"
   ]
  },
  {
   "cell_type": "markdown",
   "metadata": {},
   "source": [
    "### Gaussian Naive Bayes"
   ]
  },
  {
   "cell_type": "code",
   "execution_count": 118,
   "metadata": {},
   "outputs": [
    {
     "name": "stdout",
     "output_type": "stream",
     "text": [
      "175.41547894477844 s\n",
      "\n",
      "Training Model:\n",
      "----------------\n",
      " Precision Score (Train): 97.45%\n",
      " Recall Score (Train): 100.0%\n",
      " Accuracy Score (Train): 99.02%\n",
      " F1 Score (Train): 98.71%\n",
      " mAP (Train) Score: 97.45%\n",
      "\n",
      "Test Model:\n",
      "----------------\n",
      " Precision Score (Test): 72.22%\n",
      " Recall Score (Test): 53.42%\n",
      " Accuracy Score (Test): 76.1%\n",
      " F1 Score (Test): 61.42%\n",
      " mAP (Test) Score: 55.17%\n"
     ]
    }
   ],
   "source": [
    "# Instantiating Naive Bayes classifier\n",
    "nb_classifier = GaussianNB()\n",
    "\n",
    "t0 = time.time()\n",
    "\n",
    "# Fit NB classifier\n",
    "nb_classifier.fit(X_train_dense, y_train)\n",
    "t1 = time.time()\n",
    "total = t1-t0\n",
    "print(total,'s\\n')\n",
    "\n",
    "# Fortune telling...\n",
    "nb_train_preds = nb_classifier.predict(X_train_dense)\n",
    "nb_test_preds = nb_classifier.predict(X_test_dense)\n",
    "\n",
    "print_metrics(nb_train_preds, y_train, nb_test_preds, y_test)"
   ]
  },
  {
   "cell_type": "markdown",
   "metadata": {},
   "source": [
    "Base models are performing well on the training sets but overfitting as seen by the lower testing accuracy. \n",
    "\n",
    "There are severe democratic implications when considering we may validate disinformation as truth OR silence truth by labeling it as disinformation. Therefore, precision vs. recall is not an easy decision. In the context of our problem - classifying in conjunction with a recommendation system - precision (along with accuracy) is likely the better metric. It would be dangerous to validate fake information as real. \n",
    "\n",
    "Note: Decision Tree/Log Reg is performing better than Naive Bayes out-of-the-box with a significantly less run time (and memory footprint) since it can take in sparse arrays. This is important when we have 342,000+ columns."
   ]
  },
  {
   "cell_type": "markdown",
   "metadata": {},
   "source": [
    "### Random Forest"
   ]
  },
  {
   "cell_type": "code",
   "execution_count": 119,
   "metadata": {},
   "outputs": [
    {
     "name": "stdout",
     "output_type": "stream",
     "text": [
      "16.69704508781433 s\n",
      "Training Model:\n",
      "----------------\n",
      " Precision Score (Train): 99.67%\n",
      " Recall Score (Train): 99.18%\n",
      " Accuracy Score (Train): 99.57%\n",
      " F1 Score (Train): 99.43%\n",
      " mAP (Train) Score: 99.16%\n",
      "\n",
      "Test Model:\n",
      "----------------\n",
      " Precision Score (Test): 91.67%\n",
      " Recall Score (Test): 45.21%\n",
      " Accuracy Score (Test): 79.02%\n",
      " F1 Score (Test): 60.55%\n",
      " mAP (Test) Score: 60.95%\n"
     ]
    }
   ],
   "source": [
    "# Onto the ensembles... instantiate random forest\n",
    "rf_classifier = RandomForestClassifier(n_estimators=100)\n",
    "\n",
    "t0 = time.time()\n",
    "# Fit Random Forest\n",
    "rf_classifier.fit(X_train, y_train)\n",
    "t1 = time.time()\n",
    "\n",
    "total = t1-t0\n",
    "print(total,'s')\n",
    "\n",
    "\n",
    "# Prediction time\n",
    "rf_train_preds = rf_classifier.predict(X_train)\n",
    "rf_test_preds = rf_classifier.predict(X_test)\n",
    "\n",
    "print_metrics(rf_train_preds, y_train, rf_test_preds, y_test)"
   ]
  },
  {
   "cell_type": "markdown",
   "metadata": {},
   "source": [
    "Random Forest has the highest precision on the test set - may be the go to if we want to have the lowest number of false positives (labeled real when it is not real)."
   ]
  },
  {
   "cell_type": "markdown",
   "metadata": {},
   "source": [
    "#### GridSearch - RF"
   ]
  },
  {
   "cell_type": "code",
   "execution_count": 120,
   "metadata": {},
   "outputs": [],
   "source": [
    "# Parameters for optimization\n",
    "rf_params = {\n",
    "    'n_estimators': [100, 200, 300],\n",
    "    'criterion': ['gini', 'entropy'],\n",
    "    'max_depth': [None, 2, 6, 10],\n",
    "    'min_samples_split': [5, 10],\n",
    "    'min_samples_leaf': [3, 6]\n",
    "}"
   ]
  },
  {
   "cell_type": "code",
   "execution_count": 123,
   "metadata": {},
   "outputs": [
    {
     "name": "stdout",
     "output_type": "stream",
     "text": [
      "Training Accuracy: 73.41%\n",
      "\n",
      "Optimal Parameters: {'criterion': 'entropy', 'max_depth': None, 'min_samples_leaf': 3, 'min_samples_split': 5, 'n_estimators': 200}\n",
      "\n",
      " 442.16133999824524 s\n",
      "\n",
      "Random forest grid search: 77.56%\n"
     ]
    }
   ],
   "source": [
    "\n",
    "t0 = time.time()\n",
    "\n",
    "gs_rf = GridSearchCV(rf_classifier, rf_params, cv=3)\n",
    "\n",
    "gs_rf.fit(X_train, y_train)\n",
    "\n",
    "print(f\"Training Accuracy: {gs_rf.best_score_ :.2%}\")\n",
    "print(\"\")\n",
    "print(f\"Optimal Parameters: {gs_rf.best_params_}\")\n",
    "\n",
    "t1 = time.time()\n",
    "total = t1-t0\n",
    "print('\\n',total,'s\\n')\n",
    "\n",
    "rf_score = (gs_rf.score(X_test, y_test)*100)\n",
    "\n",
    "print('Random forest grid search: {}%'.format((round(rf_score, 2))))"
   ]
  },
  {
   "cell_type": "code",
   "execution_count": 111,
   "metadata": {},
   "outputs": [
    {
     "name": "stdout",
     "output_type": "stream",
     "text": [
      "5.234730005264282 s\n",
      "Training Model:\n",
      "----------------\n",
      " Precision Score (Train): 99.21%\n",
      " Recall Score (Train): 82.35%\n",
      " Accuracy Score (Train): 93.17%\n",
      " F1 Score (Train): 90.0%\n",
      " mAP (Train) Score: 88.29%\n",
      "\n",
      "Test Model:\n",
      "----------------\n",
      " Precision Score (Test): 96.36%\n",
      " Recall Score (Test): 36.3%\n",
      " Accuracy Score (Test): 76.83%\n",
      " F1 Score (Test): 52.74%\n",
      " mAP (Test) Score: 57.66%\n"
     ]
    }
   ],
   "source": [
    "# Optimized RF classifier\n",
    "rf_classifier = RandomForestClassifier(criterion='entropy', max_depth=None, min_samples_leaf=3, \n",
    "                                       min_samples_split=10, n_estimators=200)\n",
    "\n",
    "t0 = time.time()\n",
    "# Fit Random Forest\n",
    "rf_classifier.fit(X_train, y_train)\n",
    "t1 = time.time()\n",
    "\n",
    "total = t1-t0\n",
    "print(total,'s')\n",
    "\n",
    "\n",
    "# Prediction time\n",
    "rf_train_preds = rf_classifier.predict(X_train)\n",
    "rf_test_preds = rf_classifier.predict(X_test)\n",
    "\n",
    "print_metrics(rf_train_preds, y_train, rf_test_preds, y_test)"
   ]
  },
  {
   "cell_type": "markdown",
   "metadata": {},
   "source": [
    "Optimized parameters performed worse..."
   ]
  },
  {
   "cell_type": "markdown",
   "metadata": {},
   "source": [
    "Random Forest ran well enough but falls short of SVM."
   ]
  },
  {
   "cell_type": "markdown",
   "metadata": {},
   "source": [
    "### Gradient Boost"
   ]
  },
  {
   "cell_type": "markdown",
   "metadata": {},
   "source": [
    "#### ... need more powaaaa"
   ]
  },
  {
   "cell_type": "code",
   "execution_count": 72,
   "metadata": {},
   "outputs": [],
   "source": [
    "from sklearn.ensemble import GradientBoostingClassifier"
   ]
  },
  {
   "cell_type": "code",
   "execution_count": 73,
   "metadata": {},
   "outputs": [
    {
     "name": "stdout",
     "output_type": "stream",
     "text": [
      "\n",
      " 50.31204700469971 s\n",
      "\n",
      "Training Model:\n",
      "----------------\n",
      " Precision Score (Train): 98.87%\n",
      " Recall Score (Train): 71.24%\n",
      " Accuracy Score (Train): 88.96%\n",
      " F1 Score (Train): 82.81%\n",
      " mAP (Train) Score: 81.17%\n",
      "\n",
      "Test Model:\n",
      "----------------\n",
      " Precision Score (Test): 78.57%\n",
      " Recall Score (Test): 52.74%\n",
      " Accuracy Score (Test): 78.05%\n",
      " F1 Score (Test): 63.11%\n",
      " mAP (Test) Score: 58.27%\n"
     ]
    }
   ],
   "source": [
    "# Instantiate an GradientBoostingClassifier\n",
    "gbt_clf = GradientBoostingClassifier(random_state=23)\n",
    "\n",
    "t0 = time.time()\n",
    "\n",
    "# Fit GradientBoostingClassifier\n",
    "gbt_clf.fit(X_train, y_train)\n",
    "\n",
    "t1 = time.time()\n",
    "total = t1-t0\n",
    "print('\\n',total,'s\\n')\n",
    "\n",
    "# GradientBoosting model predictions\n",
    "gbt_train_preds = gbt_clf.predict(X_train)\n",
    "gbt_test_preds = gbt_clf.predict(X_test)\n",
    "\n",
    "# Scores\n",
    "print_metrics(gbt_train_preds, y_train, gbt_test_preds, y_test)"
   ]
  },
  {
   "cell_type": "markdown",
   "metadata": {},
   "source": [
    "#### GridSearch - Gradient Boost"
   ]
  },
  {
   "cell_type": "code",
   "execution_count": 74,
   "metadata": {},
   "outputs": [],
   "source": [
    "# Parameters for optimization\n",
    "gb_params = {\n",
    "    \"learning_rate\": [0.01, 0.1, 0.2],\n",
    "    \"max_depth\":[3,5,8],\n",
    "    \"criterion\": [\"friedman_mse\"],\n",
    "    \"subsample\":[0.5, 0.8, 0.9, 1.0],\n",
    "    \"n_estimators\":[50, 100, 200]\n",
    "    }"
   ]
  },
  {
   "cell_type": "code",
   "execution_count": 76,
   "metadata": {},
   "outputs": [
    {
     "name": "stdout",
     "output_type": "stream",
     "text": [
      "Training Accuracy: 78.35%\n",
      "\n",
      "Optimal Parameters: {'criterion': 'friedman_mse', 'learning_rate': 0.1, 'max_depth': 8, 'n_estimators': 100, 'subsample': 0.9}\n",
      "\n",
      " 21521.1594748497 s\n",
      "\n",
      "Gradient Boosting grid search: 78.29%\n"
     ]
    }
   ],
   "source": [
    "t0 = time.time()\n",
    "\n",
    "gs_gb = GridSearchCV(gbt_clf, gb_params, n_jobs=-1)\n",
    "\n",
    "gs_gb.fit(X_train, y_train)\n",
    "\n",
    "print(f\"Training Accuracy: {gs_gb.best_score_ :.2%}\")\n",
    "print(\"\")\n",
    "print(f\"Optimal Parameters: {gs_gb.best_params_}\")\n",
    "\n",
    "t1 = time.time()\n",
    "total = t1-t0\n",
    "print('\\n',total,'s\\n')\n",
    "\n",
    "gb_score = (gs_gb.score(X_test, y_test)*100)\n",
    "\n",
    "print('Gradient Boosting grid search: {}%'.format((round(rf_score, 2))))"
   ]
  },
  {
   "cell_type": "markdown",
   "metadata": {},
   "source": [
    "Found slightly better parameters for Gradient Boosting but considering computation costs and worse performance than SVM, will rule out Gradient Boosting.\n",
    "\n",
    "P.S. The previous gradient search I ran was going for 40 hours before I stopped it..."
   ]
  },
  {
   "cell_type": "markdown",
   "metadata": {},
   "source": [
    "## XGBoost"
   ]
  },
  {
   "cell_type": "code",
   "execution_count": 102,
   "metadata": {},
   "outputs": [
    {
     "name": "stdout",
     "output_type": "stream",
     "text": [
      "[22:34:39] WARNING: /Users/travis/build/dmlc/xgboost/src/learner.cc:1061: Starting in XGBoost 1.3.0, the default evaluation metric used with the objective 'binary:logistic' was changed from 'error' to 'logloss'. Explicitly set eval_metric if you'd like to restore the old behavior.\n",
      "\n",
      " 15.27504277229309 s\n",
      "\n",
      "Training Model:\n",
      "----------------\n",
      " Precision Score (Train): 99.33%\n",
      " Recall Score (Train): 96.73%\n",
      " Accuracy Score (Train): 98.54%\n",
      " F1 Score (Train): 98.01%\n",
      " mAP (Train) Score: 97.3%\n",
      "\n",
      "Test Model:\n",
      "----------------\n",
      " Precision Score (Test): 79.46%\n",
      " Recall Score (Test): 60.96%\n",
      " Accuracy Score (Test): 80.49%\n",
      " F1 Score (Test): 68.99%\n",
      " mAP (Test) Score: 62.34%\n"
     ]
    }
   ],
   "source": [
    "# Instantiate XGBClassifier\n",
    "xgb_clf = XGBClassifier()\n",
    "\n",
    "t0 = time.time()\n",
    "# Fit XGBClassifier\n",
    "xgb_clf.fit(X_train, y_train)\n",
    "\n",
    "t1 = time.time()\n",
    "total = t1-t0\n",
    "print('\\n',total,'s\\n')\n",
    "\n",
    "# Predict on training and test sets\n",
    "xgb_train_preds = xgb_clf.predict(X_train)\n",
    "xgb_test_preds = xgb_clf.predict(X_test)\n",
    "\n",
    "print_metrics(xgb_train_preds, y_train, xgb_test_preds, y_test)"
   ]
  },
  {
   "cell_type": "markdown",
   "metadata": {},
   "source": [
    "Tried tuning XGBoost, but it's clearly smarter than me and best out-of-the box."
   ]
  },
  {
   "cell_type": "markdown",
   "metadata": {},
   "source": [
    "## SVM"
   ]
  },
  {
   "cell_type": "code",
   "execution_count": 102,
   "metadata": {},
   "outputs": [
    {
     "name": "stdout",
     "output_type": "stream",
     "text": [
      "\n",
      " 5.858343124389648 s\n",
      "\n",
      "Training Model:\n",
      "----------------\n",
      " Precision Score (Train): 99.83%\n",
      " Recall Score (Train): 98.86%\n",
      " Accuracy Score (Train): 99.51%\n",
      " F1 Score (Train): 99.34%\n",
      " mAP (Train) Score: 99.12%\n",
      "\n",
      "Test Model:\n",
      "----------------\n",
      " Precision Score (Test): 77.97%\n",
      " Recall Score (Test): 63.01%\n",
      " Accuracy Score (Test): 80.49%\n",
      " F1 Score (Test): 69.7%\n",
      " mAP (Test) Score: 62.3%\n"
     ]
    }
   ],
   "source": [
    "# Instantiate SVM \n",
    "svm_clf = SVC(kernel='linear', C=100) \n",
    "\n",
    "t0 = time.time()\n",
    "\n",
    "# Fit SVM classifier\n",
    "svm_clf.fit(X_train, y_train)\n",
    "\n",
    "t1 = time.time()\n",
    "total = t1-t0\n",
    "print('\\n',total,'s\\n')\n",
    "\n",
    "# Predictions\n",
    "svm_train_preds = svm_clf.predict(X_train)\n",
    "svm_test_preds = svm_clf.predict(X_test)\n",
    "\n",
    "print_metrics(svm_train_preds, y_train, svm_test_preds, y_test)"
   ]
  },
  {
   "cell_type": "code",
   "execution_count": 103,
   "metadata": {},
   "outputs": [
    {
     "name": "stdout",
     "output_type": "stream",
     "text": [
      "\n",
      " 5.152868747711182 s\n",
      "\n",
      "Training Model:\n",
      "----------------\n",
      " Precision Score (Train): 99.51%\n",
      " Recall Score (Train): 99.02%\n",
      " Accuracy Score (Train): 99.45%\n",
      " F1 Score (Train): 99.26%\n",
      " mAP (Train) Score: 98.9%\n",
      "\n",
      "Test Model:\n",
      "----------------\n",
      " Precision Score (Test): 73.68%\n",
      " Recall Score (Test): 67.12%\n",
      " Accuracy Score (Test): 79.76%\n",
      " F1 Score (Test): 70.25%\n",
      " mAP (Test) Score: 61.17%\n"
     ]
    }
   ],
   "source": [
    "# Instantiate SVM \n",
    "svm_clf = SVC(kernel='sigmoid', C=500) \n",
    "\n",
    "t0 = time.time()\n",
    "\n",
    "# Fit SVM classifier\n",
    "svm_clf.fit(X_train, y_train)\n",
    "\n",
    "t1 = time.time()\n",
    "total = t1-t0\n",
    "print('\\n',total,'s\\n')\n",
    "\n",
    "# Predictions\n",
    "svm_train_preds = svm_clf.predict(X_train)\n",
    "svm_test_preds = svm_clf.predict(X_test)\n",
    "\n",
    "print_metrics(svm_train_preds, y_train, svm_test_preds, y_test)"
   ]
  },
  {
   "cell_type": "code",
   "execution_count": 105,
   "metadata": {},
   "outputs": [
    {
     "name": "stdout",
     "output_type": "stream",
     "text": [
      "\n",
      " 5.338248014450073 s\n",
      "\n",
      "Training Model:\n",
      "----------------\n",
      " Precision Score (Train): 99.51%\n",
      " Recall Score (Train): 98.86%\n",
      " Accuracy Score (Train): 99.39%\n",
      " F1 Score (Train): 99.18%\n",
      " mAP (Train) Score: 98.8%\n",
      "\n",
      "Test Model:\n",
      "----------------\n",
      " Precision Score (Test): 77.87%\n",
      " Recall Score (Test): 65.07%\n",
      " Accuracy Score (Test): 80.98%\n",
      " F1 Score (Test): 70.9%\n",
      " mAP (Test) Score: 63.11%\n"
     ]
    }
   ],
   "source": [
    "# Instantiate SVM \n",
    "svm_clf = SVC(kernel='sigmoid', C=100) \n",
    "\n",
    "t0 = time.time()\n",
    "\n",
    "# Fit SVM classifier\n",
    "svm_clf.fit(X_train, y_train)\n",
    "\n",
    "t1 = time.time()\n",
    "total = t1-t0\n",
    "print('\\n',total,'s\\n')\n",
    "\n",
    "# Predictions\n",
    "svm_train_preds = svm_clf.predict(X_train)\n",
    "svm_test_preds = svm_clf.predict(X_test)\n",
    "\n",
    "print_metrics(svm_train_preds, y_train, svm_test_preds, y_test)"
   ]
  },
  {
   "cell_type": "code",
   "execution_count": 113,
   "metadata": {},
   "outputs": [
    {
     "name": "stdout",
     "output_type": "stream",
     "text": [
      "\n",
      " 5.327059030532837 s\n",
      "\n",
      "Training Model:\n",
      "----------------\n",
      " Precision Score (Train): 98.08%\n",
      " Recall Score (Train): 100.0%\n",
      " Accuracy Score (Train): 99.27%\n",
      " F1 Score (Train): 99.03%\n",
      " mAP (Train) Score: 98.08%\n",
      "\n",
      "Test Model:\n",
      "----------------\n",
      " Precision Score (Test): 80.67%\n",
      " Recall Score (Test): 65.75%\n",
      " Accuracy Score (Test): 82.2%\n",
      " F1 Score (Test): 72.45%\n",
      " mAP (Test) Score: 65.24%\n"
     ]
    }
   ],
   "source": [
    "# Instantiate SVM \n",
    "svm_clf = SVC(kernel='sigmoid', C=50, gamma='scale', class_weight='balanced')\n",
    "\n",
    "t0 = time.time()\n",
    "\n",
    "# Fit SVM classifier\n",
    "svm_clf.fit(X_train, y_train)\n",
    "\n",
    "t1 = time.time()\n",
    "total = t1-t0\n",
    "print('\\n',total,'s\\n')\n",
    "\n",
    "# Predictions\n",
    "svm_train_preds = svm_clf.predict(X_train)\n",
    "svm_test_preds = svm_clf.predict(X_test)\n",
    "\n",
    "print_metrics(svm_train_preds, y_train, svm_test_preds, y_test)"
   ]
  },
  {
   "cell_type": "code",
   "execution_count": 224,
   "metadata": {},
   "outputs": [
    {
     "data": {
      "image/png": "[encoded data removed]",
      "text/plain": [
       "<Figure size 648x648 with 2 Axes>"
      ]
     },
     "metadata": {},
     "output_type": "display_data"
    }
   ],
   "source": [
    "cm = confusion_matrix(svm_test_preds, y_test)\n",
    "plt.figure(figsize=(9,9))\n",
    "sns.heatmap(cm, annot=True, fmt=\".3f\", linewidths=.5, square = True, cmap = 'Blues_r');\n",
    "plt.ylabel('Actual label');\n",
    "plt.xlabel('Predicted label');\n",
    "all_sample_title = 'Accuracy Score: {0}'.format(round(accuracy_score(y_test, svm_test_preds), 4))\n",
    "plt.title(all_sample_title, size = 15);"
   ]
  },
  {
   "cell_type": "markdown",
   "metadata": {},
   "source": [
    "After tuning, specifically with sigmoid-kernel, SVM is performing the best of any model at a relatively fast speed."
   ]
  },
  {
   "cell_type": "markdown",
   "metadata": {},
   "source": [
    "# Re-NLP | PCA | SMOTE"
   ]
  },
  {
   "cell_type": "code",
   "execution_count": 103,
   "metadata": {},
   "outputs": [],
   "source": [
    "def get_top_n_words(corpus, n=None):\n",
    "    vec = CountVectorizer().fit(corpus)\n",
    "    bag_of_words = vec.transform(corpus)\n",
    "    sum_words = bag_of_words.sum(axis=0) \n",
    "    words_freq = [(word, sum_words[0, idx]) for word, idx in     vec.vocabulary_.items()]\n",
    "    words_freq =sorted(words_freq, key = lambda x: x[1], reverse=True)\n",
    "    return words_freq[:n]\n",
    "\n",
    "def get_top_n_bigram(corpus, n=None):\n",
    "    vec = CountVectorizer(ngram_range=(2, 2)).fit(corpus)\n",
    "    bag_of_words = vec.transform(corpus)\n",
    "    sum_words = bag_of_words.sum(axis=0) \n",
    "    words_freq = [(word, sum_words[0, idx]) for word, idx in vec.vocabulary_.items()]\n",
    "    words_freq =sorted(words_freq, key = lambda x: x[1], reverse=True)\n",
    "    return words_freq[:n]\n",
    "\n",
    "\n",
    "def get_top_n_trigram(corpus, n=None):\n",
    "    vec = CountVectorizer(ngram_range=(3, 3)).fit(corpus)\n",
    "    bag_of_words = vec.transform(corpus)\n",
    "    sum_words = bag_of_words.sum(axis=0) \n",
    "    words_freq = [(word, sum_words[0, idx]) for word, idx in vec.vocabulary_.items()]\n",
    "    words_freq =sorted(words_freq, key = lambda x: x[1], reverse=True)\n",
    "    return words_freq[:n]"
   ]
  },
  {
   "cell_type": "code",
   "execution_count": 104,
   "metadata": {},
   "outputs": [
    {
     "data": {
      "text/plain": [
       "[('of the', 6062),\n",
       " ('in the', 4610),\n",
       " ('to the', 2807),\n",
       " ('on the', 1838),\n",
       " ('and the', 1800)]"
      ]
     },
     "execution_count": 104,
     "metadata": {},
     "output_type": "execute_result"
    }
   ],
   "source": [
    "get_top_n_bigram(df.text, 5)"
   ]
  },
  {
   "cell_type": "code",
   "execution_count": 105,
   "metadata": {},
   "outputs": [
    {
     "data": {
      "text/plain": [
       "[('the united states', 460),\n",
       " ('one of the', 366),\n",
       " ('as well as', 243),\n",
       " ('the white house', 232),\n",
       " ('according to the', 208)]"
      ]
     },
     "execution_count": 105,
     "metadata": {},
     "output_type": "execute_result"
    }
   ],
   "source": [
    "get_top_n_trigram(df.text, 5)"
   ]
  },
  {
   "cell_type": "code",
   "execution_count": 106,
   "metadata": {},
   "outputs": [],
   "source": [
    "contraction_mapping = {\"ain't\": \"is not\", \"aren't\": \"are not\",\"can't\": \"cannot\", \n",
    "                   \"can't've\": \"cannot have\", \"'cause\": \"because\", \"could've\": \"could have\", \n",
    "                   \"couldn't\": \"could not\", \"couldn't've\": \"could not have\",\"didn't\": \"did not\", \n",
    "                   \"doesn't\": \"does not\", \"don't\": \"do not\", \"hadn't\": \"had not\", \n",
    "                   \"hadn't've\": \"had not have\", \"hasn't\": \"has not\", \"haven't\": \"have not\", \n",
    "                   \"he'd\": \"he would\", \"he'd've\": \"he would have\", \"he'll\": \"he will\", \n",
    "                   \"he'll've\": \"he will have\", \"he's\": \"he is\", \"how'd\": \"how did\", \n",
    "                   \"how'd'y\": \"how do you\", \"how'll\": \"how will\", \"how's\": \"how is\", \n",
    "                   \"I'd\": \"I would\", \"I'd've\": \"I would have\", \"I'll\": \"I will\", \n",
    "                   \"I'll've\": \"I will have\",\"I'm\": \"I am\", \"I've\": \"I have\", \n",
    "                   \"i'd\": \"i would\", \"i'd've\": \"i would have\", \"i'll\": \"i will\", \n",
    "                   \"i'll've\": \"i will have\",\"i'm\": \"i am\", \"i've\": \"i have\", \n",
    "                   \"isn't\": \"is not\", \"it'd\": \"it would\", \"it'd've\": \"it would have\", \n",
    "                   \"it'll\": \"it will\", \"it'll've\": \"it will have\",\"it's\": \"it is\", \n",
    "                   \"let's\": \"let us\", \"ma'am\": \"madam\", \"mayn't\": \"may not\", \n",
    "                   \"might've\": \"might have\",\"mightn't\": \"might not\",\"mightn't've\": \"might not have\", \n",
    "                   \"must've\": \"must have\", \"mustn't\": \"must not\", \"mustn't've\": \"must not have\", \n",
    "                   \"needn't\": \"need not\", \"needn't've\": \"need not have\",\"o'clock\": \"of the clock\", \n",
    "                   \"oughtn't\": \"ought not\", \"oughtn't've\": \"ought not have\", \"shan't\": \"shall not\",\n",
    "                   \"sha'n't\": \"shall not\", \"shan't've\": \"shall not have\", \"she'd\": \"she would\", \n",
    "                   \"she'd've\": \"she would have\", \"she'll\": \"she will\", \"she'll've\": \"she will have\", \n",
    "                   \"she's\": \"she is\", \"should've\": \"should have\", \"shouldn't\": \"should not\", \n",
    "                   \"shouldn't've\": \"should not have\", \"so've\": \"so have\",\"so's\": \"so as\", \n",
    "                   \"this's\": \"this is\",\n",
    "                   \"that'd\": \"that would\", \"that'd've\": \"that would have\",\"that's\": \"that is\", \n",
    "                   \"there'd\": \"there would\", \"there'd've\": \"there would have\",\"there's\": \"there is\", \n",
    "                       \"here's\": \"here is\",\n",
    "                   \"they'd\": \"they would\", \"they'd've\": \"they would have\", \"they'll\": \"they will\", \n",
    "                   \"they'll've\": \"they will have\", \"they're\": \"they are\", \"they've\": \"they have\", \n",
    "                   \"to've\": \"to have\", \"wasn't\": \"was not\", \"we'd\": \"we would\", \n",
    "                   \"we'd've\": \"we would have\", \"we'll\": \"we will\", \"we'll've\": \"we will have\", \n",
    "                   \"we're\": \"we are\", \"we've\": \"we have\", \"weren't\": \"were not\", \n",
    "                   \"what'll\": \"what will\", \"what'll've\": \"what will have\", \"what're\": \"what are\", \n",
    "                   \"what's\": \"what is\", \"what've\": \"what have\", \"when's\": \"when is\", \n",
    "                   \"when've\": \"when have\", \"where'd\": \"where did\", \"where's\": \"where is\", \n",
    "                   \"where've\": \"where have\", \"who'll\": \"who will\", \"who'll've\": \"who will have\", \n",
    "                   \"who's\": \"who is\", \"who've\": \"who have\", \"why's\": \"why is\", \n",
    "                   \"why've\": \"why have\", \"will've\": \"will have\", \"won't\": \"will not\", \n",
    "                   \"won't've\": \"will not have\", \"would've\": \"would have\", \"wouldn't\": \"would not\", \n",
    "                   \"wouldn't've\": \"would not have\", \"y'all\": \"you all\", \"y'all'd\": \"you all would\",\n",
    "                   \"y'all'd've\": \"you all would have\",\"y'all're\": \"you all are\",\"y'all've\": \"you all have\",\n",
    "                   \"you'd\": \"you would\", \"you'd've\": \"you would have\", \"you'll\": \"you will\", \n",
    "                   \"you'll've\": \"you will have\", \"you're\": \"you are\", \"you've\": \"you have\" } "
   ]
  },
  {
   "cell_type": "code",
   "execution_count": 107,
   "metadata": {},
   "outputs": [],
   "source": [
    "import codecs\n",
    "import unidecode\n",
    "import re\n",
    "import spacy\n",
    "nlp = spacy.load('en')\n",
    "\n",
    "def spacy_cleaner(text):\n",
    "    try:\n",
    "        decoded = unidecode.unidecode(codecs.decode(text, 'unicode_escape'))\n",
    "    except:\n",
    "        decoded = unidecode.unidecode(text)\n",
    "    apostrophe_handled = re.sub(\"’\", \"'\", decoded)\n",
    "    expanded = ' '.join([contraction_mapping[t] if t in contraction_mapping else t for t in apostrophe_handled.split(\" \")])\n",
    "    parsed = nlp(expanded)\n",
    "    final_tokens = []\n",
    "    for t in parsed:\n",
    "        if t.is_punct or t.is_space or t.like_num or t.like_url or str(t).startswith('@'):\n",
    "            pass\n",
    "        else:\n",
    "            if t.lemma_ == '-PRON-':\n",
    "                final_tokens.append(str(t))\n",
    "            else:\n",
    "                sc_removed = re.sub(\"[^a-zA-Z]\", '', str(t.lemma_))\n",
    "                if len(sc_removed) > 1:\n",
    "                    final_tokens.append(sc_removed)\n",
    "    joined = ' '.join(final_tokens)\n",
    "    spell_corrected = re.sub(r'(.)\\1+', r'\\1\\1', joined)\n",
    "    return spell_corrected"
   ]
  },
  {
   "cell_type": "code",
   "execution_count": 68,
   "metadata": {},
   "outputs": [
    {
     "data": {
      "text/plain": [
       "0    print they should pay all the back all the mon...\n",
       "1    why did attorney general loretta lynch plead t...\n",
       "2    red state  \\nfox news sunday reported this mor...\n",
       "3    email kayla mueller was a prisoner and torture...\n",
       "4    email healthcare reform to make america great ...\n",
       "5    print hillary goes absolutely berserk she expl...\n",
       "6    breaking nypd ready to make arrests in weiner ...\n",
       "7    breaking nypd ready to make arrests in weiner ...\n",
       "8    limbaugh said that the revelations in the wiki...\n",
       "9    email \\nthese people are sick and evil they wi...\n",
       "Name: text, dtype: object"
      ]
     },
     "execution_count": 68,
     "metadata": {},
     "output_type": "execute_result"
    }
   ],
   "source": [
    "df.text[:10]"
   ]
  },
  {
   "cell_type": "code",
   "execution_count": 108,
   "metadata": {
    "scrolled": true
   },
   "outputs": [
    {
     "data": {
      "text/plain": [
       "['print they should pay all the back all the money plus interest the entire family and everyone who come in with them need to be deport asap why do it take year to bust them here we go again another group steal from the government and taxpayer group of somalis steal over in government benefit over just month we have report on numerous case like this where the muslim refugeesimmigrant commit fraud by scamme our systemit way out of control more related',\n",
       " 'why do attorney general loretta lynch plead the barracuda brigade print the administration be block congressional probe into cash payment to iran of course she need to plead the th she either can not recall refuse to answer or just plain deflect the question straight up corruption at its fine percentfedupcom talk about cover your ass loretta lynch do just that when she plead the to avoid incriminate herself over payment to irancorrupt to the core attorney general loretta lynch be decline to comply with an investigation by lead member of congress about the obama administration secret effort to send iran in cash early this year prompting accusation that lynch have plead the amendment to avoid incriminate herself over these payment accord to lawmaker and communication exclusively obtain by the washington free beacon sen marco rubio fla and rep mike pompeo kan initially present lynch in october with series of question about how the cash payment to iran be approve and deliver in an oct response assistant attorney general peter kadzik respond on lynch behalf refuse to answer the question and inform the lawmaker that they be bar from publicly disclose any detail about the cash payment which be bind up in ransom deal aim at free several american hostage from iran the response from the attorney generals office be unacceptable and provide evidence that lynch have choose to essentially plead the and refuse to respond to inquiry regard herrole in provide cash to the world foremost state sponsor of terrorism rubio and pompeo write on friday in followup letter to lynch more related']"
      ]
     },
     "execution_count": 108,
     "metadata": {},
     "output_type": "execute_result"
    }
   ],
   "source": [
    "[spacy_cleaner(t) for t in df.text[:2]]"
   ]
  },
  {
   "cell_type": "code",
   "execution_count": 70,
   "metadata": {},
   "outputs": [],
   "source": [
    "df['clean_text'] = [spacy_cleaner(t) for t in df.text]"
   ]
  },
  {
   "cell_type": "code",
   "execution_count": 123,
   "metadata": {},
   "outputs": [],
   "source": [
    "tvec = TfidfVectorizer(stop_words=None, max_features=125000, ngram_range=(1, 3))\n",
    "lr = LogisticRegression(fit_intercept=True, C=1e6, solver='liblinear')\n",
    "\n",
    "from sklearn.model_selection import StratifiedKFold\n",
    "\n",
    "def lr_cv(splits, X, Y, pipeline, average_method):\n",
    "    \n",
    "    kfold = StratifiedKFold(n_splits=splits, shuffle=True, random_state=777)\n",
    "    accuracy = []\n",
    "    precision = []\n",
    "    recall = []\n",
    "    f1 = []\n",
    "    for train, test in kfold.split(X, Y):\n",
    "        lr_fit = pipeline.fit(X[train], Y[train])\n",
    "        prediction = lr_fit.predict(X[test])\n",
    "        scores = lr_fit.score(X[test],Y[test])\n",
    "        \n",
    "        accuracy.append(scores * 100)\n",
    "        precision.append(precision_score(Y[test], prediction, average=average_method)*100)\n",
    "        print('               Fake        Real')\n",
    "        print('precision:',precision_score(Y[test], prediction, average=None))\n",
    "        recall.append(recall_score(Y[test], prediction, average=average_method)*100)\n",
    "        print('recall:   ',recall_score(Y[test], prediction, average=None))\n",
    "        f1.append(f1_score(Y[test], prediction, average=average_method)*100)\n",
    "        print('f1 score: ',f1_score(Y[test], prediction, average=None))\n",
    "        print('-'*50)\n",
    "\n",
    "    print(\"accuracy: %.2f%% (+/- %.2f%%)\" % (np.mean(accuracy), np.std(accuracy)))\n",
    "    print(\"precision: %.2f%% (+/- %.2f%%)\" % (np.mean(precision), np.std(precision)))\n",
    "    print(\"recall: %.2f%% (+/- %.2f%%)\" % (np.mean(recall), np.std(recall)))\n",
    "    print(\"f1 score: %.2f%% (+/- %.2f%%)\" % (np.mean(f1), np.std(f1)))"
   ]
  },
  {
   "cell_type": "code",
   "execution_count": 124,
   "metadata": {},
   "outputs": [
    {
     "name": "stdout",
     "output_type": "stream",
     "text": [
      "               Fake        Real\n",
      "precision: [0.80073801 0.70503597]\n",
      "recall:    [0.84108527 0.64473684]\n",
      "f1 score:  [0.82041588 0.67353952]\n",
      "--------------------------------------------------\n",
      "               Fake        Real\n",
      "precision: [0.78518519 0.67142857]\n",
      "recall:    [0.82170543 0.61842105]\n",
      "f1 score:  [0.8030303  0.64383562]\n",
      "--------------------------------------------------\n",
      "               Fake        Real\n",
      "precision: [0.77319588 0.72268908]\n",
      "recall:    [0.87209302 0.56578947]\n",
      "f1 score:  [0.81967213 0.63468635]\n",
      "--------------------------------------------------\n",
      "               Fake        Real\n",
      "precision: [0.80338983 0.80869565]\n",
      "recall:    [0.91505792 0.61589404]\n",
      "f1 score:  [0.85559567 0.69924812]\n",
      "--------------------------------------------------\n",
      "               Fake        Real\n",
      "precision: [0.80276817 0.7768595 ]\n",
      "recall:    [0.8957529  0.62251656]\n",
      "f1 score:  [0.84671533 0.69117647]\n",
      "--------------------------------------------------\n",
      "accuracy: 77.46% (+/- 2.21%)\n",
      "precision: 76.50% (+/- 2.86%)\n",
      "recall: 74.13% (+/- 1.93%)\n",
      "f1 score: 74.88% (+/- 2.16%)\n"
     ]
    }
   ],
   "source": [
    "from sklearn.pipeline import Pipeline\n",
    "original_pipeline = Pipeline([\n",
    "    ('vectorizer', tvec),\n",
    "    ('classifier', lr)\n",
    "])\n",
    "lr_cv(5, df.clean_text, df.label, original_pipeline, 'macro')"
   ]
  },
  {
   "cell_type": "code",
   "execution_count": 95,
   "metadata": {},
   "outputs": [],
   "source": [
    "from imblearn.pipeline import make_pipeline\n",
    "from imblearn.over_sampling import SMOTE"
   ]
  },
  {
   "cell_type": "code",
   "execution_count": 96,
   "metadata": {},
   "outputs": [],
   "source": [
    "SMOTE_pipeline = make_pipeline(tvec, SMOTE(random_state=777),lr)"
   ]
  },
  {
   "cell_type": "code",
   "execution_count": 97,
   "metadata": {},
   "outputs": [],
   "source": [
    "sent1 = \"I love dogs\"\n",
    "sent2 = \"I don't like dogs\"\n",
    "sent3 = \"I adore cats\"\n",
    "sent4 = \"I hate spiders\"\n",
    "sent5 = \"I like dogs\"\n",
    "testing_text = pd.Series([sent1, sent2, sent3, sent4, sent5])\n",
    "testing_target = pd.Series([1,0,1,0,1])"
   ]
  },
  {
   "cell_type": "code",
   "execution_count": 113,
   "metadata": {},
   "outputs": [],
   "source": [
    "tv = TfidfVectorizer(stop_words=None, max_features=150000)\n",
    "testing_tfidf = tv.fit_transform(testing_text)"
   ]
  },
  {
   "cell_type": "code",
   "execution_count": 99,
   "metadata": {},
   "outputs": [
    {
     "data": {
      "text/html": [
       "<div>\n",
       "<style scoped>\n",
       "    .dataframe tbody tr th:only-of-type {\n",
       "        vertical-align: middle;\n",
       "    }\n",
       "\n",
       "    .dataframe tbody tr th {\n",
       "        vertical-align: top;\n",
       "    }\n",
       "\n",
       "    .dataframe thead th {\n",
       "        text-align: right;\n",
       "    }\n",
       "</style>\n",
       "<table border=\"1\" class=\"dataframe\">\n",
       "  <thead>\n",
       "    <tr style=\"text-align: right;\">\n",
       "      <th></th>\n",
       "      <th>adore</th>\n",
       "      <th>cats</th>\n",
       "      <th>dogs</th>\n",
       "      <th>don</th>\n",
       "      <th>hate</th>\n",
       "      <th>like</th>\n",
       "      <th>love</th>\n",
       "      <th>spiders</th>\n",
       "    </tr>\n",
       "  </thead>\n",
       "  <tbody>\n",
       "    <tr>\n",
       "      <th>0</th>\n",
       "      <td>0.000000</td>\n",
       "      <td>0.000000</td>\n",
       "      <td>0.556451</td>\n",
       "      <td>0.000000</td>\n",
       "      <td>0.000000</td>\n",
       "      <td>0.000000</td>\n",
       "      <td>0.830881</td>\n",
       "      <td>0.000000</td>\n",
       "    </tr>\n",
       "    <tr>\n",
       "      <th>1</th>\n",
       "      <td>0.000000</td>\n",
       "      <td>0.000000</td>\n",
       "      <td>0.462208</td>\n",
       "      <td>0.690159</td>\n",
       "      <td>0.000000</td>\n",
       "      <td>0.556816</td>\n",
       "      <td>0.000000</td>\n",
       "      <td>0.000000</td>\n",
       "    </tr>\n",
       "    <tr>\n",
       "      <th>2</th>\n",
       "      <td>0.707107</td>\n",
       "      <td>0.707107</td>\n",
       "      <td>0.000000</td>\n",
       "      <td>0.000000</td>\n",
       "      <td>0.000000</td>\n",
       "      <td>0.000000</td>\n",
       "      <td>0.000000</td>\n",
       "      <td>0.000000</td>\n",
       "    </tr>\n",
       "    <tr>\n",
       "      <th>3</th>\n",
       "      <td>0.000000</td>\n",
       "      <td>0.000000</td>\n",
       "      <td>0.000000</td>\n",
       "      <td>0.000000</td>\n",
       "      <td>0.707107</td>\n",
       "      <td>0.000000</td>\n",
       "      <td>0.000000</td>\n",
       "      <td>0.707107</td>\n",
       "    </tr>\n",
       "    <tr>\n",
       "      <th>4</th>\n",
       "      <td>0.000000</td>\n",
       "      <td>0.000000</td>\n",
       "      <td>0.638711</td>\n",
       "      <td>0.000000</td>\n",
       "      <td>0.000000</td>\n",
       "      <td>0.769447</td>\n",
       "      <td>0.000000</td>\n",
       "      <td>0.000000</td>\n",
       "    </tr>\n",
       "    <tr>\n",
       "      <th>5</th>\n",
       "      <td>0.000000</td>\n",
       "      <td>0.000000</td>\n",
       "      <td>0.298794</td>\n",
       "      <td>0.446153</td>\n",
       "      <td>0.249998</td>\n",
       "      <td>0.359954</td>\n",
       "      <td>0.000000</td>\n",
       "      <td>0.249998</td>\n",
       "    </tr>\n",
       "  </tbody>\n",
       "</table>\n",
       "</div>"
      ],
      "text/plain": [
       "      adore      cats      dogs       don      hate      like      love  \\\n",
       "0  0.000000  0.000000  0.556451  0.000000  0.000000  0.000000  0.830881   \n",
       "1  0.000000  0.000000  0.462208  0.690159  0.000000  0.556816  0.000000   \n",
       "2  0.707107  0.707107  0.000000  0.000000  0.000000  0.000000  0.000000   \n",
       "3  0.000000  0.000000  0.000000  0.000000  0.707107  0.000000  0.000000   \n",
       "4  0.000000  0.000000  0.638711  0.000000  0.000000  0.769447  0.000000   \n",
       "5  0.000000  0.000000  0.298794  0.446153  0.249998  0.359954  0.000000   \n",
       "\n",
       "    spiders  \n",
       "0  0.000000  \n",
       "1  0.000000  \n",
       "2  0.000000  \n",
       "3  0.707107  \n",
       "4  0.000000  \n",
       "5  0.249998  "
      ]
     },
     "execution_count": 99,
     "metadata": {},
     "output_type": "execute_result"
    }
   ],
   "source": [
    "smt = SMOTE(random_state=777, k_neighbors=1)\n",
    "X_SMOTE, y_SMOTE = smt.fit_sample(testing_tfidf, testing_target)\n",
    "pd.DataFrame(X_SMOTE.todense(), columns=tv.get_feature_names())"
   ]
  },
  {
   "cell_type": "code",
   "execution_count": 121,
   "metadata": {},
   "outputs": [
    {
     "name": "stdout",
     "output_type": "stream",
     "text": [
      "               Fake        Real\n",
      "precision: [0.79562044 0.70588235]\n",
      "recall:    [0.84496124 0.63157895]\n",
      "f1 score:  [0.81954887 0.66666667]\n",
      "--------------------------------------------------\n",
      "               Fake        Real\n",
      "precision: [0.77906977 0.625     ]\n",
      "recall:    [0.77906977 0.625     ]\n",
      "f1 score:  [0.77906977 0.625     ]\n",
      "--------------------------------------------------\n",
      "               Fake        Real\n",
      "precision: [0.76530612 0.71551724]\n",
      "recall:    [0.87209302 0.54605263]\n",
      "f1 score:  [0.81521739 0.61940299]\n",
      "--------------------------------------------------\n",
      "               Fake        Real\n",
      "precision: [0.81228669 0.82051282]\n",
      "recall:    [0.91891892 0.63576159]\n",
      "f1 score:  [0.86231884 0.71641791]\n",
      "--------------------------------------------------\n",
      "               Fake        Real\n",
      "precision: [0.80714286 0.74615385]\n",
      "recall:    [0.87258687 0.64238411]\n",
      "f1 score:  [0.83858998 0.69039146]\n",
      "--------------------------------------------------\n",
      "accuracy: 76.83% (+/- 3.15%)\n",
      "precision: 75.72% (+/- 3.81%)\n",
      "recall: 73.68% (+/- 2.85%)\n",
      "f1 score: 74.33% (+/- 3.15%)\n"
     ]
    }
   ],
   "source": [
    "lr_cv(5, df.clean_text, df.label, SMOTE_pipeline, 'macro')"
   ]
  },
  {
   "cell_type": "code",
   "execution_count": 143,
   "metadata": {
    "scrolled": false
   },
   "outputs": [
    {
     "name": "stdout",
     "output_type": "stream",
     "text": [
      "LogisticRegression(C=1000000.0, solver='liblinear')\n",
      "\n",
      "\n",
      "Validation result for 10000 features\n",
      "null accuracy: 64.39%\n",
      "accuracy score: 77.56%\n",
      "model is 13.17% more accurate than null accuracy\n",
      "train and test time: 1.05s\n",
      "--------------------------------------------------------------------------------\n",
      "Validation result for 20000 features\n",
      "null accuracy: 64.39%\n",
      "accuracy score: 78.29%\n",
      "model is 13.90% more accurate than null accuracy\n",
      "train and test time: 0.93s\n",
      "--------------------------------------------------------------------------------\n",
      "Validation result for 30000 features\n",
      "null accuracy: 64.39%\n",
      "accuracy score: 78.05%\n",
      "model is 13.66% more accurate than null accuracy\n",
      "train and test time: 1.06s\n",
      "--------------------------------------------------------------------------------\n",
      "Validation result for 40000 features\n",
      "null accuracy: 64.39%\n",
      "accuracy score: 78.78%\n",
      "model is 14.39% more accurate than null accuracy\n",
      "train and test time: 1.03s\n",
      "--------------------------------------------------------------------------------\n",
      "Validation result for 50000 features\n",
      "null accuracy: 64.39%\n",
      "accuracy score: 79.27%\n",
      "model is 14.88% more accurate than null accuracy\n",
      "train and test time: 1.05s\n",
      "--------------------------------------------------------------------------------\n",
      "Validation result for 60000 features\n",
      "null accuracy: 64.39%\n",
      "accuracy score: 79.27%\n",
      "model is 14.88% more accurate than null accuracy\n",
      "train and test time: 0.97s\n",
      "--------------------------------------------------------------------------------\n",
      "Validation result for 70000 features\n",
      "null accuracy: 64.39%\n",
      "accuracy score: 79.27%\n",
      "model is 14.88% more accurate than null accuracy\n",
      "train and test time: 0.97s\n",
      "--------------------------------------------------------------------------------\n",
      "Validation result for 80000 features\n",
      "null accuracy: 64.39%\n",
      "accuracy score: 79.27%\n",
      "model is 14.88% more accurate than null accuracy\n",
      "train and test time: 1.00s\n",
      "--------------------------------------------------------------------------------\n",
      "Validation result for 90000 features\n",
      "null accuracy: 64.39%\n",
      "accuracy score: 79.27%\n",
      "model is 14.88% more accurate than null accuracy\n",
      "train and test time: 0.98s\n",
      "--------------------------------------------------------------------------------\n",
      "Validation result for 100000 features\n",
      "null accuracy: 64.39%\n",
      "accuracy score: 79.27%\n",
      "model is 14.88% more accurate than null accuracy\n",
      "train and test time: 0.98s\n",
      "--------------------------------------------------------------------------------\n",
      "Validation result for 110000 features\n",
      "null accuracy: 64.39%\n",
      "accuracy score: 79.27%\n",
      "model is 14.88% more accurate than null accuracy\n",
      "train and test time: 1.11s\n",
      "--------------------------------------------------------------------------------\n",
      "Validation result for 120000 features\n",
      "null accuracy: 64.39%\n",
      "accuracy score: 79.27%\n",
      "model is 14.88% more accurate than null accuracy\n",
      "train and test time: 0.93s\n",
      "--------------------------------------------------------------------------------\n",
      "LogisticRegression(C=1000000.0, solver='liblinear')\n",
      "\n",
      "\n",
      "Validation result for 10000 features\n",
      "null accuracy: 64.39%\n",
      "accuracy score: 79.27%\n",
      "model is 14.88% more accurate than null accuracy\n",
      "train and test time: 3.41s\n",
      "--------------------------------------------------------------------------------\n",
      "Validation result for 20000 features\n",
      "null accuracy: 64.39%\n",
      "accuracy score: 80.73%\n",
      "model is 16.34% more accurate than null accuracy\n",
      "train and test time: 3.57s\n",
      "--------------------------------------------------------------------------------\n",
      "Validation result for 30000 features\n",
      "null accuracy: 64.39%\n",
      "accuracy score: 80.98%\n",
      "model is 16.59% more accurate than null accuracy\n",
      "train and test time: 3.60s\n",
      "--------------------------------------------------------------------------------\n",
      "Validation result for 40000 features\n",
      "null accuracy: 64.39%\n",
      "accuracy score: 80.24%\n",
      "model is 15.85% more accurate than null accuracy\n",
      "train and test time: 3.57s\n",
      "--------------------------------------------------------------------------------\n",
      "Validation result for 50000 features\n",
      "null accuracy: 64.39%\n",
      "accuracy score: 80.73%\n",
      "model is 16.34% more accurate than null accuracy\n",
      "train and test time: 3.62s\n",
      "--------------------------------------------------------------------------------\n",
      "Validation result for 60000 features\n",
      "null accuracy: 64.39%\n",
      "accuracy score: 81.22%\n",
      "model is 16.83% more accurate than null accuracy\n",
      "train and test time: 3.74s\n",
      "--------------------------------------------------------------------------------\n",
      "Validation result for 70000 features\n",
      "null accuracy: 64.39%\n",
      "accuracy score: 80.49%\n",
      "model is 16.10% more accurate than null accuracy\n",
      "train and test time: 3.83s\n",
      "--------------------------------------------------------------------------------\n",
      "Validation result for 80000 features\n",
      "null accuracy: 64.39%\n",
      "accuracy score: 81.22%\n",
      "model is 16.83% more accurate than null accuracy\n",
      "train and test time: 3.87s\n",
      "--------------------------------------------------------------------------------\n",
      "Validation result for 90000 features\n",
      "null accuracy: 64.39%\n",
      "accuracy score: 80.98%\n",
      "model is 16.59% more accurate than null accuracy\n",
      "train and test time: 3.89s\n",
      "--------------------------------------------------------------------------------\n",
      "Validation result for 100000 features\n",
      "null accuracy: 64.39%\n",
      "accuracy score: 81.22%\n",
      "model is 16.83% more accurate than null accuracy\n",
      "train and test time: 3.79s\n",
      "--------------------------------------------------------------------------------\n",
      "Validation result for 110000 features\n",
      "null accuracy: 64.39%\n",
      "accuracy score: 81.22%\n",
      "model is 16.83% more accurate than null accuracy\n",
      "train and test time: 3.91s\n",
      "--------------------------------------------------------------------------------\n",
      "Validation result for 120000 features\n",
      "null accuracy: 64.39%\n",
      "accuracy score: 81.46%\n",
      "model is 17.07% more accurate than null accuracy\n",
      "train and test time: 4.00s\n",
      "--------------------------------------------------------------------------------\n",
      "LogisticRegression(C=1000000.0, solver='liblinear')\n",
      "\n",
      "\n",
      "Validation result for 10000 features\n",
      "null accuracy: 64.39%\n",
      "accuracy score: 79.27%\n",
      "model is 14.88% more accurate than null accuracy\n",
      "train and test time: 7.62s\n",
      "--------------------------------------------------------------------------------\n",
      "Validation result for 20000 features\n",
      "null accuracy: 64.39%\n",
      "accuracy score: 80.00%\n",
      "model is 15.61% more accurate than null accuracy\n",
      "train and test time: 7.68s\n",
      "--------------------------------------------------------------------------------\n",
      "Validation result for 30000 features\n",
      "null accuracy: 64.39%\n",
      "accuracy score: 81.46%\n",
      "model is 17.07% more accurate than null accuracy\n",
      "train and test time: 7.12s\n",
      "--------------------------------------------------------------------------------\n",
      "Validation result for 40000 features\n",
      "null accuracy: 64.39%\n",
      "accuracy score: 81.22%\n",
      "model is 16.83% more accurate than null accuracy\n",
      "train and test time: 7.91s\n",
      "--------------------------------------------------------------------------------\n",
      "Validation result for 50000 features\n",
      "null accuracy: 64.39%\n",
      "accuracy score: 81.22%\n",
      "model is 16.83% more accurate than null accuracy\n",
      "train and test time: 7.93s\n",
      "--------------------------------------------------------------------------------\n",
      "Validation result for 60000 features\n",
      "null accuracy: 64.39%\n",
      "accuracy score: 81.22%\n",
      "model is 16.83% more accurate than null accuracy\n",
      "train and test time: 8.00s\n",
      "--------------------------------------------------------------------------------\n",
      "Validation result for 70000 features\n",
      "null accuracy: 64.39%\n",
      "accuracy score: 81.46%\n",
      "model is 17.07% more accurate than null accuracy\n",
      "train and test time: 8.19s\n",
      "--------------------------------------------------------------------------------\n",
      "Validation result for 80000 features\n",
      "null accuracy: 64.39%\n",
      "accuracy score: 81.22%\n",
      "model is 16.83% more accurate than null accuracy\n",
      "train and test time: 8.79s\n",
      "--------------------------------------------------------------------------------\n",
      "Validation result for 90000 features\n",
      "null accuracy: 64.39%\n",
      "accuracy score: 80.73%\n",
      "model is 16.34% more accurate than null accuracy\n",
      "train and test time: 8.88s\n",
      "--------------------------------------------------------------------------------\n",
      "Validation result for 100000 features\n",
      "null accuracy: 64.39%\n",
      "accuracy score: 81.22%\n",
      "model is 16.83% more accurate than null accuracy\n",
      "train and test time: 9.83s\n",
      "--------------------------------------------------------------------------------\n",
      "Validation result for 110000 features\n"
     ]
    },
    {
     "name": "stdout",
     "output_type": "stream",
     "text": [
      "null accuracy: 64.39%\n",
      "accuracy score: 81.71%\n",
      "model is 17.32% more accurate than null accuracy\n",
      "train and test time: 10.72s\n",
      "--------------------------------------------------------------------------------\n",
      "Validation result for 120000 features\n",
      "null accuracy: 64.39%\n",
      "accuracy score: 81.95%\n",
      "model is 17.56% more accurate than null accuracy\n",
      "train and test time: 9.36s\n",
      "--------------------------------------------------------------------------------\n"
     ]
    },
    {
     "data": {
      "text/plain": [
       "<matplotlib.legend.Legend at 0x7f9ccdf09700>"
      ]
     },
     "execution_count": 143,
     "metadata": {},
     "output_type": "execute_result"
    },
    {
     "data": {
      "image/png": "[encoded data removed]",
      "text/plain": [
       "<Figure size 576x432 with 1 Axes>"
      ]
     },
     "metadata": {},
     "output_type": "display_data"
    }
   ],
   "source": [
    "\n",
    "from sklearn.feature_extraction.text import CountVectorizer\n",
    "from sklearn.linear_model import LogisticRegression\n",
    "from sklearn.pipeline import Pipeline\n",
    "from time import time\n",
    "\n",
    "def accuracy_summary(pipeline, x_train, y_train, x_test, y_test):\n",
    "    if len(x_test[y_test == 0]) / (len(x_test)*1.) > 0.5:\n",
    "        null_accuracy = len(x_test[y_test == 0]) / (len(x_test)*1.)\n",
    "    else:\n",
    "        null_accuracy = 1. - (len(x_test[y_test == 0]) / (len(x_test)*1.))\n",
    "    t0 = time()\n",
    "    sentiment_fit = pipeline.fit(x_train, y_train)\n",
    "    y_pred = sentiment_fit.predict(x_test)\n",
    "    train_test_time = time() - t0\n",
    "    accuracy = accuracy_score(y_test, y_pred)\n",
    "    print(\"null accuracy: {0:.2f}%\".format(null_accuracy*100))\n",
    "    print(\"accuracy score: {0:.2f}%\".format(accuracy*100))\n",
    "    if accuracy > null_accuracy:\n",
    "        print(\"model is {0:.2f}% more accurate than null accuracy\".format((accuracy-null_accuracy)*100))\n",
    "    elif accuracy == null_accuracy:\n",
    "        print(\"model has the same accuracy with the null accuracy\")\n",
    "    else:\n",
    "        print(\"model is {0:.2f}% less accurate than null accuracy\".format((null_accuracy-accuracy)*100))\n",
    "    print(\"train and test time: {0:.2f}s\".format(train_test_time))\n",
    "    print(\"-\"*80)\n",
    "    return accuracy, train_test_time\n",
    "\n",
    "cvec = CountVectorizer()\n",
    "tvec = TfidfVectorizer()\n",
    "lr = LogisticRegression(fit_intercept=True, C=1e6, solver='liblinear')\n",
    "n_features = np.arange(10000,120001,10000)\n",
    "\n",
    "def nfeature_accuracy_checker(vectorizer=tvec, n_features=n_features, stop_words=None, ngram_range=(1, 1), classifier=lr):\n",
    "    result = []\n",
    "    print(classifier)\n",
    "    print(\"\\n\")\n",
    "    for n in n_features:\n",
    "        vectorizer.set_params(stop_words=stop_words, max_features=n, ngram_range=ngram_range)\n",
    "        checker_pipeline = Pipeline([\n",
    "            ('vectorizer', vectorizer),\n",
    "            ('classifier', classifier)\n",
    "        ])\n",
    "        print(\"Validation result for {} features\".format(n))\n",
    "        nfeature_accuracy,tt_time = accuracy_summary(checker_pipeline, X_train, y_train, X_test, y_test)\n",
    "        result.append((n,nfeature_accuracy,tt_time))\n",
    "    return result\n",
    "\n",
    "feature_result_ugt = nfeature_accuracy_checker(vectorizer=tvec)\n",
    "feature_result_bgt = nfeature_accuracy_checker(vectorizer=tvec,ngram_range=(1, 2))\n",
    "feature_result_tgt = nfeature_accuracy_checker(vectorizer=tvec,ngram_range=(1, 3))\n",
    "\n",
    "\n",
    "nfeatures_plot_tgt = pd.DataFrame(feature_result_tgt,columns=['nfeatures','validation_accuracy','train_test_time'])\n",
    "nfeatures_plot_bgt = pd.DataFrame(feature_result_bgt,columns=['nfeatures','validation_accuracy','train_test_time'])\n",
    "nfeatures_plot_ugt = pd.DataFrame(feature_result_ugt,columns=['nfeatures','validation_accuracy','train_test_time'])\n",
    "plt.figure(figsize=(8,6))\n",
    "plt.plot(nfeatures_plot_tgt.nfeatures, nfeatures_plot_tgt.validation_accuracy,label='trigram tfidf vectorizer',color='royalblue')\n",
    "# plt.plot(nfeatures_plot_tgt.nfeatures, nfeatures_plot_tgt.validation_accuracy,label='trigram count vectorizer',linestyle=':', color='royalblue')\n",
    "plt.plot(nfeatures_plot_bgt.nfeatures, nfeatures_plot_bgt.validation_accuracy,label='bigram tfidf vectorizer',color='orangered')\n",
    "# plt.plot(nfeatures_plot_bg.nfeatures, nfeatures_plot_bg.validation_accuracy,label='bigram count vectorizer',linestyle=':',color='orangered')\n",
    "plt.plot(nfeatures_plot_ugt.nfeatures, nfeatures_plot_ugt.validation_accuracy, label='unigram tfidf vectorizer',color='gold')\n",
    "# plt.plot(nfeatures_plot_ug.nfeatures, nfeatures_plot_ug.validation_accuracy, label='unigram count vectorizer',linestyle=':',color='gold')\n",
    "plt.title(\"N-gram(1~3) test result : Accuracy\")\n",
    "plt.xlabel(\"Number of features\")\n",
    "plt.ylabel(\"Validation set accuracy\")\n",
    "plt.legend()"
   ]
  },
  {
   "cell_type": "code",
   "execution_count": 152,
   "metadata": {},
   "outputs": [],
   "source": [
    "from sklearn.decomposition import PCA\n",
    "from sklearn.decomposition import TruncatedSVD\n"
   ]
  },
  {
   "cell_type": "code",
   "execution_count": 164,
   "metadata": {},
   "outputs": [
    {
     "name": "stdout",
     "output_type": "stream",
     "text": [
      "               Fake        Real\n",
      "precision: [0.75247525 0.71962617]\n",
      "recall:    [0.88372093 0.50657895]\n",
      "f1 score:  [0.81283422 0.59459459]\n",
      "--------------------------------------------------\n",
      "               Fake        Real\n",
      "precision: [0.72222222 0.64423077]\n",
      "recall:    [0.85658915 0.44078947]\n",
      "f1 score:  [0.78368794 0.5234375 ]\n",
      "--------------------------------------------------\n",
      "               Fake        Real\n",
      "precision: [0.71384615 0.69411765]\n",
      "recall:    [0.89922481 0.38815789]\n",
      "f1 score:  [0.79588336 0.4978903 ]\n",
      "--------------------------------------------------\n",
      "               Fake        Real\n",
      "precision: [0.73148148 0.74418605]\n",
      "recall:    [0.91505792 0.42384106]\n",
      "f1 score:  [0.81303602 0.54008439]\n",
      "--------------------------------------------------\n",
      "               Fake        Real\n",
      "precision: [0.73548387 0.69      ]\n",
      "recall:    [0.88030888 0.45695364]\n",
      "f1 score:  [0.80140598 0.5498008 ]\n",
      "--------------------------------------------------\n",
      "accuracy: 72.29% (+/- 1.52%)\n",
      "precision: 71.48% (+/- 2.05%)\n",
      "recall: 66.51% (+/- 1.82%)\n",
      "f1 score: 67.13% (+/- 2.00%)\n"
     ]
    }
   ],
   "source": [
    "tvec = TfidfVectorizer(stop_words=None, max_features=125000, ngram_range=(1, 3))\n",
    "lr = LogisticRegression(fit_intercept=True, C=1e6, solver='liblinear')\n",
    "\n",
    "pca_pipeline = Pipeline([\n",
    "    ('vectorizer', tvec),\n",
    "    ('svd', TruncatedSVD(n_components=100)),\n",
    "    ('classifier', lr)\n",
    "])\n",
    "lr_cv(5, df.text, df.label, pca_pipeline, 'macro')"
   ]
  },
  {
   "cell_type": "code",
   "execution_count": 162,
   "metadata": {},
   "outputs": [
    {
     "name": "stdout",
     "output_type": "stream",
     "text": [
      "               Fake        Real\n",
      "precision: [0.79496403 0.71969697]\n",
      "recall:    [0.85658915 0.625     ]\n",
      "f1 score:  [0.82462687 0.66901408]\n",
      "--------------------------------------------------\n",
      "               Fake        Real\n",
      "precision: [0.79272727 0.7037037 ]\n",
      "recall:    [0.84496124 0.625     ]\n",
      "f1 score:  [0.81801126 0.66202091]\n",
      "--------------------------------------------------\n",
      "               Fake        Real\n",
      "precision: [0.78767123 0.76271186]\n",
      "recall:    [0.89147287 0.59210526]\n",
      "f1 score:  [0.83636364 0.66666667]\n",
      "--------------------------------------------------\n",
      "               Fake        Real\n",
      "precision: [0.81481481 0.84955752]\n",
      "recall:    [0.93436293 0.63576159]\n",
      "f1 score:  [0.8705036  0.72727273]\n",
      "--------------------------------------------------\n",
      "               Fake        Real\n",
      "precision: [0.80851064 0.7578125 ]\n",
      "recall:    [0.88030888 0.64238411]\n",
      "f1 score:  [0.84288355 0.6953405 ]\n",
      "--------------------------------------------------\n",
      "accuracy: 78.63% (+/- 2.14%)\n",
      "precision: 77.92% (+/- 2.92%)\n",
      "recall: 75.28% (+/- 1.84%)\n",
      "f1 score: 76.13% (+/- 2.11%)\n"
     ]
    }
   ],
   "source": [
    "tvec = TfidfVectorizer(stop_words=None, max_features=125000, ngram_range=(1, 3))\n",
    "lr = LogisticRegression(fit_intercept=True, C=1e6, solver='liblinear')\n",
    "\n",
    "pca_pipeline = Pipeline([\n",
    "    ('vectorizer', tvec),\n",
    "#     ('svd', TruncatedSVD(n_components=1000)),\n",
    "    ('classifier', lr)\n",
    "])\n",
    "lr_cv(5, df.text, df.label, pca_pipeline, 'macro')"
   ]
  },
  {
   "cell_type": "code",
   "execution_count": null,
   "metadata": {},
   "outputs": [],
   "source": [
    " ('pca', PCA(n_components=100))"
   ]
  },
  {
   "cell_type": "code",
   "execution_count": null,
   "metadata": {},
   "outputs": [],
   "source": [
    "svd = TruncatedSVD(n_components=5, random_state=42)\n",
    "data = svd.fit_transform(data) "
   ]
  }
 ],
 "metadata": {
  "kernelspec": {
   "display_name": "Python 3",
   "language": "python",
   "name": "python3"
  },
  "language_info": {
   "codemirror_mode": {
    "name": "ipython",
    "version": 3
   },
   "file_extension": ".py",
   "mimetype": "text/x-python",
   "name": "python",
   "nbconvert_exporter": "python",
   "pygments_lexer": "ipython3",
   "version": "3.8.3"
  },
  "toc": {
   "base_numbering": 1,
   "nav_menu": {},
   "number_sections": true,
   "sideBar": true,
   "skip_h1_title": false,
   "title_cell": "Table of Contents",
   "title_sidebar": "Contents",
   "toc_cell": false,
   "toc_position": {
    "height": "calc(100% - 180px)",
    "left": "10px",
    "top": "150px",
    "width": "165px"
   },
   "toc_section_display": true,
   "toc_window_display": false
  }
 },
 "nbformat": 4,
 "nbformat_minor": 4
}
